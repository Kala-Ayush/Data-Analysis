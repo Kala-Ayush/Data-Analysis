{
  "nbformat": 4,
  "nbformat_minor": 0,
  "metadata": {
    "colab": {
      "provenance": [],
      "include_colab_link": true
    },
    "kernelspec": {
      "name": "python3",
      "display_name": "Python 3"
    },
    "language_info": {
      "name": "python"
    }
  },
  "cells": [
    {
      "cell_type": "markdown",
      "metadata": {
        "id": "view-in-github",
        "colab_type": "text"
      },
      "source": [
        "<a href=\"https://colab.research.google.com/github/Kala-Ayush/Data-Analysis/blob/main/Stocks_Dashboard_Ayush_Kala.ipynb\" target=\"_parent\"><img src=\"https://colab.research.google.com/assets/colab-badge.svg\" alt=\"Open In Colab\"/></a>"
      ]
    },
    {
      "cell_type": "markdown",
      "source": [
        "# Prompt"
      ],
      "metadata": {
        "id": "b2pqHGlnmTkk"
      }
    },
    {
      "cell_type": "markdown",
      "source": [
        "\n",
        "Create an automated data dashboard which reads data about stock prices, and produces a corresponding chart of the prices over time. The dashboard should be produced by a reusable function, which, if written correctly, can be used in the provided \"Stocks Dashboard\" section at the very bottom of this notebook. The function will produce a dataviz of the stock prices over time, as well as a summary report of key metrics.\n",
        "\n",
        "\n",
        "\n"
      ],
      "metadata": {
        "id": "6eV-RyqEmVko"
      }
    },
    {
      "cell_type": "markdown",
      "source": [
        "# Instructions"
      ],
      "metadata": {
        "id": "5QfVMuOM9lf3"
      }
    },
    {
      "cell_type": "markdown",
      "source": [
        "\n",
        "1. **Make a copy of this notebook** so you can edit and save your own version of it. Do the work in your copy of the notebook.\n",
        "2. **Update the title of your notebook** to include your name and/or net id.\n",
        "\n",
        "3. **Write Python code in your notebook** in the \"Solution\" section to meet the requirements set forth in the \"Requirements\" section.\n"
      ],
      "metadata": {
        "id": "GwSt7_Ex9mxx"
      }
    },
    {
      "cell_type": "markdown",
      "source": [
        "# Colaboration"
      ],
      "metadata": {
        "id": "3FcmaF3e9pAB"
      }
    },
    {
      "cell_type": "markdown",
      "source": [
        "\n",
        "\n",
        "It is OK to discuss this exercise generally with other students, to work together, and even to share some code snippets.\n",
        "\n",
        "It's OK to search the Internet for helpful resources like the course repository and Stack Overflow.\n",
        "\n",
        "HOWEVER: If you receive help from another student, or an Internet resource other than the course repository, you are expected to **attribute the source of help** in either a text cell or code comment.\n",
        "\n",
        "Attribution Comment Examples:\n",
        "  + \"Student _____ helped me with this part\"\n",
        "  + \"Student _____ and I worked on this part together\"\n",
        "  + \"Found this code from URL ________\"\n"
      ],
      "metadata": {
        "id": "omZl58K59rJ5"
      }
    },
    {
      "cell_type": "markdown",
      "metadata": {
        "id": "3GXGZ01eXGD0"
      },
      "source": [
        "# Evaluation\n",
        "\n",
        "Submissions will be evaluated according to their ability to meet all requirements (see sections below), as summarized by the following rubric:\n",
        "\n",
        "  + The **Function and Parameter Requirements** are worth 20%. Only the code inside your function will be count for evaluation! Your function needs to produce all desired results. Remember to indent your code so it is within the scope of the function!\n",
        "\n",
        "  + The **Validation Requirements** are worth 20%. Use error handling or conditional logic to avoid a red / crashed cell when the symbol is invalid. DON'T MAKE ANY UNNECESSARY EXTRA REQUESTS IN THIS PROCESS.\n",
        "\n",
        "  + **Part I (Data Extraction)** is worth 20%. The API Key will need to be handled securely, otherwise compromised keys will lead to security deductions (see `getpass` related setup cell).\n",
        "\n",
        "  + **Part II (Data Visualization)** is worth 20%. For full points, make sure you produce a polished chart, with title and axis labels and prices formatted as USD. The further exploration challenges may earn bonus points.\n",
        "\n",
        "  + **Part III (Data Analysis)** is worth 20%. For full points, make sure you answer all questions correctly. Each question is worth around the same weight. The last two \"further exploration\" questions are optional, and deliberately harder / more involved, and may earn bonus points.\n",
        "\n",
        "  + For any \"further exploration\" challenges tackled in Part II or Part III, those will be eligible to earn up to 20% of bonus (10% for Part II bonus and/or 10% for Part III bonus).\n",
        "\n",
        "\n"
      ]
    },
    {
      "cell_type": "markdown",
      "metadata": {
        "id": "9l-2yKihBm11"
      },
      "source": [
        "# Requirements\n",
        "\n"
      ]
    },
    {
      "cell_type": "markdown",
      "source": [
        "## Function and Parameter Requirements"
      ],
      "metadata": {
        "id": "Y1487VgLsEYG"
      }
    },
    {
      "cell_type": "markdown",
      "source": [
        "Define a function called `generate_stocks_report()`.\n",
        "\n",
        "The function should accept a stock symbol as a parameter input, called `symbol`, which is expected to be a string datatype. If the symbol parameter is not supplied by the user during function invokation, the function should use `\"NFLX\"` as the default `symbol`.\n",
        "\n",
        "Example valid invocations (all equivalent):\n",
        "  + `generate_stocks_report()` -- uses default value of \"NFLX\"\n",
        "  + `generate_stocks_report(\"NFLX\")`\n",
        "  + `generate_stocks_report(symbol=\"NFLX\")`\n",
        "\n",
        "\n"
      ],
      "metadata": {
        "id": "Hpqun_sCrCft"
      }
    },
    {
      "cell_type": "markdown",
      "source": [
        "## Validation Requirements"
      ],
      "metadata": {
        "id": "iFwmRIdx1Nuz"
      }
    },
    {
      "cell_type": "markdown",
      "source": [
        "If an invalid stock symbol is passed in, the report generation function should gracefully handle any errors and display only a friendly error message like \"OOPS, couldn't find that stock. Please check your symbol and try again.\"\n",
        "\n",
        "For the AlphaVantage API, the only valid inputs are ones that lead to successful responses. If the user tries to input a symbol that that doesn't lead to a successful corresponding API response, that symbol is considered invalid.\n",
        "\n",
        "> HINT: in either case, try wrapping your data extraction method around a `try... except` block (see [Error Handling notes](https://github.com/prof-rossetti/intro-to-python/blob/main/notes/python/errors.md)), or using conditional logic (for example in this case, checking the dataframe's columns), to detect whether the extraction method has produced the data we need to move forward.\n",
        "\n",
        "In either case, the program should not try to process / analyze data that doesn't exist, and the program should avoid crashed / red cells."
      ],
      "metadata": {
        "id": "uHM7nMVn1MRY"
      }
    },
    {
      "cell_type": "markdown",
      "source": [
        "## Part I (Data Extraction)"
      ],
      "metadata": {
        "id": "gAn-noRWuwvN"
      }
    },
    {
      "cell_type": "markdown",
      "source": [
        "\n",
        "The program should fetch real-time stock market data from the Internet. In this case, the dashboard will be able to work with a broad range of stock symbols.\n",
        "Use the AlphaVantage API's [\"Daily Adjusted\" endpoint](https://www.alphavantage.co/documentation/#dailyadj) to fetch real-time stock market data from the Internet. This is a \"premium\" endpoint, so first obtain a premium API Key from the professor.\n",
        "\n",
        "> SECURITY NOTE: Remember to use `getpass` to securely ask for the user's API Key, to keep this credential secure and private. We shouldn't see it's value hard-coded or displayed / printed out anywhere. See the respective Setup Cell below, for an example of using `getpass`.\n",
        "\n",
        "> HINT: consult the docs for the \"Daily Adjusted\" endpoint to figure out how to request the data in CSV format instead of the default JSON format. The CSV format is much easier to work with!"
      ],
      "metadata": {
        "id": "ry2K6S4Pis67"
      }
    },
    {
      "cell_type": "markdown",
      "source": [
        "## Part II (Dataviz)"
      ],
      "metadata": {
        "id": "hblSKrSFr1Qp"
      }
    },
    {
      "cell_type": "markdown",
      "source": [
        "\n",
        "When invoked, the report generation function should also display a chart of the closing prices over time, including the following components:\n",
        "\n",
        "  1. **Chart Title**, which includes the selected stock symbol (i.e. `\"Daily Stock Prices (NFLX)\"`)\n",
        "  2. **Axis labels** (i.e. \"Closing Price\" and \"Date\" respectively).\n",
        "  3. **Prices formatted with a dollar signs**, wherever they appear (see axis ticks).\n",
        "\n",
        "\n",
        "Example:\n",
        "\n",
        "<img width=\"1266\" alt=\"Screen Shot 2021-10-21 at 10 08 39 AM\" src=\"https://user-images.githubusercontent.com/1328807/138295257-c285e730-721a-445f-868d-fab55588dab1.png\">\n",
        "\n",
        "> NOTE: It doesn't matter whether the chart is displayed before or after the stock details.\n",
        "\n",
        "> HINT: [plotly axis dollar-sign formatting](https://stackoverflow.com/a/58142945/670433)"
      ],
      "metadata": {
        "id": "GfiOnMsvr3ow"
      }
    },
    {
      "cell_type": "markdown",
      "source": [
        "**Further Exploration**\n",
        "\n",
        "In addition to the basic chart, consider also displaying a [candlestick chart](https://plotly.com/python/ohlc-charts/).\n",
        "\n",
        "If you do, consider displaying a 50-day moving average trend line as well. HINT: to add the trend line, you might need to plot two different graph objects (see [example](https://github.com/prof-rossetti/intro-to-python/blob/main/notes/python/packages/plotly.md#charting-multiple-graph-objects)).\n",
        "\n"
      ],
      "metadata": {
        "id": "-nqE2tQk3JB6"
      }
    },
    {
      "cell_type": "markdown",
      "source": [
        "## Part III (Data Analysis)"
      ],
      "metadata": {
        "id": "NyAiTk2htD_e"
      }
    },
    {
      "cell_type": "markdown",
      "source": [
        "**Basic Requirements**\n",
        "\n",
        "When invoked, the report generation function should reference the stock data obtained in Part I to display a report of details about the stock, including answers to the questions below.\n",
        "\n",
        "A) Print the **column names** / available fields (i.e. `['timestamp', 'open', 'high', 'low', 'close', 'adjusted_close', 'volume', 'dividend_amount', 'split_coefficient']`).\n",
        "\n",
        "B) Print the **number of rows** / available days (i.e. `100`).\n",
        "\n",
        "C) Print the **latest day** available (e.g. `2021-10-18`).\n",
        "\n",
        "D) Print the **earliest day** available (e.g.. `2021-05-27`).\n",
        "\n",
        "E) Print the (adjusted) **closing price on the latest day**, formatted as dollars and cents with a dollar sign and two decimal places (e.g. `$637.97`).\n",
        "\n",
        "F) Print the (adjusted) **closing price on the earliest day**, formatted as dollars and cents with a dollar sign and two decimal places (e.g. `$503.86`).\n",
        "\n",
        "G) Print the **100-day high price**, formatted as dollars and cents with a dollar sign and two decimal places (e.g. `$646.84`). NOTE: the 100-day high price is equal to the maximum of all the available high prices.\n",
        "\n",
        "\n",
        "H) Print the **100-day low price**, formatted as dollars and cents with a dollar sign and two decimal places (e.g. `$482.14`). NOTE: the 100-day low price is equal to the minimum of all the available low prices.\n",
        "\n",
        "**Further Exploration**\n",
        "\n",
        "I) Print the **percentage change** between the earliest closing price and the latest closing price, as identified in parts E and F, above, formatted with a percent sign and rounded to four decimal places (e.g. `26.6165%`). NOTE: percent change is defined as `(latest - earliest) / earliest`. HINT: leverage the `to_pct` function provided in the setup cell when printing the final percentage.\n",
        "\n",
        "J) Print the **50 day moving average price for the latest day** (e.g. something around `$581.32`, depending on your methodology). The 50-day moving average for each given day is calculated by averaging the closing prices of the previous 50 daily periods. HINT: create a separate column to store the 50-day moving average for each day, using the [`rolling` method](https://pandas.pydata.org/docs/reference/api/pandas.DataFrame.rolling.html) on the closing prices column, with a window of 50, and then taking the mean of those values.\n",
        "\n"
      ],
      "metadata": {
        "id": "MIxFLIyVsVuM"
      }
    },
    {
      "cell_type": "markdown",
      "metadata": {
        "id": "Nt4JHIjW5Sc7"
      },
      "source": [
        "# Setup"
      ]
    },
    {
      "cell_type": "code",
      "source": [
        "#\n",
        "# SETUP CELL (run and leave as-is)\n",
        "#\n",
        "\n",
        "from getpass import getpass\n",
        "\n",
        "API_KEY = getpass(\"Please input your AlphaVantage API Key: \")"
      ],
      "metadata": {
        "colab": {
          "base_uri": "https://localhost:8080/"
        },
        "id": "p8zJbagUpyJ-",
        "outputId": "d236c75e-16a5-4314-c3e2-042640d488fa"
      },
      "execution_count": null,
      "outputs": [
        {
          "name": "stdout",
          "output_type": "stream",
          "text": [
            "Please input your AlphaVantage API Key: ··········\n"
          ]
        }
      ]
    },
    {
      "cell_type": "code",
      "metadata": {
        "id": "FzzR6Rw_KNA4"
      },
      "source": [],
      "execution_count": null,
      "outputs": []
    },
    {
      "cell_type": "code",
      "source": [],
      "metadata": {
        "id": "jmWCF-poPZhG"
      },
      "execution_count": null,
      "outputs": []
    },
    {
      "cell_type": "markdown",
      "source": [
        "# Solution"
      ],
      "metadata": {
        "id": "pe3fw0QxxXx_"
      }
    },
    {
      "cell_type": "markdown",
      "metadata": {
        "id": "0YvtE8jBLUnQ"
      },
      "source": [
        "## Report Generation Function\n"
      ]
    },
    {
      "cell_type": "code",
      "source": [
        "from pandas import read_csv\n",
        "import sys\n",
        "import plotly.express as px\n",
        "import plotly.graph_objects as go\n",
        "\n",
        "def generate_stocks_report(symbol=\"NFLX\"):\n",
        "    try:\n",
        "        request_url = \"https://www.alphavantage.co/query?function=TIME_SERIES_DAILY_ADJUSTED&symbol=\" + symbol + \"&apikey=\" + API_KEY + \"&datatype=csv\"\n",
        "        df = read_csv(request_url)\n",
        "\n",
        "        fig = px.line(df, x=\"timestamp\", y=\"close\", height=400,\n",
        "                     title=\"Daily Stock Prices \" + \"(\" + symbol + \")\",\n",
        "                     labels={\"close\": \"Closing Price\", \"timestamp\": \"Date\"})\n",
        "        fig.update_layout(yaxis_tickprefix='$', yaxis_tickformat=',.')\n",
        "        fig.show()\n",
        "\n",
        "        fig2 = go.Figure(data=go.Ohlc(x=df['timestamp'],\n",
        "                                      open=df['open'],\n",
        "                                      high=df['high'],\n",
        "                                      low=df['low'],\n",
        "                                      close=df['close']))\n",
        "        fig2.update_layout(yaxis_tickprefix='$', yaxis_tickformat=',.')\n",
        "        fig2.show()\n",
        "\n",
        "        print(\"Available Fields:\", list(df.columns))\n",
        "        num_days = len(df)\n",
        "        print(\"Number of Available Days:\", num_days)\n",
        "        latest_date = df['timestamp'].iloc[0]\n",
        "        print(\"Latest Day Available:\", latest_date)\n",
        "        earliest_date = df['timestamp'].iloc[-1]\n",
        "        print(\"Earliest Day Available:\", earliest_date)\n",
        "        latest_close_price = df['adjusted_close'].iloc[0]\n",
        "        print(\"Adjusted Closing Price on Latest Day:\", f\"${latest_close_price:.2f}\")\n",
        "        earliest_close_price = df['adjusted_close'].iloc[-1]\n",
        "        print(\"Adjusted Closing Price on Earliest Day:\", f\"${earliest_close_price:.2f}\")\n",
        "        hundred_day_high = df['high'].max()\n",
        "        print(\"100-Day High Price:\", f\"${hundred_day_high:.2f}\")\n",
        "        hundred_day_low = df['low'].min()\n",
        "        print(\"100-Day Low Price:\", f\"${hundred_day_low:.2f}\")\n",
        "        percentage_change = ((latest_close_price - earliest_close_price) / earliest_close_price) * 100\n",
        "        print(\"Percentage Change between Earliest and Latest Closing Price:\", f\"{percentage_change:.4f}%\")\n",
        "        df['50_MA'] = df['adjusted_close'].rolling(window=50).mean()\n",
        "        latest_50_day_ma = df['50_MA'].iloc[-1]\n",
        "        print(\"50-Day Moving Average for Latest Day:\", f\"${latest_50_day_ma:.2f}\")\n",
        "\n",
        "    except Exception as err:\n",
        "        print(\"OOPS, couldn't find that stock. Please check your symbol and try again.\")\n",
        "        print(type(err))\n",
        "        print(err)\n",
        "        sys.exit(1)"
      ],
      "metadata": {
        "id": "9nGoho4xDCop"
      },
      "execution_count": null,
      "outputs": []
    },
    {
      "cell_type": "code",
      "source": [
        "# example invocation (for testing purposes):\n",
        "#generate_stocks_report(symbol=\"OOPS\")"
      ],
      "metadata": {
        "id": "9ibtitFhNNs2"
      },
      "execution_count": null,
      "outputs": []
    },
    {
      "cell_type": "markdown",
      "metadata": {
        "id": "b7MgzGtogBMq"
      },
      "source": [
        "## Stocks Data Dashboard\n",
        "\n",
        "If your function works, we should be able to use it within the context of the dashboard below:\n",
        "\n",
        " 1. Use the dropdown to select a stock symbol.\n",
        " 2. Run the cell to generate a report and chart chart of prices over time."
      ]
    },
    {
      "cell_type": "code",
      "metadata": {
        "id": "tQ9-AlkkQJ8F",
        "colab": {
          "base_uri": "https://localhost:8080/",
          "height": 1000
        },
        "outputId": "c3583d12-ebf4-49b8-f583-26f9feff53ea"
      },
      "source": [
        "# @title Stock Selection Form\n",
        "selected_symbol = \"GOOGL\" # @param ['MSFT', 'GOOGL', 'AAPL', 'NFLX', \"SBUX\", \"TSLA\", \"DIS\", \"NVDA\"]\n",
        "generate_stocks_report(selected_symbol)"
      ],
      "execution_count": null,
      "outputs": [
        {
          "output_type": "display_data",
          "data": {
            "text/html": [
              "<html>\n",
              "<head><meta charset=\"utf-8\" /></head>\n",
              "<body>\n",
              "    <div>            <script src=\"https://cdnjs.cloudflare.com/ajax/libs/mathjax/2.7.5/MathJax.js?config=TeX-AMS-MML_SVG\"></script><script type=\"text/javascript\">if (window.MathJax && window.MathJax.Hub && window.MathJax.Hub.Config) {window.MathJax.Hub.Config({SVG: {font: \"STIX-Web\"}});}</script>                <script type=\"text/javascript\">window.PlotlyConfig = {MathJaxConfig: 'local'};</script>\n",
              "        <script charset=\"utf-8\" src=\"https://cdn.plot.ly/plotly-2.24.1.min.js\"></script>                <div id=\"c2784147-cebe-49b1-ac04-93ab32bfe531\" class=\"plotly-graph-div\" style=\"height:400px; width:100%;\"></div>            <script type=\"text/javascript\">                                    window.PLOTLYENV=window.PLOTLYENV || {};                                    if (document.getElementById(\"c2784147-cebe-49b1-ac04-93ab32bfe531\")) {                    Plotly.newPlot(                        \"c2784147-cebe-49b1-ac04-93ab32bfe531\",                        [{\"hovertemplate\":\"Date=%{x}\\u003cbr\\u003eClosing Price=%{y}\\u003cextra\\u003e\\u003c\\u002fextra\\u003e\",\"legendgroup\":\"\",\"line\":{\"color\":\"#636efa\",\"dash\":\"solid\"},\"marker\":{\"symbol\":\"circle\"},\"mode\":\"lines\",\"name\":\"\",\"orientation\":\"v\",\"showlegend\":false,\"x\":[\"2023-10-20\",\"2023-10-19\",\"2023-10-18\",\"2023-10-17\",\"2023-10-16\",\"2023-10-13\",\"2023-10-12\",\"2023-10-11\",\"2023-10-10\",\"2023-10-09\",\"2023-10-06\",\"2023-10-05\",\"2023-10-04\",\"2023-10-03\",\"2023-10-02\",\"2023-09-29\",\"2023-09-28\",\"2023-09-27\",\"2023-09-26\",\"2023-09-25\",\"2023-09-22\",\"2023-09-21\",\"2023-09-20\",\"2023-09-19\",\"2023-09-18\",\"2023-09-15\",\"2023-09-14\",\"2023-09-13\",\"2023-09-12\",\"2023-09-11\",\"2023-09-08\",\"2023-09-07\",\"2023-09-06\",\"2023-09-05\",\"2023-09-01\",\"2023-08-31\",\"2023-08-30\",\"2023-08-29\",\"2023-08-28\",\"2023-08-25\",\"2023-08-24\",\"2023-08-23\",\"2023-08-22\",\"2023-08-21\",\"2023-08-18\",\"2023-08-17\",\"2023-08-16\",\"2023-08-15\",\"2023-08-14\",\"2023-08-11\",\"2023-08-10\",\"2023-08-09\",\"2023-08-08\",\"2023-08-07\",\"2023-08-04\",\"2023-08-03\",\"2023-08-02\",\"2023-08-01\",\"2023-07-31\",\"2023-07-28\",\"2023-07-27\",\"2023-07-26\",\"2023-07-25\",\"2023-07-24\",\"2023-07-21\",\"2023-07-20\",\"2023-07-19\",\"2023-07-18\",\"2023-07-17\",\"2023-07-14\",\"2023-07-13\",\"2023-07-12\",\"2023-07-11\",\"2023-07-10\",\"2023-07-07\",\"2023-07-06\",\"2023-07-05\",\"2023-07-03\",\"2023-06-30\",\"2023-06-29\",\"2023-06-28\",\"2023-06-27\",\"2023-06-26\",\"2023-06-23\",\"2023-06-22\",\"2023-06-21\",\"2023-06-20\",\"2023-06-16\",\"2023-06-15\",\"2023-06-14\",\"2023-06-13\",\"2023-06-12\",\"2023-06-09\",\"2023-06-08\",\"2023-06-07\",\"2023-06-06\",\"2023-06-05\",\"2023-06-02\",\"2023-06-01\",\"2023-05-31\"],\"xaxis\":\"x\",\"y\":[135.6,137.75,137.96,139.72,139.095,137.36,138.97,140.55,138.06,138.42,137.58,135.07,135.24,132.43,134.17,130.86,132.31,130.54,128.565,131.11,130.25,130.44,133.74,138.04,138.21,137.4,138.1,136.71,135.34,136.92,136.38,135.26,134.46,135.77,135.66,136.17,135.88,134.57,131.01,129.88,129.78,132.37,129.08,128.37,127.46,129.92,128.7,129.78,131.33,129.56,129.69,129.66,131.4,131.53,128.11,128.45,128.38,131.55,132.72,132.58,129.4,129.27,122.21,121.53,120.02,119.2,122.03,123.76,124.65,125.42,124.54,118.93,117.14,116.45,119.48,120.11,121.75,119.9,119.7,119.1,120.18,118.33,118.34,122.34,123.15,120.55,123.1,123.53,125.09,123.67,123.83,123.64,122.23,122.14,122.5,127.31,126.01,124.67,123.72,122.87],\"yaxis\":\"y\",\"type\":\"scatter\"}],                        {\"template\":{\"data\":{\"histogram2dcontour\":[{\"type\":\"histogram2dcontour\",\"colorbar\":{\"outlinewidth\":0,\"ticks\":\"\"},\"colorscale\":[[0.0,\"#0d0887\"],[0.1111111111111111,\"#46039f\"],[0.2222222222222222,\"#7201a8\"],[0.3333333333333333,\"#9c179e\"],[0.4444444444444444,\"#bd3786\"],[0.5555555555555556,\"#d8576b\"],[0.6666666666666666,\"#ed7953\"],[0.7777777777777778,\"#fb9f3a\"],[0.8888888888888888,\"#fdca26\"],[1.0,\"#f0f921\"]]}],\"choropleth\":[{\"type\":\"choropleth\",\"colorbar\":{\"outlinewidth\":0,\"ticks\":\"\"}}],\"histogram2d\":[{\"type\":\"histogram2d\",\"colorbar\":{\"outlinewidth\":0,\"ticks\":\"\"},\"colorscale\":[[0.0,\"#0d0887\"],[0.1111111111111111,\"#46039f\"],[0.2222222222222222,\"#7201a8\"],[0.3333333333333333,\"#9c179e\"],[0.4444444444444444,\"#bd3786\"],[0.5555555555555556,\"#d8576b\"],[0.6666666666666666,\"#ed7953\"],[0.7777777777777778,\"#fb9f3a\"],[0.8888888888888888,\"#fdca26\"],[1.0,\"#f0f921\"]]}],\"heatmap\":[{\"type\":\"heatmap\",\"colorbar\":{\"outlinewidth\":0,\"ticks\":\"\"},\"colorscale\":[[0.0,\"#0d0887\"],[0.1111111111111111,\"#46039f\"],[0.2222222222222222,\"#7201a8\"],[0.3333333333333333,\"#9c179e\"],[0.4444444444444444,\"#bd3786\"],[0.5555555555555556,\"#d8576b\"],[0.6666666666666666,\"#ed7953\"],[0.7777777777777778,\"#fb9f3a\"],[0.8888888888888888,\"#fdca26\"],[1.0,\"#f0f921\"]]}],\"heatmapgl\":[{\"type\":\"heatmapgl\",\"colorbar\":{\"outlinewidth\":0,\"ticks\":\"\"},\"colorscale\":[[0.0,\"#0d0887\"],[0.1111111111111111,\"#46039f\"],[0.2222222222222222,\"#7201a8\"],[0.3333333333333333,\"#9c179e\"],[0.4444444444444444,\"#bd3786\"],[0.5555555555555556,\"#d8576b\"],[0.6666666666666666,\"#ed7953\"],[0.7777777777777778,\"#fb9f3a\"],[0.8888888888888888,\"#fdca26\"],[1.0,\"#f0f921\"]]}],\"contourcarpet\":[{\"type\":\"contourcarpet\",\"colorbar\":{\"outlinewidth\":0,\"ticks\":\"\"}}],\"contour\":[{\"type\":\"contour\",\"colorbar\":{\"outlinewidth\":0,\"ticks\":\"\"},\"colorscale\":[[0.0,\"#0d0887\"],[0.1111111111111111,\"#46039f\"],[0.2222222222222222,\"#7201a8\"],[0.3333333333333333,\"#9c179e\"],[0.4444444444444444,\"#bd3786\"],[0.5555555555555556,\"#d8576b\"],[0.6666666666666666,\"#ed7953\"],[0.7777777777777778,\"#fb9f3a\"],[0.8888888888888888,\"#fdca26\"],[1.0,\"#f0f921\"]]}],\"surface\":[{\"type\":\"surface\",\"colorbar\":{\"outlinewidth\":0,\"ticks\":\"\"},\"colorscale\":[[0.0,\"#0d0887\"],[0.1111111111111111,\"#46039f\"],[0.2222222222222222,\"#7201a8\"],[0.3333333333333333,\"#9c179e\"],[0.4444444444444444,\"#bd3786\"],[0.5555555555555556,\"#d8576b\"],[0.6666666666666666,\"#ed7953\"],[0.7777777777777778,\"#fb9f3a\"],[0.8888888888888888,\"#fdca26\"],[1.0,\"#f0f921\"]]}],\"mesh3d\":[{\"type\":\"mesh3d\",\"colorbar\":{\"outlinewidth\":0,\"ticks\":\"\"}}],\"scatter\":[{\"fillpattern\":{\"fillmode\":\"overlay\",\"size\":10,\"solidity\":0.2},\"type\":\"scatter\"}],\"parcoords\":[{\"type\":\"parcoords\",\"line\":{\"colorbar\":{\"outlinewidth\":0,\"ticks\":\"\"}}}],\"scatterpolargl\":[{\"type\":\"scatterpolargl\",\"marker\":{\"colorbar\":{\"outlinewidth\":0,\"ticks\":\"\"}}}],\"bar\":[{\"error_x\":{\"color\":\"#2a3f5f\"},\"error_y\":{\"color\":\"#2a3f5f\"},\"marker\":{\"line\":{\"color\":\"#E5ECF6\",\"width\":0.5},\"pattern\":{\"fillmode\":\"overlay\",\"size\":10,\"solidity\":0.2}},\"type\":\"bar\"}],\"scattergeo\":[{\"type\":\"scattergeo\",\"marker\":{\"colorbar\":{\"outlinewidth\":0,\"ticks\":\"\"}}}],\"scatterpolar\":[{\"type\":\"scatterpolar\",\"marker\":{\"colorbar\":{\"outlinewidth\":0,\"ticks\":\"\"}}}],\"histogram\":[{\"marker\":{\"pattern\":{\"fillmode\":\"overlay\",\"size\":10,\"solidity\":0.2}},\"type\":\"histogram\"}],\"scattergl\":[{\"type\":\"scattergl\",\"marker\":{\"colorbar\":{\"outlinewidth\":0,\"ticks\":\"\"}}}],\"scatter3d\":[{\"type\":\"scatter3d\",\"line\":{\"colorbar\":{\"outlinewidth\":0,\"ticks\":\"\"}},\"marker\":{\"colorbar\":{\"outlinewidth\":0,\"ticks\":\"\"}}}],\"scattermapbox\":[{\"type\":\"scattermapbox\",\"marker\":{\"colorbar\":{\"outlinewidth\":0,\"ticks\":\"\"}}}],\"scatterternary\":[{\"type\":\"scatterternary\",\"marker\":{\"colorbar\":{\"outlinewidth\":0,\"ticks\":\"\"}}}],\"scattercarpet\":[{\"type\":\"scattercarpet\",\"marker\":{\"colorbar\":{\"outlinewidth\":0,\"ticks\":\"\"}}}],\"carpet\":[{\"aaxis\":{\"endlinecolor\":\"#2a3f5f\",\"gridcolor\":\"white\",\"linecolor\":\"white\",\"minorgridcolor\":\"white\",\"startlinecolor\":\"#2a3f5f\"},\"baxis\":{\"endlinecolor\":\"#2a3f5f\",\"gridcolor\":\"white\",\"linecolor\":\"white\",\"minorgridcolor\":\"white\",\"startlinecolor\":\"#2a3f5f\"},\"type\":\"carpet\"}],\"table\":[{\"cells\":{\"fill\":{\"color\":\"#EBF0F8\"},\"line\":{\"color\":\"white\"}},\"header\":{\"fill\":{\"color\":\"#C8D4E3\"},\"line\":{\"color\":\"white\"}},\"type\":\"table\"}],\"barpolar\":[{\"marker\":{\"line\":{\"color\":\"#E5ECF6\",\"width\":0.5},\"pattern\":{\"fillmode\":\"overlay\",\"size\":10,\"solidity\":0.2}},\"type\":\"barpolar\"}],\"pie\":[{\"automargin\":true,\"type\":\"pie\"}]},\"layout\":{\"autotypenumbers\":\"strict\",\"colorway\":[\"#636efa\",\"#EF553B\",\"#00cc96\",\"#ab63fa\",\"#FFA15A\",\"#19d3f3\",\"#FF6692\",\"#B6E880\",\"#FF97FF\",\"#FECB52\"],\"font\":{\"color\":\"#2a3f5f\"},\"hovermode\":\"closest\",\"hoverlabel\":{\"align\":\"left\"},\"paper_bgcolor\":\"white\",\"plot_bgcolor\":\"#E5ECF6\",\"polar\":{\"bgcolor\":\"#E5ECF6\",\"angularaxis\":{\"gridcolor\":\"white\",\"linecolor\":\"white\",\"ticks\":\"\"},\"radialaxis\":{\"gridcolor\":\"white\",\"linecolor\":\"white\",\"ticks\":\"\"}},\"ternary\":{\"bgcolor\":\"#E5ECF6\",\"aaxis\":{\"gridcolor\":\"white\",\"linecolor\":\"white\",\"ticks\":\"\"},\"baxis\":{\"gridcolor\":\"white\",\"linecolor\":\"white\",\"ticks\":\"\"},\"caxis\":{\"gridcolor\":\"white\",\"linecolor\":\"white\",\"ticks\":\"\"}},\"coloraxis\":{\"colorbar\":{\"outlinewidth\":0,\"ticks\":\"\"}},\"colorscale\":{\"sequential\":[[0.0,\"#0d0887\"],[0.1111111111111111,\"#46039f\"],[0.2222222222222222,\"#7201a8\"],[0.3333333333333333,\"#9c179e\"],[0.4444444444444444,\"#bd3786\"],[0.5555555555555556,\"#d8576b\"],[0.6666666666666666,\"#ed7953\"],[0.7777777777777778,\"#fb9f3a\"],[0.8888888888888888,\"#fdca26\"],[1.0,\"#f0f921\"]],\"sequentialminus\":[[0.0,\"#0d0887\"],[0.1111111111111111,\"#46039f\"],[0.2222222222222222,\"#7201a8\"],[0.3333333333333333,\"#9c179e\"],[0.4444444444444444,\"#bd3786\"],[0.5555555555555556,\"#d8576b\"],[0.6666666666666666,\"#ed7953\"],[0.7777777777777778,\"#fb9f3a\"],[0.8888888888888888,\"#fdca26\"],[1.0,\"#f0f921\"]],\"diverging\":[[0,\"#8e0152\"],[0.1,\"#c51b7d\"],[0.2,\"#de77ae\"],[0.3,\"#f1b6da\"],[0.4,\"#fde0ef\"],[0.5,\"#f7f7f7\"],[0.6,\"#e6f5d0\"],[0.7,\"#b8e186\"],[0.8,\"#7fbc41\"],[0.9,\"#4d9221\"],[1,\"#276419\"]]},\"xaxis\":{\"gridcolor\":\"white\",\"linecolor\":\"white\",\"ticks\":\"\",\"title\":{\"standoff\":15},\"zerolinecolor\":\"white\",\"automargin\":true,\"zerolinewidth\":2},\"yaxis\":{\"gridcolor\":\"white\",\"linecolor\":\"white\",\"ticks\":\"\",\"title\":{\"standoff\":15},\"zerolinecolor\":\"white\",\"automargin\":true,\"zerolinewidth\":2},\"scene\":{\"xaxis\":{\"backgroundcolor\":\"#E5ECF6\",\"gridcolor\":\"white\",\"linecolor\":\"white\",\"showbackground\":true,\"ticks\":\"\",\"zerolinecolor\":\"white\",\"gridwidth\":2},\"yaxis\":{\"backgroundcolor\":\"#E5ECF6\",\"gridcolor\":\"white\",\"linecolor\":\"white\",\"showbackground\":true,\"ticks\":\"\",\"zerolinecolor\":\"white\",\"gridwidth\":2},\"zaxis\":{\"backgroundcolor\":\"#E5ECF6\",\"gridcolor\":\"white\",\"linecolor\":\"white\",\"showbackground\":true,\"ticks\":\"\",\"zerolinecolor\":\"white\",\"gridwidth\":2}},\"shapedefaults\":{\"line\":{\"color\":\"#2a3f5f\"}},\"annotationdefaults\":{\"arrowcolor\":\"#2a3f5f\",\"arrowhead\":0,\"arrowwidth\":1},\"geo\":{\"bgcolor\":\"white\",\"landcolor\":\"#E5ECF6\",\"subunitcolor\":\"white\",\"showland\":true,\"showlakes\":true,\"lakecolor\":\"white\"},\"title\":{\"x\":0.05},\"mapbox\":{\"style\":\"light\"}}},\"xaxis\":{\"anchor\":\"y\",\"domain\":[0.0,1.0],\"title\":{\"text\":\"Date\"}},\"yaxis\":{\"anchor\":\"x\",\"domain\":[0.0,1.0],\"title\":{\"text\":\"Closing Price\"},\"tickprefix\":\"$\",\"tickformat\":\",.\"},\"legend\":{\"tracegroupgap\":0},\"title\":{\"text\":\"Daily Stock Prices (GOOGL)\"},\"height\":400},                        {\"responsive\": true}                    ).then(function(){\n",
              "                            \n",
              "var gd = document.getElementById('c2784147-cebe-49b1-ac04-93ab32bfe531');\n",
              "var x = new MutationObserver(function (mutations, observer) {{\n",
              "        var display = window.getComputedStyle(gd).display;\n",
              "        if (!display || display === 'none') {{\n",
              "            console.log([gd, 'removed!']);\n",
              "            Plotly.purge(gd);\n",
              "            observer.disconnect();\n",
              "        }}\n",
              "}});\n",
              "\n",
              "// Listen for the removal of the full notebook cells\n",
              "var notebookContainer = gd.closest('#notebook-container');\n",
              "if (notebookContainer) {{\n",
              "    x.observe(notebookContainer, {childList: true});\n",
              "}}\n",
              "\n",
              "// Listen for the clearing of the current output cell\n",
              "var outputEl = gd.closest('.output');\n",
              "if (outputEl) {{\n",
              "    x.observe(outputEl, {childList: true});\n",
              "}}\n",
              "\n",
              "                        })                };                            </script>        </div>\n",
              "</body>\n",
              "</html>"
            ]
          },
          "metadata": {}
        },
        {
          "output_type": "display_data",
          "data": {
            "text/html": [
              "<html>\n",
              "<head><meta charset=\"utf-8\" /></head>\n",
              "<body>\n",
              "    <div>            <script src=\"https://cdnjs.cloudflare.com/ajax/libs/mathjax/2.7.5/MathJax.js?config=TeX-AMS-MML_SVG\"></script><script type=\"text/javascript\">if (window.MathJax && window.MathJax.Hub && window.MathJax.Hub.Config) {window.MathJax.Hub.Config({SVG: {font: \"STIX-Web\"}});}</script>                <script type=\"text/javascript\">window.PlotlyConfig = {MathJaxConfig: 'local'};</script>\n",
              "        <script charset=\"utf-8\" src=\"https://cdn.plot.ly/plotly-2.24.1.min.js\"></script>                <div id=\"2ec38592-59f0-454e-97f2-a1c1139971ea\" class=\"plotly-graph-div\" style=\"height:525px; width:100%;\"></div>            <script type=\"text/javascript\">                                    window.PLOTLYENV=window.PLOTLYENV || {};                                    if (document.getElementById(\"2ec38592-59f0-454e-97f2-a1c1139971ea\")) {                    Plotly.newPlot(                        \"2ec38592-59f0-454e-97f2-a1c1139971ea\",                        [{\"close\":[135.6,137.75,137.96,139.72,139.095,137.36,138.97,140.55,138.06,138.42,137.58,135.07,135.24,132.43,134.17,130.86,132.31,130.54,128.565,131.11,130.25,130.44,133.74,138.04,138.21,137.4,138.1,136.71,135.34,136.92,136.38,135.26,134.46,135.77,135.66,136.17,135.88,134.57,131.01,129.88,129.78,132.37,129.08,128.37,127.46,129.92,128.7,129.78,131.33,129.56,129.69,129.66,131.4,131.53,128.11,128.45,128.38,131.55,132.72,132.58,129.4,129.27,122.21,121.53,120.02,119.2,122.03,123.76,124.65,125.42,124.54,118.93,117.14,116.45,119.48,120.11,121.75,119.9,119.7,119.1,120.18,118.33,118.34,122.34,123.15,120.55,123.1,123.53,125.09,123.67,123.83,123.64,122.23,122.14,122.5,127.31,126.01,124.67,123.72,122.87],\"high\":[137.87,139.66,140.72,139.9,139.63,140.0,141.22,141.11,139.72,138.94,138.155,135.49,135.57,134.26,134.42,134.05,133.3,130.895,130.3645,131.17,132.025,132.23,138.08,138.41,139.16,138.52,138.695,136.9,136.8701,137.48,136.66,135.58,136.5299,136.42,137.455,138.0,136.275,136.57,132.54,130.76,134.25,133.41,130.278,128.725,129.25,131.99,130.2809,131.42,131.37,129.93,132.05,132.04,131.51,131.61,131.51,129.385,130.09,132.63,133.525,133.74,133.24,130.98,123.145,123.0,120.99,124.09,125.18,124.68,127.0999,126.775,124.83,120.33,117.71,118.305,121.05,120.3,122.61,120.19,121.08,120.06,120.39,119.08,122.0,122.7879,123.24,122.66,124.57,126.108,125.46,124.05,125.16,124.05,123.755,123.225,129.04,128.29,127.43,126.15,124.42,124.0601],\"low\":[135.08,137.38,137.38,137.18,137.99,136.615,138.26,138.58,137.33,135.61,134.01,133.45,132.53,131.84,131.17,130.36,129.79,128.57,127.22,128.96,129.6,130.07,133.62,136.62,136.61,136.48,136.24,134.15,135.19,135.785,134.85,132.95,133.665,134.5801,134.85,135.79,134.07,132.24,130.14,127.25,129.57,129.87,128.32,126.56,126.3824,129.29,127.865,129.28,128.96,128.17,129.45,129.0,129.545,129.02,127.91,127.42,127.56,130.68,131.775,130.57,128.79,128.32,121.02,120.98,118.73,118.22,121.8,122.96,124.195,123.49,120.45,118.4145,115.35,116.135,119.4,118.4,119.23,118.8182,119.69,118.295,116.85,116.1,118.265,121.06,118.83,120.1,122.14,123.28,122.4,121.45,123.18,121.66,121.91,121.24,122.12,125.36,123.84,123.76,122.62,122.5],\"open\":[137.33,138.5,139.445,138.63,138.17,139.38,141.05,138.58,138.5,136.94,134.01,135.07,132.79,133.94,131.21,133.28,129.84,128.57,129.77,129.83,130.76,131.44,138.08,137.42,136.61,137.98,137.6,135.09,136.26,136.54,134.91,133.59,136.02,135.44,137.455,136.01,134.78,132.24,131.31,129.54,133.95,130.18,128.51,127.175,128.51,129.8,128.7,131.1,129.39,128.66,131.32,131.66,130.62,129.16,129.28,127.97,129.45,130.775,132.73,130.78,131.67,130.07,121.36,121.66,120.62,121.42,124.6,124.6,125.94,124.8,120.93,118.8,116.29,118.3,120.1,119.795,119.24,119.24,120.17,119.24,117.09,117.08,120.76,121.38,120.0,122.4,122.93,125.93,123.14,123.1,124.98,122.785,122.25,122.225,126.97,126.01,124.01,123.99,122.815,122.75],\"x\":[\"2023-10-20\",\"2023-10-19\",\"2023-10-18\",\"2023-10-17\",\"2023-10-16\",\"2023-10-13\",\"2023-10-12\",\"2023-10-11\",\"2023-10-10\",\"2023-10-09\",\"2023-10-06\",\"2023-10-05\",\"2023-10-04\",\"2023-10-03\",\"2023-10-02\",\"2023-09-29\",\"2023-09-28\",\"2023-09-27\",\"2023-09-26\",\"2023-09-25\",\"2023-09-22\",\"2023-09-21\",\"2023-09-20\",\"2023-09-19\",\"2023-09-18\",\"2023-09-15\",\"2023-09-14\",\"2023-09-13\",\"2023-09-12\",\"2023-09-11\",\"2023-09-08\",\"2023-09-07\",\"2023-09-06\",\"2023-09-05\",\"2023-09-01\",\"2023-08-31\",\"2023-08-30\",\"2023-08-29\",\"2023-08-28\",\"2023-08-25\",\"2023-08-24\",\"2023-08-23\",\"2023-08-22\",\"2023-08-21\",\"2023-08-18\",\"2023-08-17\",\"2023-08-16\",\"2023-08-15\",\"2023-08-14\",\"2023-08-11\",\"2023-08-10\",\"2023-08-09\",\"2023-08-08\",\"2023-08-07\",\"2023-08-04\",\"2023-08-03\",\"2023-08-02\",\"2023-08-01\",\"2023-07-31\",\"2023-07-28\",\"2023-07-27\",\"2023-07-26\",\"2023-07-25\",\"2023-07-24\",\"2023-07-21\",\"2023-07-20\",\"2023-07-19\",\"2023-07-18\",\"2023-07-17\",\"2023-07-14\",\"2023-07-13\",\"2023-07-12\",\"2023-07-11\",\"2023-07-10\",\"2023-07-07\",\"2023-07-06\",\"2023-07-05\",\"2023-07-03\",\"2023-06-30\",\"2023-06-29\",\"2023-06-28\",\"2023-06-27\",\"2023-06-26\",\"2023-06-23\",\"2023-06-22\",\"2023-06-21\",\"2023-06-20\",\"2023-06-16\",\"2023-06-15\",\"2023-06-14\",\"2023-06-13\",\"2023-06-12\",\"2023-06-09\",\"2023-06-08\",\"2023-06-07\",\"2023-06-06\",\"2023-06-05\",\"2023-06-02\",\"2023-06-01\",\"2023-05-31\"],\"type\":\"ohlc\"}],                        {\"template\":{\"data\":{\"histogram2dcontour\":[{\"type\":\"histogram2dcontour\",\"colorbar\":{\"outlinewidth\":0,\"ticks\":\"\"},\"colorscale\":[[0.0,\"#0d0887\"],[0.1111111111111111,\"#46039f\"],[0.2222222222222222,\"#7201a8\"],[0.3333333333333333,\"#9c179e\"],[0.4444444444444444,\"#bd3786\"],[0.5555555555555556,\"#d8576b\"],[0.6666666666666666,\"#ed7953\"],[0.7777777777777778,\"#fb9f3a\"],[0.8888888888888888,\"#fdca26\"],[1.0,\"#f0f921\"]]}],\"choropleth\":[{\"type\":\"choropleth\",\"colorbar\":{\"outlinewidth\":0,\"ticks\":\"\"}}],\"histogram2d\":[{\"type\":\"histogram2d\",\"colorbar\":{\"outlinewidth\":0,\"ticks\":\"\"},\"colorscale\":[[0.0,\"#0d0887\"],[0.1111111111111111,\"#46039f\"],[0.2222222222222222,\"#7201a8\"],[0.3333333333333333,\"#9c179e\"],[0.4444444444444444,\"#bd3786\"],[0.5555555555555556,\"#d8576b\"],[0.6666666666666666,\"#ed7953\"],[0.7777777777777778,\"#fb9f3a\"],[0.8888888888888888,\"#fdca26\"],[1.0,\"#f0f921\"]]}],\"heatmap\":[{\"type\":\"heatmap\",\"colorbar\":{\"outlinewidth\":0,\"ticks\":\"\"},\"colorscale\":[[0.0,\"#0d0887\"],[0.1111111111111111,\"#46039f\"],[0.2222222222222222,\"#7201a8\"],[0.3333333333333333,\"#9c179e\"],[0.4444444444444444,\"#bd3786\"],[0.5555555555555556,\"#d8576b\"],[0.6666666666666666,\"#ed7953\"],[0.7777777777777778,\"#fb9f3a\"],[0.8888888888888888,\"#fdca26\"],[1.0,\"#f0f921\"]]}],\"heatmapgl\":[{\"type\":\"heatmapgl\",\"colorbar\":{\"outlinewidth\":0,\"ticks\":\"\"},\"colorscale\":[[0.0,\"#0d0887\"],[0.1111111111111111,\"#46039f\"],[0.2222222222222222,\"#7201a8\"],[0.3333333333333333,\"#9c179e\"],[0.4444444444444444,\"#bd3786\"],[0.5555555555555556,\"#d8576b\"],[0.6666666666666666,\"#ed7953\"],[0.7777777777777778,\"#fb9f3a\"],[0.8888888888888888,\"#fdca26\"],[1.0,\"#f0f921\"]]}],\"contourcarpet\":[{\"type\":\"contourcarpet\",\"colorbar\":{\"outlinewidth\":0,\"ticks\":\"\"}}],\"contour\":[{\"type\":\"contour\",\"colorbar\":{\"outlinewidth\":0,\"ticks\":\"\"},\"colorscale\":[[0.0,\"#0d0887\"],[0.1111111111111111,\"#46039f\"],[0.2222222222222222,\"#7201a8\"],[0.3333333333333333,\"#9c179e\"],[0.4444444444444444,\"#bd3786\"],[0.5555555555555556,\"#d8576b\"],[0.6666666666666666,\"#ed7953\"],[0.7777777777777778,\"#fb9f3a\"],[0.8888888888888888,\"#fdca26\"],[1.0,\"#f0f921\"]]}],\"surface\":[{\"type\":\"surface\",\"colorbar\":{\"outlinewidth\":0,\"ticks\":\"\"},\"colorscale\":[[0.0,\"#0d0887\"],[0.1111111111111111,\"#46039f\"],[0.2222222222222222,\"#7201a8\"],[0.3333333333333333,\"#9c179e\"],[0.4444444444444444,\"#bd3786\"],[0.5555555555555556,\"#d8576b\"],[0.6666666666666666,\"#ed7953\"],[0.7777777777777778,\"#fb9f3a\"],[0.8888888888888888,\"#fdca26\"],[1.0,\"#f0f921\"]]}],\"mesh3d\":[{\"type\":\"mesh3d\",\"colorbar\":{\"outlinewidth\":0,\"ticks\":\"\"}}],\"scatter\":[{\"fillpattern\":{\"fillmode\":\"overlay\",\"size\":10,\"solidity\":0.2},\"type\":\"scatter\"}],\"parcoords\":[{\"type\":\"parcoords\",\"line\":{\"colorbar\":{\"outlinewidth\":0,\"ticks\":\"\"}}}],\"scatterpolargl\":[{\"type\":\"scatterpolargl\",\"marker\":{\"colorbar\":{\"outlinewidth\":0,\"ticks\":\"\"}}}],\"bar\":[{\"error_x\":{\"color\":\"#2a3f5f\"},\"error_y\":{\"color\":\"#2a3f5f\"},\"marker\":{\"line\":{\"color\":\"#E5ECF6\",\"width\":0.5},\"pattern\":{\"fillmode\":\"overlay\",\"size\":10,\"solidity\":0.2}},\"type\":\"bar\"}],\"scattergeo\":[{\"type\":\"scattergeo\",\"marker\":{\"colorbar\":{\"outlinewidth\":0,\"ticks\":\"\"}}}],\"scatterpolar\":[{\"type\":\"scatterpolar\",\"marker\":{\"colorbar\":{\"outlinewidth\":0,\"ticks\":\"\"}}}],\"histogram\":[{\"marker\":{\"pattern\":{\"fillmode\":\"overlay\",\"size\":10,\"solidity\":0.2}},\"type\":\"histogram\"}],\"scattergl\":[{\"type\":\"scattergl\",\"marker\":{\"colorbar\":{\"outlinewidth\":0,\"ticks\":\"\"}}}],\"scatter3d\":[{\"type\":\"scatter3d\",\"line\":{\"colorbar\":{\"outlinewidth\":0,\"ticks\":\"\"}},\"marker\":{\"colorbar\":{\"outlinewidth\":0,\"ticks\":\"\"}}}],\"scattermapbox\":[{\"type\":\"scattermapbox\",\"marker\":{\"colorbar\":{\"outlinewidth\":0,\"ticks\":\"\"}}}],\"scatterternary\":[{\"type\":\"scatterternary\",\"marker\":{\"colorbar\":{\"outlinewidth\":0,\"ticks\":\"\"}}}],\"scattercarpet\":[{\"type\":\"scattercarpet\",\"marker\":{\"colorbar\":{\"outlinewidth\":0,\"ticks\":\"\"}}}],\"carpet\":[{\"aaxis\":{\"endlinecolor\":\"#2a3f5f\",\"gridcolor\":\"white\",\"linecolor\":\"white\",\"minorgridcolor\":\"white\",\"startlinecolor\":\"#2a3f5f\"},\"baxis\":{\"endlinecolor\":\"#2a3f5f\",\"gridcolor\":\"white\",\"linecolor\":\"white\",\"minorgridcolor\":\"white\",\"startlinecolor\":\"#2a3f5f\"},\"type\":\"carpet\"}],\"table\":[{\"cells\":{\"fill\":{\"color\":\"#EBF0F8\"},\"line\":{\"color\":\"white\"}},\"header\":{\"fill\":{\"color\":\"#C8D4E3\"},\"line\":{\"color\":\"white\"}},\"type\":\"table\"}],\"barpolar\":[{\"marker\":{\"line\":{\"color\":\"#E5ECF6\",\"width\":0.5},\"pattern\":{\"fillmode\":\"overlay\",\"size\":10,\"solidity\":0.2}},\"type\":\"barpolar\"}],\"pie\":[{\"automargin\":true,\"type\":\"pie\"}]},\"layout\":{\"autotypenumbers\":\"strict\",\"colorway\":[\"#636efa\",\"#EF553B\",\"#00cc96\",\"#ab63fa\",\"#FFA15A\",\"#19d3f3\",\"#FF6692\",\"#B6E880\",\"#FF97FF\",\"#FECB52\"],\"font\":{\"color\":\"#2a3f5f\"},\"hovermode\":\"closest\",\"hoverlabel\":{\"align\":\"left\"},\"paper_bgcolor\":\"white\",\"plot_bgcolor\":\"#E5ECF6\",\"polar\":{\"bgcolor\":\"#E5ECF6\",\"angularaxis\":{\"gridcolor\":\"white\",\"linecolor\":\"white\",\"ticks\":\"\"},\"radialaxis\":{\"gridcolor\":\"white\",\"linecolor\":\"white\",\"ticks\":\"\"}},\"ternary\":{\"bgcolor\":\"#E5ECF6\",\"aaxis\":{\"gridcolor\":\"white\",\"linecolor\":\"white\",\"ticks\":\"\"},\"baxis\":{\"gridcolor\":\"white\",\"linecolor\":\"white\",\"ticks\":\"\"},\"caxis\":{\"gridcolor\":\"white\",\"linecolor\":\"white\",\"ticks\":\"\"}},\"coloraxis\":{\"colorbar\":{\"outlinewidth\":0,\"ticks\":\"\"}},\"colorscale\":{\"sequential\":[[0.0,\"#0d0887\"],[0.1111111111111111,\"#46039f\"],[0.2222222222222222,\"#7201a8\"],[0.3333333333333333,\"#9c179e\"],[0.4444444444444444,\"#bd3786\"],[0.5555555555555556,\"#d8576b\"],[0.6666666666666666,\"#ed7953\"],[0.7777777777777778,\"#fb9f3a\"],[0.8888888888888888,\"#fdca26\"],[1.0,\"#f0f921\"]],\"sequentialminus\":[[0.0,\"#0d0887\"],[0.1111111111111111,\"#46039f\"],[0.2222222222222222,\"#7201a8\"],[0.3333333333333333,\"#9c179e\"],[0.4444444444444444,\"#bd3786\"],[0.5555555555555556,\"#d8576b\"],[0.6666666666666666,\"#ed7953\"],[0.7777777777777778,\"#fb9f3a\"],[0.8888888888888888,\"#fdca26\"],[1.0,\"#f0f921\"]],\"diverging\":[[0,\"#8e0152\"],[0.1,\"#c51b7d\"],[0.2,\"#de77ae\"],[0.3,\"#f1b6da\"],[0.4,\"#fde0ef\"],[0.5,\"#f7f7f7\"],[0.6,\"#e6f5d0\"],[0.7,\"#b8e186\"],[0.8,\"#7fbc41\"],[0.9,\"#4d9221\"],[1,\"#276419\"]]},\"xaxis\":{\"gridcolor\":\"white\",\"linecolor\":\"white\",\"ticks\":\"\",\"title\":{\"standoff\":15},\"zerolinecolor\":\"white\",\"automargin\":true,\"zerolinewidth\":2},\"yaxis\":{\"gridcolor\":\"white\",\"linecolor\":\"white\",\"ticks\":\"\",\"title\":{\"standoff\":15},\"zerolinecolor\":\"white\",\"automargin\":true,\"zerolinewidth\":2},\"scene\":{\"xaxis\":{\"backgroundcolor\":\"#E5ECF6\",\"gridcolor\":\"white\",\"linecolor\":\"white\",\"showbackground\":true,\"ticks\":\"\",\"zerolinecolor\":\"white\",\"gridwidth\":2},\"yaxis\":{\"backgroundcolor\":\"#E5ECF6\",\"gridcolor\":\"white\",\"linecolor\":\"white\",\"showbackground\":true,\"ticks\":\"\",\"zerolinecolor\":\"white\",\"gridwidth\":2},\"zaxis\":{\"backgroundcolor\":\"#E5ECF6\",\"gridcolor\":\"white\",\"linecolor\":\"white\",\"showbackground\":true,\"ticks\":\"\",\"zerolinecolor\":\"white\",\"gridwidth\":2}},\"shapedefaults\":{\"line\":{\"color\":\"#2a3f5f\"}},\"annotationdefaults\":{\"arrowcolor\":\"#2a3f5f\",\"arrowhead\":0,\"arrowwidth\":1},\"geo\":{\"bgcolor\":\"white\",\"landcolor\":\"#E5ECF6\",\"subunitcolor\":\"white\",\"showland\":true,\"showlakes\":true,\"lakecolor\":\"white\"},\"title\":{\"x\":0.05},\"mapbox\":{\"style\":\"light\"}}},\"yaxis\":{\"tickprefix\":\"$\",\"tickformat\":\",.\"}},                        {\"responsive\": true}                    ).then(function(){\n",
              "                            \n",
              "var gd = document.getElementById('2ec38592-59f0-454e-97f2-a1c1139971ea');\n",
              "var x = new MutationObserver(function (mutations, observer) {{\n",
              "        var display = window.getComputedStyle(gd).display;\n",
              "        if (!display || display === 'none') {{\n",
              "            console.log([gd, 'removed!']);\n",
              "            Plotly.purge(gd);\n",
              "            observer.disconnect();\n",
              "        }}\n",
              "}});\n",
              "\n",
              "// Listen for the removal of the full notebook cells\n",
              "var notebookContainer = gd.closest('#notebook-container');\n",
              "if (notebookContainer) {{\n",
              "    x.observe(notebookContainer, {childList: true});\n",
              "}}\n",
              "\n",
              "// Listen for the clearing of the current output cell\n",
              "var outputEl = gd.closest('.output');\n",
              "if (outputEl) {{\n",
              "    x.observe(outputEl, {childList: true});\n",
              "}}\n",
              "\n",
              "                        })                };                            </script>        </div>\n",
              "</body>\n",
              "</html>"
            ]
          },
          "metadata": {}
        },
        {
          "output_type": "stream",
          "name": "stdout",
          "text": [
            "Available Fields: ['timestamp', 'open', 'high', 'low', 'close', 'adjusted_close', 'volume', 'dividend_amount', 'split_coefficient']\n",
            "Number of Available Days: 100\n",
            "Latest Day Available: 2023-10-20\n",
            "Earliest Day Available: 2023-05-31\n",
            "Adjusted Closing Price on Latest Day: $135.60\n",
            "Adjusted Closing Price on Earliest Day: $122.87\n",
            "100-Day High Price: $141.22\n",
            "100-Day Low Price: $115.35\n",
            "Percentage Change between Earliest and Latest Closing Price: 10.3605%\n",
            "50-Day Moving Average for Latest Day: $123.92\n"
          ]
        }
      ]
    },
    {
      "cell_type": "markdown",
      "source": [
        "\n",
        "# Scratch Work\n"
      ],
      "metadata": {
        "id": "bVmfvyo6dTDo"
      }
    },
    {
      "cell_type": "markdown",
      "source": [
        "\n",
        "Optionally use these cells as scratch-work to practice your ability to produce the desired dataviz.\n",
        "\n",
        "> NOTE: These practice cells won't be evaluated. Only the report generation function above will be evaluated. So make sure that your final work ends up in the report generation function!\n",
        "\n",
        "\n",
        "\n"
      ],
      "metadata": {
        "id": "i0Ufh9nP4L5u"
      }
    },
    {
      "cell_type": "code",
      "source": [
        "\n",
        "from pandas import read_csv\n",
        "import sys\n",
        "\n",
        "try:\n",
        "\n",
        " symbol = \"NFLX\"\n",
        "\n",
        " request_url = \"https://www.alphavantage.co/query?function=TIME_SERIES_DAILY_ADJUSTED&symbol=\" + symbol + \"&apikey=\" + API_KEY + \"&datatype=csv\"\n",
        "\n",
        " print(request_url)\n",
        "\n",
        " df = read_csv(request_url)\n",
        " print(df)\n",
        "\n",
        "except Exception as err:\n",
        "\n",
        "    print(type(err))\n",
        "    print(err)\n",
        "    sys.exit(1)\n",
        "\n",
        "import plotly.express as px\n",
        "\n",
        "fig = px.line(df, x=\"timestamp\", y=\"close\", height=350,\n",
        "        title=\"Daily Stock Prices \" + \"(\"+ symbol + \")\",\n",
        "        labels={\"close\": \"Closing Price\", \"timestamp\":\"Date\"}\n",
        "\n",
        ")\n",
        "fig.update_layout(yaxis_tickprefix = '$', yaxis_tickformat = ',.')\n",
        "fig.show()\n",
        "import plotly.graph_objects as go\n",
        "import pandas as pd\n",
        "from plotly.graph_objects import Figure, Scatter\n",
        "\n",
        "fig2 = go.Figure(data=go.Ohlc(x=df['timestamp'],\n",
        "                    open=df['open'],\n",
        "                    high=df['high'],\n",
        "                    low=df['low'],\n",
        "                    close=df['close']\n",
        "                    ))\n",
        "fig2.update_layout(yaxis_tickprefix = '$', yaxis_tickformat = ',.')\n",
        "fig2.show()\n",
        "\n",
        "print(\"Available Fields:\", list(df.columns))\n",
        "\n",
        "num_days = len(df)\n",
        "print(\"Number of Available Days:\", num_days)\n",
        "\n",
        "latest_date = df['timestamp'].iloc[0]\n",
        "print(\"Latest Day Available:\", latest_date)\n",
        "\n",
        "earliest_date = df['timestamp'].iloc[-1]\n",
        "print(\"Earliest Day Available:\", earliest_date)\n",
        "\n",
        "latest_close_price = df['adjusted_close'].iloc[0]\n",
        "print(\"Adjusted Closing Price on Latest Day:\", f\"${latest_close_price:.2f}\")\n",
        "\n",
        "earliest_close_price = df['adjusted_close'].iloc[-1]\n",
        "print(\"Adjusted Closing Price on Earliest Day:\", f\"${earliest_close_price:.2f}\")\n",
        "\n",
        "hundred_day_high = df['high'].max()\n",
        "print(\"100-Day High Price:\", f\"${hundred_day_high:.2f}\")\n",
        "\n",
        "hundred_day_low = df['low'].min()\n",
        "print(\"100-Day Low Price:\", f\"${hundred_day_low:.2f}\")\n",
        "\n",
        "percentage_change = ((latest_close_price - earliest_close_price) / earliest_close_price) * 100\n",
        "print(\"Percentage Change between Earliest and Latest Closing Price:\", f\"{percentage_change:.4f}%\")\n",
        "\n",
        "df['50_MA'] = df['adjusted_close'].rolling(window=50).mean()\n",
        "latest_50_day_ma = df['50_MA'].iloc[-1]\n",
        "print(\"50-Day Moving Average for Latest Day:\", f\"${latest_50_day_ma:.2f}\")\n"
      ],
      "metadata": {
        "id": "-Suaz2wsAgXQ",
        "colab": {
          "base_uri": "https://localhost:8080/",
          "height": 1000
        },
        "outputId": "f54fe960-a861-489d-e00a-f5517b1903b5"
      },
      "execution_count": null,
      "outputs": [
        {
          "output_type": "stream",
          "name": "stdout",
          "text": [
            "https://www.alphavantage.co/query?function=TIME_SERIES_DAILY_ADJUSTED&symbol=NFLX&apikey=14SJGKTZQOG2TCYK&datatype=csv\n",
            "     timestamp    open      high       low   close  adjusted_close    volume  \\\n",
            "0   2023-10-20  405.63  410.6400  398.0100  400.96          400.96  12782922   \n",
            "1   2023-10-19  404.74  408.9500  392.2601  401.77          401.77  28074416   \n",
            "2   2023-10-18  351.00  354.7900  344.7300  346.19          346.19  11429643   \n",
            "3   2023-10-17  361.10  362.7049  353.8900  355.72          355.72   5908412   \n",
            "4   2023-10-16  356.21  363.0799  354.7700  360.82          360.82   5128947   \n",
            "..         ...     ...       ...       ...     ...             ...       ...   \n",
            "95  2023-06-06  405.00  405.1200  396.9300  399.29          399.29   4991532   \n",
            "96  2023-06-05  400.47  413.8600  400.1500  403.54          403.54   7247413   \n",
            "97  2023-06-02  402.89  406.5800  395.9000  400.47          400.47   5902381   \n",
            "98  2023-06-01  397.41  407.5200  393.0800  403.13          403.13   7160145   \n",
            "99  2023-05-31  391.89  396.2600  388.9100  395.23          395.23   6961382   \n",
            "\n",
            "    dividend_amount  split_coefficient  \n",
            "0               0.0                1.0  \n",
            "1               0.0                1.0  \n",
            "2               0.0                1.0  \n",
            "3               0.0                1.0  \n",
            "4               0.0                1.0  \n",
            "..              ...                ...  \n",
            "95              0.0                1.0  \n",
            "96              0.0                1.0  \n",
            "97              0.0                1.0  \n",
            "98              0.0                1.0  \n",
            "99              0.0                1.0  \n",
            "\n",
            "[100 rows x 9 columns]\n"
          ]
        },
        {
          "output_type": "display_data",
          "data": {
            "text/html": [
              "<html>\n",
              "<head><meta charset=\"utf-8\" /></head>\n",
              "<body>\n",
              "    <div>            <script src=\"https://cdnjs.cloudflare.com/ajax/libs/mathjax/2.7.5/MathJax.js?config=TeX-AMS-MML_SVG\"></script><script type=\"text/javascript\">if (window.MathJax && window.MathJax.Hub && window.MathJax.Hub.Config) {window.MathJax.Hub.Config({SVG: {font: \"STIX-Web\"}});}</script>                <script type=\"text/javascript\">window.PlotlyConfig = {MathJaxConfig: 'local'};</script>\n",
              "        <script charset=\"utf-8\" src=\"https://cdn.plot.ly/plotly-2.24.1.min.js\"></script>                <div id=\"19fc0523-7934-4a85-a951-0617f8b05245\" class=\"plotly-graph-div\" style=\"height:350px; width:100%;\"></div>            <script type=\"text/javascript\">                                    window.PLOTLYENV=window.PLOTLYENV || {};                                    if (document.getElementById(\"19fc0523-7934-4a85-a951-0617f8b05245\")) {                    Plotly.newPlot(                        \"19fc0523-7934-4a85-a951-0617f8b05245\",                        [{\"hovertemplate\":\"Date=%{x}\\u003cbr\\u003eClosing Price=%{y}\\u003cextra\\u003e\\u003c\\u002fextra\\u003e\",\"legendgroup\":\"\",\"line\":{\"color\":\"#636efa\",\"dash\":\"solid\"},\"marker\":{\"symbol\":\"circle\"},\"mode\":\"lines\",\"name\":\"\",\"orientation\":\"v\",\"showlegend\":false,\"x\":[\"2023-10-20\",\"2023-10-19\",\"2023-10-18\",\"2023-10-17\",\"2023-10-16\",\"2023-10-13\",\"2023-10-12\",\"2023-10-11\",\"2023-10-10\",\"2023-10-09\",\"2023-10-06\",\"2023-10-05\",\"2023-10-04\",\"2023-10-03\",\"2023-10-02\",\"2023-09-29\",\"2023-09-28\",\"2023-09-27\",\"2023-09-26\",\"2023-09-25\",\"2023-09-22\",\"2023-09-21\",\"2023-09-20\",\"2023-09-19\",\"2023-09-18\",\"2023-09-15\",\"2023-09-14\",\"2023-09-13\",\"2023-09-12\",\"2023-09-11\",\"2023-09-08\",\"2023-09-07\",\"2023-09-06\",\"2023-09-05\",\"2023-09-01\",\"2023-08-31\",\"2023-08-30\",\"2023-08-29\",\"2023-08-28\",\"2023-08-25\",\"2023-08-24\",\"2023-08-23\",\"2023-08-22\",\"2023-08-21\",\"2023-08-18\",\"2023-08-17\",\"2023-08-16\",\"2023-08-15\",\"2023-08-14\",\"2023-08-11\",\"2023-08-10\",\"2023-08-09\",\"2023-08-08\",\"2023-08-07\",\"2023-08-04\",\"2023-08-03\",\"2023-08-02\",\"2023-08-01\",\"2023-07-31\",\"2023-07-28\",\"2023-07-27\",\"2023-07-26\",\"2023-07-25\",\"2023-07-24\",\"2023-07-21\",\"2023-07-20\",\"2023-07-19\",\"2023-07-18\",\"2023-07-17\",\"2023-07-14\",\"2023-07-13\",\"2023-07-12\",\"2023-07-11\",\"2023-07-10\",\"2023-07-07\",\"2023-07-06\",\"2023-07-05\",\"2023-07-03\",\"2023-06-30\",\"2023-06-29\",\"2023-06-28\",\"2023-06-27\",\"2023-06-26\",\"2023-06-23\",\"2023-06-22\",\"2023-06-21\",\"2023-06-20\",\"2023-06-16\",\"2023-06-15\",\"2023-06-14\",\"2023-06-13\",\"2023-06-12\",\"2023-06-09\",\"2023-06-08\",\"2023-06-07\",\"2023-06-06\",\"2023-06-05\",\"2023-06-02\",\"2023-06-01\",\"2023-05-31\"],\"xaxis\":\"x\",\"y\":[400.96,401.77,346.19,355.72,360.82,355.68,361.2,365.93,373.32,385.95,381.51,372.59,376.9,376.75,380.33,377.6,376.36,377.59,379.25,384.8,379.81,384.15,386.3,396.2,394.4,396.94,400.49,412.24,434.69,445.36,442.8,443.14,445.76,448.68,439.88,433.68,434.67,429.99,418.06,416.03,406.93,427.55,413.17,408.29,404.53,403.0,415.45,423.7,427.78,421.66,429.98,428.9,438.3,440.76,431.6,431.0,429.7,438.62,438.97,425.78,413.17,422.67,427.7,428.37,427.5,437.42,477.59,474.8,450.05,441.91,450.38,444.05,440.21,441.71,438.1,438.84,445.9,441.44,440.49,428.24,429.84,417.08,415.94,424.02,422.48,424.45,434.7,431.96,445.27,440.86,435.73,423.97,420.02,409.37,399.77,399.29,403.54,400.47,403.13,395.23],\"yaxis\":\"y\",\"type\":\"scatter\"}],                        {\"template\":{\"data\":{\"histogram2dcontour\":[{\"type\":\"histogram2dcontour\",\"colorbar\":{\"outlinewidth\":0,\"ticks\":\"\"},\"colorscale\":[[0.0,\"#0d0887\"],[0.1111111111111111,\"#46039f\"],[0.2222222222222222,\"#7201a8\"],[0.3333333333333333,\"#9c179e\"],[0.4444444444444444,\"#bd3786\"],[0.5555555555555556,\"#d8576b\"],[0.6666666666666666,\"#ed7953\"],[0.7777777777777778,\"#fb9f3a\"],[0.8888888888888888,\"#fdca26\"],[1.0,\"#f0f921\"]]}],\"choropleth\":[{\"type\":\"choropleth\",\"colorbar\":{\"outlinewidth\":0,\"ticks\":\"\"}}],\"histogram2d\":[{\"type\":\"histogram2d\",\"colorbar\":{\"outlinewidth\":0,\"ticks\":\"\"},\"colorscale\":[[0.0,\"#0d0887\"],[0.1111111111111111,\"#46039f\"],[0.2222222222222222,\"#7201a8\"],[0.3333333333333333,\"#9c179e\"],[0.4444444444444444,\"#bd3786\"],[0.5555555555555556,\"#d8576b\"],[0.6666666666666666,\"#ed7953\"],[0.7777777777777778,\"#fb9f3a\"],[0.8888888888888888,\"#fdca26\"],[1.0,\"#f0f921\"]]}],\"heatmap\":[{\"type\":\"heatmap\",\"colorbar\":{\"outlinewidth\":0,\"ticks\":\"\"},\"colorscale\":[[0.0,\"#0d0887\"],[0.1111111111111111,\"#46039f\"],[0.2222222222222222,\"#7201a8\"],[0.3333333333333333,\"#9c179e\"],[0.4444444444444444,\"#bd3786\"],[0.5555555555555556,\"#d8576b\"],[0.6666666666666666,\"#ed7953\"],[0.7777777777777778,\"#fb9f3a\"],[0.8888888888888888,\"#fdca26\"],[1.0,\"#f0f921\"]]}],\"heatmapgl\":[{\"type\":\"heatmapgl\",\"colorbar\":{\"outlinewidth\":0,\"ticks\":\"\"},\"colorscale\":[[0.0,\"#0d0887\"],[0.1111111111111111,\"#46039f\"],[0.2222222222222222,\"#7201a8\"],[0.3333333333333333,\"#9c179e\"],[0.4444444444444444,\"#bd3786\"],[0.5555555555555556,\"#d8576b\"],[0.6666666666666666,\"#ed7953\"],[0.7777777777777778,\"#fb9f3a\"],[0.8888888888888888,\"#fdca26\"],[1.0,\"#f0f921\"]]}],\"contourcarpet\":[{\"type\":\"contourcarpet\",\"colorbar\":{\"outlinewidth\":0,\"ticks\":\"\"}}],\"contour\":[{\"type\":\"contour\",\"colorbar\":{\"outlinewidth\":0,\"ticks\":\"\"},\"colorscale\":[[0.0,\"#0d0887\"],[0.1111111111111111,\"#46039f\"],[0.2222222222222222,\"#7201a8\"],[0.3333333333333333,\"#9c179e\"],[0.4444444444444444,\"#bd3786\"],[0.5555555555555556,\"#d8576b\"],[0.6666666666666666,\"#ed7953\"],[0.7777777777777778,\"#fb9f3a\"],[0.8888888888888888,\"#fdca26\"],[1.0,\"#f0f921\"]]}],\"surface\":[{\"type\":\"surface\",\"colorbar\":{\"outlinewidth\":0,\"ticks\":\"\"},\"colorscale\":[[0.0,\"#0d0887\"],[0.1111111111111111,\"#46039f\"],[0.2222222222222222,\"#7201a8\"],[0.3333333333333333,\"#9c179e\"],[0.4444444444444444,\"#bd3786\"],[0.5555555555555556,\"#d8576b\"],[0.6666666666666666,\"#ed7953\"],[0.7777777777777778,\"#fb9f3a\"],[0.8888888888888888,\"#fdca26\"],[1.0,\"#f0f921\"]]}],\"mesh3d\":[{\"type\":\"mesh3d\",\"colorbar\":{\"outlinewidth\":0,\"ticks\":\"\"}}],\"scatter\":[{\"fillpattern\":{\"fillmode\":\"overlay\",\"size\":10,\"solidity\":0.2},\"type\":\"scatter\"}],\"parcoords\":[{\"type\":\"parcoords\",\"line\":{\"colorbar\":{\"outlinewidth\":0,\"ticks\":\"\"}}}],\"scatterpolargl\":[{\"type\":\"scatterpolargl\",\"marker\":{\"colorbar\":{\"outlinewidth\":0,\"ticks\":\"\"}}}],\"bar\":[{\"error_x\":{\"color\":\"#2a3f5f\"},\"error_y\":{\"color\":\"#2a3f5f\"},\"marker\":{\"line\":{\"color\":\"#E5ECF6\",\"width\":0.5},\"pattern\":{\"fillmode\":\"overlay\",\"size\":10,\"solidity\":0.2}},\"type\":\"bar\"}],\"scattergeo\":[{\"type\":\"scattergeo\",\"marker\":{\"colorbar\":{\"outlinewidth\":0,\"ticks\":\"\"}}}],\"scatterpolar\":[{\"type\":\"scatterpolar\",\"marker\":{\"colorbar\":{\"outlinewidth\":0,\"ticks\":\"\"}}}],\"histogram\":[{\"marker\":{\"pattern\":{\"fillmode\":\"overlay\",\"size\":10,\"solidity\":0.2}},\"type\":\"histogram\"}],\"scattergl\":[{\"type\":\"scattergl\",\"marker\":{\"colorbar\":{\"outlinewidth\":0,\"ticks\":\"\"}}}],\"scatter3d\":[{\"type\":\"scatter3d\",\"line\":{\"colorbar\":{\"outlinewidth\":0,\"ticks\":\"\"}},\"marker\":{\"colorbar\":{\"outlinewidth\":0,\"ticks\":\"\"}}}],\"scattermapbox\":[{\"type\":\"scattermapbox\",\"marker\":{\"colorbar\":{\"outlinewidth\":0,\"ticks\":\"\"}}}],\"scatterternary\":[{\"type\":\"scatterternary\",\"marker\":{\"colorbar\":{\"outlinewidth\":0,\"ticks\":\"\"}}}],\"scattercarpet\":[{\"type\":\"scattercarpet\",\"marker\":{\"colorbar\":{\"outlinewidth\":0,\"ticks\":\"\"}}}],\"carpet\":[{\"aaxis\":{\"endlinecolor\":\"#2a3f5f\",\"gridcolor\":\"white\",\"linecolor\":\"white\",\"minorgridcolor\":\"white\",\"startlinecolor\":\"#2a3f5f\"},\"baxis\":{\"endlinecolor\":\"#2a3f5f\",\"gridcolor\":\"white\",\"linecolor\":\"white\",\"minorgridcolor\":\"white\",\"startlinecolor\":\"#2a3f5f\"},\"type\":\"carpet\"}],\"table\":[{\"cells\":{\"fill\":{\"color\":\"#EBF0F8\"},\"line\":{\"color\":\"white\"}},\"header\":{\"fill\":{\"color\":\"#C8D4E3\"},\"line\":{\"color\":\"white\"}},\"type\":\"table\"}],\"barpolar\":[{\"marker\":{\"line\":{\"color\":\"#E5ECF6\",\"width\":0.5},\"pattern\":{\"fillmode\":\"overlay\",\"size\":10,\"solidity\":0.2}},\"type\":\"barpolar\"}],\"pie\":[{\"automargin\":true,\"type\":\"pie\"}]},\"layout\":{\"autotypenumbers\":\"strict\",\"colorway\":[\"#636efa\",\"#EF553B\",\"#00cc96\",\"#ab63fa\",\"#FFA15A\",\"#19d3f3\",\"#FF6692\",\"#B6E880\",\"#FF97FF\",\"#FECB52\"],\"font\":{\"color\":\"#2a3f5f\"},\"hovermode\":\"closest\",\"hoverlabel\":{\"align\":\"left\"},\"paper_bgcolor\":\"white\",\"plot_bgcolor\":\"#E5ECF6\",\"polar\":{\"bgcolor\":\"#E5ECF6\",\"angularaxis\":{\"gridcolor\":\"white\",\"linecolor\":\"white\",\"ticks\":\"\"},\"radialaxis\":{\"gridcolor\":\"white\",\"linecolor\":\"white\",\"ticks\":\"\"}},\"ternary\":{\"bgcolor\":\"#E5ECF6\",\"aaxis\":{\"gridcolor\":\"white\",\"linecolor\":\"white\",\"ticks\":\"\"},\"baxis\":{\"gridcolor\":\"white\",\"linecolor\":\"white\",\"ticks\":\"\"},\"caxis\":{\"gridcolor\":\"white\",\"linecolor\":\"white\",\"ticks\":\"\"}},\"coloraxis\":{\"colorbar\":{\"outlinewidth\":0,\"ticks\":\"\"}},\"colorscale\":{\"sequential\":[[0.0,\"#0d0887\"],[0.1111111111111111,\"#46039f\"],[0.2222222222222222,\"#7201a8\"],[0.3333333333333333,\"#9c179e\"],[0.4444444444444444,\"#bd3786\"],[0.5555555555555556,\"#d8576b\"],[0.6666666666666666,\"#ed7953\"],[0.7777777777777778,\"#fb9f3a\"],[0.8888888888888888,\"#fdca26\"],[1.0,\"#f0f921\"]],\"sequentialminus\":[[0.0,\"#0d0887\"],[0.1111111111111111,\"#46039f\"],[0.2222222222222222,\"#7201a8\"],[0.3333333333333333,\"#9c179e\"],[0.4444444444444444,\"#bd3786\"],[0.5555555555555556,\"#d8576b\"],[0.6666666666666666,\"#ed7953\"],[0.7777777777777778,\"#fb9f3a\"],[0.8888888888888888,\"#fdca26\"],[1.0,\"#f0f921\"]],\"diverging\":[[0,\"#8e0152\"],[0.1,\"#c51b7d\"],[0.2,\"#de77ae\"],[0.3,\"#f1b6da\"],[0.4,\"#fde0ef\"],[0.5,\"#f7f7f7\"],[0.6,\"#e6f5d0\"],[0.7,\"#b8e186\"],[0.8,\"#7fbc41\"],[0.9,\"#4d9221\"],[1,\"#276419\"]]},\"xaxis\":{\"gridcolor\":\"white\",\"linecolor\":\"white\",\"ticks\":\"\",\"title\":{\"standoff\":15},\"zerolinecolor\":\"white\",\"automargin\":true,\"zerolinewidth\":2},\"yaxis\":{\"gridcolor\":\"white\",\"linecolor\":\"white\",\"ticks\":\"\",\"title\":{\"standoff\":15},\"zerolinecolor\":\"white\",\"automargin\":true,\"zerolinewidth\":2},\"scene\":{\"xaxis\":{\"backgroundcolor\":\"#E5ECF6\",\"gridcolor\":\"white\",\"linecolor\":\"white\",\"showbackground\":true,\"ticks\":\"\",\"zerolinecolor\":\"white\",\"gridwidth\":2},\"yaxis\":{\"backgroundcolor\":\"#E5ECF6\",\"gridcolor\":\"white\",\"linecolor\":\"white\",\"showbackground\":true,\"ticks\":\"\",\"zerolinecolor\":\"white\",\"gridwidth\":2},\"zaxis\":{\"backgroundcolor\":\"#E5ECF6\",\"gridcolor\":\"white\",\"linecolor\":\"white\",\"showbackground\":true,\"ticks\":\"\",\"zerolinecolor\":\"white\",\"gridwidth\":2}},\"shapedefaults\":{\"line\":{\"color\":\"#2a3f5f\"}},\"annotationdefaults\":{\"arrowcolor\":\"#2a3f5f\",\"arrowhead\":0,\"arrowwidth\":1},\"geo\":{\"bgcolor\":\"white\",\"landcolor\":\"#E5ECF6\",\"subunitcolor\":\"white\",\"showland\":true,\"showlakes\":true,\"lakecolor\":\"white\"},\"title\":{\"x\":0.05},\"mapbox\":{\"style\":\"light\"}}},\"xaxis\":{\"anchor\":\"y\",\"domain\":[0.0,1.0],\"title\":{\"text\":\"Date\"}},\"yaxis\":{\"anchor\":\"x\",\"domain\":[0.0,1.0],\"title\":{\"text\":\"Closing Price\"},\"tickprefix\":\"$\",\"tickformat\":\",.\"},\"legend\":{\"tracegroupgap\":0},\"title\":{\"text\":\"Daily Stock Prices (NFLX)\"},\"height\":350},                        {\"responsive\": true}                    ).then(function(){\n",
              "                            \n",
              "var gd = document.getElementById('19fc0523-7934-4a85-a951-0617f8b05245');\n",
              "var x = new MutationObserver(function (mutations, observer) {{\n",
              "        var display = window.getComputedStyle(gd).display;\n",
              "        if (!display || display === 'none') {{\n",
              "            console.log([gd, 'removed!']);\n",
              "            Plotly.purge(gd);\n",
              "            observer.disconnect();\n",
              "        }}\n",
              "}});\n",
              "\n",
              "// Listen for the removal of the full notebook cells\n",
              "var notebookContainer = gd.closest('#notebook-container');\n",
              "if (notebookContainer) {{\n",
              "    x.observe(notebookContainer, {childList: true});\n",
              "}}\n",
              "\n",
              "// Listen for the clearing of the current output cell\n",
              "var outputEl = gd.closest('.output');\n",
              "if (outputEl) {{\n",
              "    x.observe(outputEl, {childList: true});\n",
              "}}\n",
              "\n",
              "                        })                };                            </script>        </div>\n",
              "</body>\n",
              "</html>"
            ]
          },
          "metadata": {}
        },
        {
          "output_type": "display_data",
          "data": {
            "text/html": [
              "<html>\n",
              "<head><meta charset=\"utf-8\" /></head>\n",
              "<body>\n",
              "    <div>            <script src=\"https://cdnjs.cloudflare.com/ajax/libs/mathjax/2.7.5/MathJax.js?config=TeX-AMS-MML_SVG\"></script><script type=\"text/javascript\">if (window.MathJax && window.MathJax.Hub && window.MathJax.Hub.Config) {window.MathJax.Hub.Config({SVG: {font: \"STIX-Web\"}});}</script>                <script type=\"text/javascript\">window.PlotlyConfig = {MathJaxConfig: 'local'};</script>\n",
              "        <script charset=\"utf-8\" src=\"https://cdn.plot.ly/plotly-2.24.1.min.js\"></script>                <div id=\"f7adba04-082e-4ac1-ba49-a24e6fa26f93\" class=\"plotly-graph-div\" style=\"height:525px; width:100%;\"></div>            <script type=\"text/javascript\">                                    window.PLOTLYENV=window.PLOTLYENV || {};                                    if (document.getElementById(\"f7adba04-082e-4ac1-ba49-a24e6fa26f93\")) {                    Plotly.newPlot(                        \"f7adba04-082e-4ac1-ba49-a24e6fa26f93\",                        [{\"close\":[400.96,401.77,346.19,355.72,360.82,355.68,361.2,365.93,373.32,385.95,381.51,372.59,376.9,376.75,380.33,377.6,376.36,377.59,379.25,384.8,379.81,384.15,386.3,396.2,394.4,396.94,400.49,412.24,434.69,445.36,442.8,443.14,445.76,448.68,439.88,433.68,434.67,429.99,418.06,416.03,406.93,427.55,413.17,408.29,404.53,403.0,415.45,423.7,427.78,421.66,429.98,428.9,438.3,440.76,431.6,431.0,429.7,438.62,438.97,425.78,413.17,422.67,427.7,428.37,427.5,437.42,477.59,474.8,450.05,441.91,450.38,444.05,440.21,441.71,438.1,438.84,445.9,441.44,440.49,428.24,429.84,417.08,415.94,424.02,422.48,424.45,434.7,431.96,445.27,440.86,435.73,423.97,420.02,409.37,399.77,399.29,403.54,400.47,403.13,395.23],\"high\":[410.64,408.95,354.79,362.7049,363.0799,358.93,368.83,377.81,388.7,387.17,382.52,378.5999,380.22,394.9,384.808,382.58,378.96,384.223,384.56,386.62,386.88,395.8999,397.985,398.23,399.465,404.6997,411.39,438.4,445.4399,449.89,446.81,444.6,451.39,453.45,445.5,437.15,438.16,432.17,419.83,419.25,427.59,437.02,415.74,409.61,406.52,415.24,424.51,429.12,428.845,430.6317,438.12,440.62,443.57,441.11,436.5,441.93,435.56,445.2499,439.13,427.47,427.52,425.26,430.8799,428.64,438.24,448.5,485.0,478.15,456.68,456.48,451.67,445.4085,440.8,444.41,442.325,442.7999,450.97,441.545,444.12,437.85,437.2915,420.8789,430.9599,425.82,424.71,434.55,440.0,447.51,448.65,447.33,437.27,424.7,425.9,409.54,418.95,405.12,413.86,406.58,407.52,396.26],\"low\":[398.01,392.2601,344.73,353.89,354.77,352.05,359.05,365.34,372.25,377.755,367.77,367.24,373.58,372.8492,376.8,375.35,371.1,376.25,377.355,380.81,378.36,383.42,386.12,390.245,392.6,395.03,400.0,410.69,434.12,442.75,438.85,436.7,440.49,438.0,435.93,431.23,428.35,414.5,413.27,407.5641,406.165,417.71,407.4,399.5,398.15,401.5818,415.25,421.04,418.78,421.3277,428.69,427.59,435.1,428.9057,426.27,427.19,426.56,431.4,426.3,413.76,411.88,415.59,426.13,419.19,423.19,432.0,470.0,448.78,445.1053,439.7,441.177,437.7494,431.0415,436.82,435.8354,430.72,439.6244,431.62,431.1,426.15,422.89,411.5,414.9,417.73,418.6801,422.54,430.0,430.9,439.5,433.5,428.4,416.5669,414.76,396.34,399.23,396.93,400.15,395.9,393.08,388.91],\"open\":[405.63,404.74,351.0,361.1,356.21,355.64,366.48,372.775,385.58,378.05,368.43,378.01,376.5,377.11,377.48,380.0,375.6,382.4,382.88,382.9,385.0,386.5,397.05,392.84,395.5,401.0,410.4,435.5,442.85,443.07,443.56,441.15,448.61,438.39,437.725,431.23,430.85,416.0,418.04,412.0,425.41,418.4,409.0,402.23,399.33,415.0,423.73,424.41,421.99,428.98,431.12,439.74,440.36,436.455,433.06,427.8,435.23,437.37,426.51,415.56,426.9,424.2,427.18,425.0,437.37,447.0,476.86,451.0,445.57,452.785,447.0,444.55,438.65,438.52,438.6,440.0,444.91,439.76,431.1,434.33,423.1,417.39,422.435,418.59,422.93,432.65,430.18,446.15,444.1,434.99,430.01,418.83,424.5,399.77,410.43,405.0,400.47,402.89,397.41,391.89],\"x\":[\"2023-10-20\",\"2023-10-19\",\"2023-10-18\",\"2023-10-17\",\"2023-10-16\",\"2023-10-13\",\"2023-10-12\",\"2023-10-11\",\"2023-10-10\",\"2023-10-09\",\"2023-10-06\",\"2023-10-05\",\"2023-10-04\",\"2023-10-03\",\"2023-10-02\",\"2023-09-29\",\"2023-09-28\",\"2023-09-27\",\"2023-09-26\",\"2023-09-25\",\"2023-09-22\",\"2023-09-21\",\"2023-09-20\",\"2023-09-19\",\"2023-09-18\",\"2023-09-15\",\"2023-09-14\",\"2023-09-13\",\"2023-09-12\",\"2023-09-11\",\"2023-09-08\",\"2023-09-07\",\"2023-09-06\",\"2023-09-05\",\"2023-09-01\",\"2023-08-31\",\"2023-08-30\",\"2023-08-29\",\"2023-08-28\",\"2023-08-25\",\"2023-08-24\",\"2023-08-23\",\"2023-08-22\",\"2023-08-21\",\"2023-08-18\",\"2023-08-17\",\"2023-08-16\",\"2023-08-15\",\"2023-08-14\",\"2023-08-11\",\"2023-08-10\",\"2023-08-09\",\"2023-08-08\",\"2023-08-07\",\"2023-08-04\",\"2023-08-03\",\"2023-08-02\",\"2023-08-01\",\"2023-07-31\",\"2023-07-28\",\"2023-07-27\",\"2023-07-26\",\"2023-07-25\",\"2023-07-24\",\"2023-07-21\",\"2023-07-20\",\"2023-07-19\",\"2023-07-18\",\"2023-07-17\",\"2023-07-14\",\"2023-07-13\",\"2023-07-12\",\"2023-07-11\",\"2023-07-10\",\"2023-07-07\",\"2023-07-06\",\"2023-07-05\",\"2023-07-03\",\"2023-06-30\",\"2023-06-29\",\"2023-06-28\",\"2023-06-27\",\"2023-06-26\",\"2023-06-23\",\"2023-06-22\",\"2023-06-21\",\"2023-06-20\",\"2023-06-16\",\"2023-06-15\",\"2023-06-14\",\"2023-06-13\",\"2023-06-12\",\"2023-06-09\",\"2023-06-08\",\"2023-06-07\",\"2023-06-06\",\"2023-06-05\",\"2023-06-02\",\"2023-06-01\",\"2023-05-31\"],\"type\":\"ohlc\"}],                        {\"template\":{\"data\":{\"histogram2dcontour\":[{\"type\":\"histogram2dcontour\",\"colorbar\":{\"outlinewidth\":0,\"ticks\":\"\"},\"colorscale\":[[0.0,\"#0d0887\"],[0.1111111111111111,\"#46039f\"],[0.2222222222222222,\"#7201a8\"],[0.3333333333333333,\"#9c179e\"],[0.4444444444444444,\"#bd3786\"],[0.5555555555555556,\"#d8576b\"],[0.6666666666666666,\"#ed7953\"],[0.7777777777777778,\"#fb9f3a\"],[0.8888888888888888,\"#fdca26\"],[1.0,\"#f0f921\"]]}],\"choropleth\":[{\"type\":\"choropleth\",\"colorbar\":{\"outlinewidth\":0,\"ticks\":\"\"}}],\"histogram2d\":[{\"type\":\"histogram2d\",\"colorbar\":{\"outlinewidth\":0,\"ticks\":\"\"},\"colorscale\":[[0.0,\"#0d0887\"],[0.1111111111111111,\"#46039f\"],[0.2222222222222222,\"#7201a8\"],[0.3333333333333333,\"#9c179e\"],[0.4444444444444444,\"#bd3786\"],[0.5555555555555556,\"#d8576b\"],[0.6666666666666666,\"#ed7953\"],[0.7777777777777778,\"#fb9f3a\"],[0.8888888888888888,\"#fdca26\"],[1.0,\"#f0f921\"]]}],\"heatmap\":[{\"type\":\"heatmap\",\"colorbar\":{\"outlinewidth\":0,\"ticks\":\"\"},\"colorscale\":[[0.0,\"#0d0887\"],[0.1111111111111111,\"#46039f\"],[0.2222222222222222,\"#7201a8\"],[0.3333333333333333,\"#9c179e\"],[0.4444444444444444,\"#bd3786\"],[0.5555555555555556,\"#d8576b\"],[0.6666666666666666,\"#ed7953\"],[0.7777777777777778,\"#fb9f3a\"],[0.8888888888888888,\"#fdca26\"],[1.0,\"#f0f921\"]]}],\"heatmapgl\":[{\"type\":\"heatmapgl\",\"colorbar\":{\"outlinewidth\":0,\"ticks\":\"\"},\"colorscale\":[[0.0,\"#0d0887\"],[0.1111111111111111,\"#46039f\"],[0.2222222222222222,\"#7201a8\"],[0.3333333333333333,\"#9c179e\"],[0.4444444444444444,\"#bd3786\"],[0.5555555555555556,\"#d8576b\"],[0.6666666666666666,\"#ed7953\"],[0.7777777777777778,\"#fb9f3a\"],[0.8888888888888888,\"#fdca26\"],[1.0,\"#f0f921\"]]}],\"contourcarpet\":[{\"type\":\"contourcarpet\",\"colorbar\":{\"outlinewidth\":0,\"ticks\":\"\"}}],\"contour\":[{\"type\":\"contour\",\"colorbar\":{\"outlinewidth\":0,\"ticks\":\"\"},\"colorscale\":[[0.0,\"#0d0887\"],[0.1111111111111111,\"#46039f\"],[0.2222222222222222,\"#7201a8\"],[0.3333333333333333,\"#9c179e\"],[0.4444444444444444,\"#bd3786\"],[0.5555555555555556,\"#d8576b\"],[0.6666666666666666,\"#ed7953\"],[0.7777777777777778,\"#fb9f3a\"],[0.8888888888888888,\"#fdca26\"],[1.0,\"#f0f921\"]]}],\"surface\":[{\"type\":\"surface\",\"colorbar\":{\"outlinewidth\":0,\"ticks\":\"\"},\"colorscale\":[[0.0,\"#0d0887\"],[0.1111111111111111,\"#46039f\"],[0.2222222222222222,\"#7201a8\"],[0.3333333333333333,\"#9c179e\"],[0.4444444444444444,\"#bd3786\"],[0.5555555555555556,\"#d8576b\"],[0.6666666666666666,\"#ed7953\"],[0.7777777777777778,\"#fb9f3a\"],[0.8888888888888888,\"#fdca26\"],[1.0,\"#f0f921\"]]}],\"mesh3d\":[{\"type\":\"mesh3d\",\"colorbar\":{\"outlinewidth\":0,\"ticks\":\"\"}}],\"scatter\":[{\"fillpattern\":{\"fillmode\":\"overlay\",\"size\":10,\"solidity\":0.2},\"type\":\"scatter\"}],\"parcoords\":[{\"type\":\"parcoords\",\"line\":{\"colorbar\":{\"outlinewidth\":0,\"ticks\":\"\"}}}],\"scatterpolargl\":[{\"type\":\"scatterpolargl\",\"marker\":{\"colorbar\":{\"outlinewidth\":0,\"ticks\":\"\"}}}],\"bar\":[{\"error_x\":{\"color\":\"#2a3f5f\"},\"error_y\":{\"color\":\"#2a3f5f\"},\"marker\":{\"line\":{\"color\":\"#E5ECF6\",\"width\":0.5},\"pattern\":{\"fillmode\":\"overlay\",\"size\":10,\"solidity\":0.2}},\"type\":\"bar\"}],\"scattergeo\":[{\"type\":\"scattergeo\",\"marker\":{\"colorbar\":{\"outlinewidth\":0,\"ticks\":\"\"}}}],\"scatterpolar\":[{\"type\":\"scatterpolar\",\"marker\":{\"colorbar\":{\"outlinewidth\":0,\"ticks\":\"\"}}}],\"histogram\":[{\"marker\":{\"pattern\":{\"fillmode\":\"overlay\",\"size\":10,\"solidity\":0.2}},\"type\":\"histogram\"}],\"scattergl\":[{\"type\":\"scattergl\",\"marker\":{\"colorbar\":{\"outlinewidth\":0,\"ticks\":\"\"}}}],\"scatter3d\":[{\"type\":\"scatter3d\",\"line\":{\"colorbar\":{\"outlinewidth\":0,\"ticks\":\"\"}},\"marker\":{\"colorbar\":{\"outlinewidth\":0,\"ticks\":\"\"}}}],\"scattermapbox\":[{\"type\":\"scattermapbox\",\"marker\":{\"colorbar\":{\"outlinewidth\":0,\"ticks\":\"\"}}}],\"scatterternary\":[{\"type\":\"scatterternary\",\"marker\":{\"colorbar\":{\"outlinewidth\":0,\"ticks\":\"\"}}}],\"scattercarpet\":[{\"type\":\"scattercarpet\",\"marker\":{\"colorbar\":{\"outlinewidth\":0,\"ticks\":\"\"}}}],\"carpet\":[{\"aaxis\":{\"endlinecolor\":\"#2a3f5f\",\"gridcolor\":\"white\",\"linecolor\":\"white\",\"minorgridcolor\":\"white\",\"startlinecolor\":\"#2a3f5f\"},\"baxis\":{\"endlinecolor\":\"#2a3f5f\",\"gridcolor\":\"white\",\"linecolor\":\"white\",\"minorgridcolor\":\"white\",\"startlinecolor\":\"#2a3f5f\"},\"type\":\"carpet\"}],\"table\":[{\"cells\":{\"fill\":{\"color\":\"#EBF0F8\"},\"line\":{\"color\":\"white\"}},\"header\":{\"fill\":{\"color\":\"#C8D4E3\"},\"line\":{\"color\":\"white\"}},\"type\":\"table\"}],\"barpolar\":[{\"marker\":{\"line\":{\"color\":\"#E5ECF6\",\"width\":0.5},\"pattern\":{\"fillmode\":\"overlay\",\"size\":10,\"solidity\":0.2}},\"type\":\"barpolar\"}],\"pie\":[{\"automargin\":true,\"type\":\"pie\"}]},\"layout\":{\"autotypenumbers\":\"strict\",\"colorway\":[\"#636efa\",\"#EF553B\",\"#00cc96\",\"#ab63fa\",\"#FFA15A\",\"#19d3f3\",\"#FF6692\",\"#B6E880\",\"#FF97FF\",\"#FECB52\"],\"font\":{\"color\":\"#2a3f5f\"},\"hovermode\":\"closest\",\"hoverlabel\":{\"align\":\"left\"},\"paper_bgcolor\":\"white\",\"plot_bgcolor\":\"#E5ECF6\",\"polar\":{\"bgcolor\":\"#E5ECF6\",\"angularaxis\":{\"gridcolor\":\"white\",\"linecolor\":\"white\",\"ticks\":\"\"},\"radialaxis\":{\"gridcolor\":\"white\",\"linecolor\":\"white\",\"ticks\":\"\"}},\"ternary\":{\"bgcolor\":\"#E5ECF6\",\"aaxis\":{\"gridcolor\":\"white\",\"linecolor\":\"white\",\"ticks\":\"\"},\"baxis\":{\"gridcolor\":\"white\",\"linecolor\":\"white\",\"ticks\":\"\"},\"caxis\":{\"gridcolor\":\"white\",\"linecolor\":\"white\",\"ticks\":\"\"}},\"coloraxis\":{\"colorbar\":{\"outlinewidth\":0,\"ticks\":\"\"}},\"colorscale\":{\"sequential\":[[0.0,\"#0d0887\"],[0.1111111111111111,\"#46039f\"],[0.2222222222222222,\"#7201a8\"],[0.3333333333333333,\"#9c179e\"],[0.4444444444444444,\"#bd3786\"],[0.5555555555555556,\"#d8576b\"],[0.6666666666666666,\"#ed7953\"],[0.7777777777777778,\"#fb9f3a\"],[0.8888888888888888,\"#fdca26\"],[1.0,\"#f0f921\"]],\"sequentialminus\":[[0.0,\"#0d0887\"],[0.1111111111111111,\"#46039f\"],[0.2222222222222222,\"#7201a8\"],[0.3333333333333333,\"#9c179e\"],[0.4444444444444444,\"#bd3786\"],[0.5555555555555556,\"#d8576b\"],[0.6666666666666666,\"#ed7953\"],[0.7777777777777778,\"#fb9f3a\"],[0.8888888888888888,\"#fdca26\"],[1.0,\"#f0f921\"]],\"diverging\":[[0,\"#8e0152\"],[0.1,\"#c51b7d\"],[0.2,\"#de77ae\"],[0.3,\"#f1b6da\"],[0.4,\"#fde0ef\"],[0.5,\"#f7f7f7\"],[0.6,\"#e6f5d0\"],[0.7,\"#b8e186\"],[0.8,\"#7fbc41\"],[0.9,\"#4d9221\"],[1,\"#276419\"]]},\"xaxis\":{\"gridcolor\":\"white\",\"linecolor\":\"white\",\"ticks\":\"\",\"title\":{\"standoff\":15},\"zerolinecolor\":\"white\",\"automargin\":true,\"zerolinewidth\":2},\"yaxis\":{\"gridcolor\":\"white\",\"linecolor\":\"white\",\"ticks\":\"\",\"title\":{\"standoff\":15},\"zerolinecolor\":\"white\",\"automargin\":true,\"zerolinewidth\":2},\"scene\":{\"xaxis\":{\"backgroundcolor\":\"#E5ECF6\",\"gridcolor\":\"white\",\"linecolor\":\"white\",\"showbackground\":true,\"ticks\":\"\",\"zerolinecolor\":\"white\",\"gridwidth\":2},\"yaxis\":{\"backgroundcolor\":\"#E5ECF6\",\"gridcolor\":\"white\",\"linecolor\":\"white\",\"showbackground\":true,\"ticks\":\"\",\"zerolinecolor\":\"white\",\"gridwidth\":2},\"zaxis\":{\"backgroundcolor\":\"#E5ECF6\",\"gridcolor\":\"white\",\"linecolor\":\"white\",\"showbackground\":true,\"ticks\":\"\",\"zerolinecolor\":\"white\",\"gridwidth\":2}},\"shapedefaults\":{\"line\":{\"color\":\"#2a3f5f\"}},\"annotationdefaults\":{\"arrowcolor\":\"#2a3f5f\",\"arrowhead\":0,\"arrowwidth\":1},\"geo\":{\"bgcolor\":\"white\",\"landcolor\":\"#E5ECF6\",\"subunitcolor\":\"white\",\"showland\":true,\"showlakes\":true,\"lakecolor\":\"white\"},\"title\":{\"x\":0.05},\"mapbox\":{\"style\":\"light\"}}},\"yaxis\":{\"tickprefix\":\"$\",\"tickformat\":\",.\"}},                        {\"responsive\": true}                    ).then(function(){\n",
              "                            \n",
              "var gd = document.getElementById('f7adba04-082e-4ac1-ba49-a24e6fa26f93');\n",
              "var x = new MutationObserver(function (mutations, observer) {{\n",
              "        var display = window.getComputedStyle(gd).display;\n",
              "        if (!display || display === 'none') {{\n",
              "            console.log([gd, 'removed!']);\n",
              "            Plotly.purge(gd);\n",
              "            observer.disconnect();\n",
              "        }}\n",
              "}});\n",
              "\n",
              "// Listen for the removal of the full notebook cells\n",
              "var notebookContainer = gd.closest('#notebook-container');\n",
              "if (notebookContainer) {{\n",
              "    x.observe(notebookContainer, {childList: true});\n",
              "}}\n",
              "\n",
              "// Listen for the clearing of the current output cell\n",
              "var outputEl = gd.closest('.output');\n",
              "if (outputEl) {{\n",
              "    x.observe(outputEl, {childList: true});\n",
              "}}\n",
              "\n",
              "                        })                };                            </script>        </div>\n",
              "</body>\n",
              "</html>"
            ]
          },
          "metadata": {}
        },
        {
          "output_type": "stream",
          "name": "stdout",
          "text": [
            "Available Fields: ['timestamp', 'open', 'high', 'low', 'close', 'adjusted_close', 'volume', 'dividend_amount', 'split_coefficient']\n",
            "Number of Available Days: 100\n",
            "Latest Day Available: 2023-10-20\n",
            "Earliest Day Available: 2023-05-31\n",
            "Adjusted Closing Price on Latest Day: $400.96\n",
            "Adjusted Closing Price on Earliest Day: $395.23\n",
            "100-Day High Price: $485.00\n",
            "100-Day Low Price: $344.73\n",
            "Percentage Change between Earliest and Latest Closing Price: 1.4498%\n",
            "50-Day Moving Average for Latest Day: $430.43\n"
          ]
        }
      ]
    },
    {
      "cell_type": "code",
      "source": [],
      "metadata": {
        "id": "yEcklk4jAgQC"
      },
      "execution_count": null,
      "outputs": []
    },
    {
      "cell_type": "code",
      "source": [],
      "metadata": {
        "id": "jhUriA2YAgJH"
      },
      "execution_count": null,
      "outputs": []
    },
    {
      "cell_type": "code",
      "source": [],
      "metadata": {
        "id": "U6QieqLsAf4I"
      },
      "execution_count": null,
      "outputs": []
    }
  ]
}