{
  "nbformat": 4,
  "nbformat_minor": 0,
  "metadata": {
    "colab": {
      "provenance": [],
      "toc_visible": true,
      "include_colab_link": true
    },
    "kernelspec": {
      "name": "python3",
      "display_name": "Python 3"
    },
    "language_info": {
      "name": "python"
    }
  },
  "cells": [
    {
      "cell_type": "markdown",
      "metadata": {
        "id": "view-in-github",
        "colab_type": "text"
      },
      "source": [
        "<a href=\"https://colab.research.google.com/github/Kala-Ayush/Data-Analysis/blob/main/Market_Sentiments_API_Challenge_Ayush_Kala.ipynb\" target=\"_parent\"><img src=\"https://colab.research.google.com/assets/colab-badge.svg\" alt=\"Open In Colab\"/></a>"
      ]
    },
    {
      "cell_type": "markdown",
      "source": [
        "For this exercise, we will request news sentiment data about a given company from the AlphaVantage API, and then display a news feed of articles that are relevant to that company.\n",
        "\n",
        "\n",
        "It may be helpful to take a few minutes to consult the documentation for the [News and Sentiments API endpoint](https://www.alphavantage.co/documentation/#news-sentiment) to learn more, and make a plan, before developing a solution.\n",
        "\n",
        "The scratch work section at bottom provides a step by step walk-through of the development process. The solution / dashboard section asks you to re-implement the same code, but packaged up within the context of an interactive dashboard.\n",
        "\n"
      ],
      "metadata": {
        "id": "AfqHoHor_3ED"
      }
    },
    {
      "cell_type": "markdown",
      "source": [
        "## Requirements"
      ],
      "metadata": {
        "id": "ggI1E00LBGDZ"
      }
    },
    {
      "cell_type": "markdown",
      "source": [
        "\n",
        "Define a function called `display_articles`. The function should accept a string parameter called `symbol` and a float parameter called `min_relevance` (with assumed value between 0 and 1). Within the function definition, assign your own desired default values for each of these parameters.\n",
        "\n",
        "When invoked (for example using the Stocks Selection Form), the function should A) fetch news sentiments data about the given company, and B) display summary information about all articles that have a high relevance for this company (i.e. **only those articles with a ticker-specific relevance score greater than the specified minimum value**).\n",
        "\n",
        "For any article that meets the criteria, the function should specifically display the following information about that article:\n",
        "\n",
        "  + **Title**\n",
        "  + **Source**\n",
        "  + **Author** (just the first one is fine)\n",
        "  + **Image** (ideally displayed using [`IPython.display`](https://github.com/prof-rossetti/intro-to-python/blob/main/notes/python/packages/ipython.md#displaying-images))\n",
        "  + **Summary**\n",
        "  + **URL**\n",
        "  + **Ticker-Specific Sentiment Score** (for the selected company only)\n",
        "  + **Ticker-Specific Relevance Score** (for the selected company only)\n",
        "\n"
      ],
      "metadata": {
        "id": "NPZ2xMKYBHkF"
      }
    },
    {
      "cell_type": "markdown",
      "source": [
        "\n",
        "Here is an example output:\n",
        "\n",
        "<img height=\"400\" alt=\"Screenshot 2023-09-25 at 4 41 20 PM\" src=\"https://github.com/prof-rossetti/intro-to-python/assets/1328807/1a9caf8a-e31c-49e6-add8-89ac50a4b9b6\">\n",
        "\n",
        "> NOTE: your results will look different depending on when you run the dashboard"
      ],
      "metadata": {
        "id": "YjCWJrhZE_Yu"
      }
    },
    {
      "cell_type": "markdown",
      "source": [
        "## Evaluation"
      ],
      "metadata": {
        "id": "EAlBKEed8iST"
      }
    },
    {
      "cell_type": "markdown",
      "source": [
        "Submissions will be evaluated according to the \"Requirements\" section below, as represented by the following rubric:\n",
        "\n",
        "Category | Requirement | Weight\n",
        "--- | --- | ---\n",
        "Security | Securely handles the API Key. Avoids exposure by asking for a secure input, and avoids printing or hard-coding the key. | 20%\n",
        "Function | Function works properly and all solution code is packaged inside. | 25%\n",
        "Info Outputs | Presents all desired article summary information, ideally in a clear way with clean formatting. | 40%\n",
        "Info Outputs | Displays article images, as applicable | 10%\n",
        "\n",
        "This rubric is tentative, and may be subject to slight adjustments during the grading process.\n",
        "\n",
        "If experiencing execution error(s) while evaluating the application's required functionality, evaluators are advised to reduce the project's grade by between 4% and 25%, depending on the circumstances and severity of the error(s).\n",
        "\n"
      ],
      "metadata": {
        "id": "yJosJ5Qv8kj8"
      }
    },
    {
      "cell_type": "markdown",
      "source": [
        "## Setup\n"
      ],
      "metadata": {
        "id": "OIH1FeThxMn_"
      }
    },
    {
      "cell_type": "markdown",
      "source": [
        "### API Key\n"
      ],
      "metadata": {
        "id": "msvuiCfV_Rlq"
      }
    },
    {
      "cell_type": "markdown",
      "source": [
        "\n",
        "\n",
        "Obtain a free AlphaVantage API Key, or use one of the prof's premium keys, and supply it via the cell below. Your code should reference this `API_KEY` variable when making requests."
      ],
      "metadata": {
        "id": "E7LM9kwAiZKj"
      }
    },
    {
      "cell_type": "code",
      "source": [
        "from getpass import getpass\n",
        "\n",
        "API_KEY = getpass(\"Please enter your API key: \")\n"
      ],
      "metadata": {
        "id": "volez18go4Xw",
        "colab": {
          "base_uri": "https://localhost:8080/"
        },
        "outputId": "b1b109d8-d52e-4c0f-fb99-ce7965a27bbc"
      },
      "execution_count": null,
      "outputs": [
        {
          "name": "stdout",
          "output_type": "stream",
          "text": [
            "Please enter your API key: ··········\n"
          ]
        }
      ]
    },
    {
      "cell_type": "markdown",
      "source": [
        "## Dashboard / Solution"
      ],
      "metadata": {
        "id": "8x6uXETRmZu9"
      }
    },
    {
      "cell_type": "markdown",
      "source": [
        "> NOTE: you may want to first develop your solution using the scratch work section at the bottom. Then when you are done and satisfied with your code, return to this section to package up your code in a working function and dashboard interface.\n",
        "\n",
        "> NOTE: Only the code in this solution section will be evaluated. All solution code needs to be packaged inside the function so that it is executed when the function is invoked!\n"
      ],
      "metadata": {
        "id": "wceut1AizhXQ"
      }
    },
    {
      "cell_type": "code",
      "source": [
        "import requests\n",
        "import json\n",
        "\n",
        "\n",
        "\n",
        "def display_articles(symbol=\"NFLX\", min_relevance=0.5):\n",
        "\n",
        "    print(\"NEWS FOR:\", symbol)\n",
        "    print(\"MIN RELEVANCE:\", min_relevance)\n",
        "    request_url = \"https://www.alphavantage.co/query?function=NEWS_SENTIMENT&tickers=\" + symbol + \"&apikey=\" +API_KEY\n",
        "    response = requests.get(request_url)\n",
        "    data = json.loads(response.text)\n",
        "    articles = data.get('feed', [])\n",
        "    print(\"Number of articles related to \" + symbol + \":\" + str(len(articles))+\"\\n\") # or print(len(data[\"feed\"]))\n",
        "    from IPython.display import Image, display\n",
        "    count = 1\n",
        "    print(\"First 3 Articles: \\n\")\n",
        "    for i in articles:\n",
        "      if count<4:\n",
        "        print(\"Article Number \"+ str(count))\n",
        "        print(\"Title: \" + i['title'])\n",
        "        print(\"Author: \" + str(i['authors'][0]))\n",
        "        display(Image(url=i['banner_image'], height=100))\n",
        "        print(\"Summary: \" + i['summary'])\n",
        "        print(\"URL: \" + i['url'])\n",
        "        for j in i['ticker_sentiment']:\n",
        "            if j['ticker'] == symbol:\n",
        "               print(\"Sentiment Score: \" + j['ticker_sentiment_score'])\n",
        "               print(\"Relevance Score: \" + j['relevance_score'])\n",
        "               print(\"\\n\" + \"-------------------------\" + \"\\n\")\n",
        "      count = count + 1\n",
        "    print(\"Articles with relevance score greater than \" + str(min_relevance) + \":\\n\")\n",
        "    count = 0\n",
        "    for i in articles:\n",
        "      count = count + 1\n",
        "      for j in i['ticker_sentiment']:\n",
        "        if j['ticker'] == symbol:\n",
        "          if float(j['relevance_score']) > min_relevance:\n",
        "              print(\"Article Number \"+ str(count))\n",
        "              print(\"Title: \" + i['title'])\n",
        "              print(\"Author: \" + str(i['authors'][0]))\n",
        "              display(Image(url=i['banner_image'], height=100))\n",
        "              print(\"Summary: \" + i['summary'])\n",
        "              print(\"URL: \" + i['url'])\n",
        "              print(\"Sentiment Score:\" + j['ticker_sentiment_score'])\n",
        "              print(\"Relevance Score:\" + j['relevance_score'])\n",
        "              print(\"\\n\" + \"-------------------------\" + \"\\n\")\n",
        "\n",
        "    # todo: display the articles\n",
        "\n",
        "\n",
        "\n"
      ],
      "metadata": {
        "id": "XAg8z2xnpcCz"
      },
      "execution_count": null,
      "outputs": []
    },
    {
      "cell_type": "markdown",
      "source": [
        "### Stock Selection Form"
      ],
      "metadata": {
        "id": "frkQ-V4NxBR6"
      }
    },
    {
      "cell_type": "code",
      "source": [
        "#@markdown Select a stock and a minimum relevance threshold. Then run the cell to display news artices relevant to that company.\n",
        "\n",
        "symbol = \"NFLX\"  #@param ['AAPL', 'GOOG', 'MSFT', 'NFLX']\n",
        "min_relevance = 0.4  #@param {type: \"slider\", min: 0, max: 1, step: 0.1}\n",
        "\n",
        "display_articles(symbol=symbol, min_relevance=min_relevance)"
      ],
      "metadata": {
        "colab": {
          "base_uri": "https://localhost:8080/",
          "height": 1000
        },
        "id": "Zm28YXBAo71-",
        "outputId": "e9eafd3a-3f06-4b2b-c682-55dcca62ac45"
      },
      "execution_count": null,
      "outputs": [
        {
          "output_type": "stream",
          "name": "stdout",
          "text": [
            "NEWS FOR: NFLX\n",
            "MIN RELEVANCE: 0.4\n",
            "Number of articles related to NFLX:50\n",
            "\n",
            "First 3 Articles: \n",
            "\n",
            "Article Number 1\n",
            "Title: Letting go of jurassic technology: Refusing to evolve is not an option\n",
            "Author: Guest\n"
          ]
        },
        {
          "output_type": "display_data",
          "data": {
            "text/html": [
              "<img src=\"https://www.financialexpress.com/wp-content/uploads/2023/10/Image-credit-Freepik344.jpg\" height=\"100\"/>"
            ],
            "text/plain": [
              "<IPython.core.display.Image object>"
            ]
          },
          "metadata": {}
        },
        {
          "output_type": "stream",
          "name": "stdout",
          "text": [
            "Summary: You're in the driver's seat of a 1960's classic Ford Mustang. It's timeless craftsmanship. an absolute gem - vintage, powerful, and iconic. But against the latest Tesla Model your Mustang may look like a relic from the past.\n",
            "URL: https://www.financialexpress.com/business/digital-transformation-letting-go-of-jurassic-technology-refusing-to-evolve-is-not-an-option-3263376/\n",
            "Sentiment Score: 0.136404\n",
            "Relevance Score: 0.085022\n",
            "\n",
            "-------------------------\n",
            "\n",
            "Article Number 2\n",
            "Title: Netflix And Chill, Buy Our Merch: Streaming Giant Ready To Make Money With New Consumer Products, Experiences From Shows - Netflix  ( NASDAQ:NFLX ) \n",
            "Author: Chris Katje\n"
          ]
        },
        {
          "output_type": "display_data",
          "data": {
            "text/html": [
              "<img src=\"https://cdn.benzinga.com/files/images/story/2023/10/04/netflix.shutterstock_1629484330.jpg?width=1200&height=800&fit=crop\" height=\"100\"/>"
            ],
            "text/plain": [
              "<IPython.core.display.Image object>"
            ]
          },
          "metadata": {}
        },
        {
          "output_type": "stream",
          "name": "stdout",
          "text": [
            "Summary: Streaming giant Netflix Inc NFLX has had many hit shows over the years from \"Stranger Things\" to \"Squid Game\" and everything in between. The company is now looking for more ways to monetize its loyal fans and the success of hit shows similar to other media companies.\n",
            "URL: https://www.benzinga.com/general/entertainment/23/10/35097694/netflix-and-chill-buy-our-merch-streaming-giant-ready-to-make-money-with-new-consumer-produ\n",
            "Sentiment Score: 0.256265\n",
            "Relevance Score: 0.872507\n",
            "\n",
            "-------------------------\n",
            "\n",
            "Article Number 3\n",
            "Title: Movie Review: In 'Fair Play,' a battle of the sexes on Wall Street\n",
            "Author: JAKE COYLE\n"
          ]
        },
        {
          "output_type": "display_data",
          "data": {
            "text/html": [
              "<img src=\"https://dims.apnews.com/dims4/default/e96d7af/2147483647/strip/true/crop/2924x1948+0+1/resize/599x399!/quality/90/?url=https%3A%2F%2Fassets.apnews.com%2F6a%2Fc9%2Fd28da425f905e24bb202c6a952c6%2F5a93d7b25f144da5b2f01db74482949a\" height=\"100\"/>"
            ],
            "text/plain": [
              "<IPython.core.display.Image object>"
            ]
          },
          "metadata": {}
        },
        {
          "output_type": "stream",
          "name": "stdout",
          "text": [
            "Summary: The disquieting root of debut \"Fair Play\" lies in the face of Luke ( Alden Ehrenreich ) as he learns that his fiance Emily ( Phoebe Dynevor ) has been given the promotion at their Wall Street hedge fund he thought was his. \"Congratulations,\" he says with a grin that looks more like a grimace. ...\n",
            "URL: https://apnews.com/article/fair-play-movie-review-streaming-netflix-edc0f6ae640f77b9c52e55a054063961\n",
            "Sentiment Score: -0.035926\n",
            "Relevance Score: 0.070935\n",
            "\n",
            "-------------------------\n",
            "\n",
            "Articles with relevance score greater than 0.4:\n",
            "\n",
            "Article Number 2\n",
            "Title: Netflix And Chill, Buy Our Merch: Streaming Giant Ready To Make Money With New Consumer Products, Experiences From Shows - Netflix  ( NASDAQ:NFLX ) \n",
            "Author: Chris Katje\n"
          ]
        },
        {
          "output_type": "display_data",
          "data": {
            "text/html": [
              "<img src=\"https://cdn.benzinga.com/files/images/story/2023/10/04/netflix.shutterstock_1629484330.jpg?width=1200&height=800&fit=crop\" height=\"100\"/>"
            ],
            "text/plain": [
              "<IPython.core.display.Image object>"
            ]
          },
          "metadata": {}
        },
        {
          "output_type": "stream",
          "name": "stdout",
          "text": [
            "Summary: Streaming giant Netflix Inc NFLX has had many hit shows over the years from \"Stranger Things\" to \"Squid Game\" and everything in between. The company is now looking for more ways to monetize its loyal fans and the success of hit shows similar to other media companies.\n",
            "URL: https://www.benzinga.com/general/entertainment/23/10/35097694/netflix-and-chill-buy-our-merch-streaming-giant-ready-to-make-money-with-new-consumer-produ\n",
            "Sentiment Score:0.256265\n",
            "Relevance Score:0.872507\n",
            "\n",
            "-------------------------\n",
            "\n",
            "Article Number 6\n",
            "Title: Netflix's Price Hike Is A Risky Move During Economic Uncertainty, Analyst Says - Netflix  ( NASDAQ:NFLX ) \n",
            "Author: Anusuya Lahiri\n"
          ]
        },
        {
          "output_type": "display_data",
          "data": {
            "text/html": [
              "<img src=\"https://cdn.benzinga.com/files/images/story/2023/10/04/netflix_tv-photo_by_tumisu_via_pixabay.jpg?width=1200&height=800&fit=crop\" height=\"100\"/>"
            ],
            "text/plain": [
              "<IPython.core.display.Image object>"
            ]
          },
          "metadata": {}
        },
        {
          "output_type": "stream",
          "name": "stdout",
          "text": [
            "Summary: Benchmark analyst Matthew Harrigan reiterated Netflix Inc NFLX with a Sell and a $325 price target.\n",
            "URL: https://www.benzinga.com/news/23/10/35093164/netflixs-price-hike-is-a-risky-move-during-economic-uncertainty-analyst-says\n",
            "Sentiment Score:0.172242\n",
            "Relevance Score:0.501398\n",
            "\n",
            "-------------------------\n",
            "\n",
            "Article Number 8\n",
            "Title: Here's Why Netflix Can Afford The Writers' Strike Deal\n",
            "Author: Investor's Business Daily\n"
          ]
        },
        {
          "output_type": "display_data",
          "data": {
            "text/html": [
              "<img src=\"https://www.investors.com/wp-content/uploads/2020/07/ETFLEADERS-netflix-072420-adobe.jpg\" height=\"100\"/>"
            ],
            "text/plain": [
              "<IPython.core.display.Image object>"
            ]
          },
          "metadata": {}
        },
        {
          "output_type": "stream",
          "name": "stdout",
          "text": [
            "Summary: After nearly five months, the Hollywood writers' strike is coming to an end with a tentative agreement with studios reached last week. But can Netflix, which was called \"Enemy No. 1\" during the strike, afford the new deal with the Writers Guild of America? And how will it affect Netflix stock?\n",
            "URL: https://www.investors.com/news/technology/netflix-stock-why-netflix-can-afford-writers-strike-deal/\n",
            "Sentiment Score:0.20726\n",
            "Relevance Score:0.629152\n",
            "\n",
            "-------------------------\n",
            "\n",
            "Article Number 14\n",
            "Title: Netflix Executive Chairman Acquires 17,717 Shares After Exercising Company Stock Options - Netflix  ( NASDAQ:NFLX ) \n",
            "Author: Benzinga Insights\n"
          ]
        },
        {
          "output_type": "display_data",
          "data": {
            "text/html": [
              "<img src=\"https://cdn.benzinga.com/files/images/story/2023/insider_image_2.jpeg?width=1200&height=800&fit=crop\" height=\"100\"/>"
            ],
            "text/plain": [
              "<IPython.core.display.Image object>"
            ]
          },
          "metadata": {}
        },
        {
          "output_type": "stream",
          "name": "stdout",
          "text": [
            "Summary: Reed Hastings, Executive Chairman at Netflix NFLX, reported a large exercise of company stock options on October 4, according to a new SEC filing. What Happened: A Form 4 filing from the U.S.\n",
            "URL: https://www.benzinga.com/news/23/10/35091684/netflix-executive-chairman-acquires-17-717-shares-after-exercising-company-stock-options\n",
            "Sentiment Score:0.37267\n",
            "Relevance Score:0.542261\n",
            "\n",
            "-------------------------\n",
            "\n",
            "Article Number 15\n",
            "Title: Get Ready to Pay More for Netflix\n",
            "Author: Rick Munarriz\n"
          ]
        },
        {
          "output_type": "display_data",
          "data": {
            "text/html": [
              "<img src=\"https://g.foolcdn.com/image/?url=https%3A%2F%2Fg.foolcdn.com%2Feditorial%2Fimages%2F749804%2Fgettyimages-1167992498.jpg&op=resize&w=700\" height=\"100\"/>"
            ],
            "text/plain": [
              "<IPython.core.display.Image object>"
            ]
          },
          "metadata": {}
        },
        {
          "output_type": "stream",
          "name": "stdout",
          "text": [
            "Summary: Mind the gap, subscribers and investors.\n",
            "URL: https://www.fool.com/investing/2023/10/04/get-ready-to-pay-more-for-netflix/\n",
            "Sentiment Score:0.241672\n",
            "Relevance Score:0.801457\n",
            "\n",
            "-------------------------\n",
            "\n",
            "Article Number 16\n",
            "Title: Netflix's price hike plans may prove untimely as economy and stock market weakens, analyst says\n",
            "Author: Ciara Linnane\n"
          ]
        },
        {
          "output_type": "display_data",
          "data": {
            "text/html": [
              "<img src=\"https://images.mktw.net/im-857322/social\" height=\"100\"/>"
            ],
            "text/plain": [
              "<IPython.core.display.Image object>"
            ]
          },
          "metadata": {}
        },
        {
          "output_type": "stream",
          "name": "stdout",
          "text": [
            "Summary: A report that Netflix Inc. is planning to raise prices as soon as the current actors strike is over may prove untimely.\n",
            "URL: https://www.marketwatch.com/story/netflixs-price-hike-plans-may-prove-untimely-as-economy-and-stock-market-weakens-analyst-says-6a00a67e\n",
            "Sentiment Score:0.119145\n",
            "Relevance Score:0.512933\n",
            "\n",
            "-------------------------\n",
            "\n",
            "Article Number 18\n",
            "Title: Netflix And Discovery+ Will Hike Streaming Prices As Hollywood Strike Wears On\n",
            "Author: Mary Whitfill Roeloffs\n"
          ]
        },
        {
          "output_type": "display_data",
          "data": {
            "text/html": [
              "<img src=\"https://imageio.forbes.com/specials-images/imageserve/651d6df35a847f032137524f/0x0.jpg?format=jpg&crop=4000,2252,x0,y206,safe&width=1200\" height=\"100\"/>"
            ],
            "text/plain": [
              "<IPython.core.display.Image object>"
            ]
          },
          "metadata": {}
        },
        {
          "output_type": "stream",
          "name": "stdout",
          "text": [
            "Summary: Here are all the streaming services that have raised their prices this year.\n",
            "URL: https://www.forbes.com/sites/maryroeloffs/2023/10/04/netflix-and-discovery-will-hike-streaming-prices-as-hollywood-strike-wears-on/\n",
            "Sentiment Score:0.038725\n",
            "Relevance Score:0.591449\n",
            "\n",
            "-------------------------\n",
            "\n",
            "Article Number 34\n",
            "Title: Netflix replaces top ad exec after one year in surprise shakeup, putting a company insider in charge of the growing business\n",
            "Author: Lucia Moses\n"
          ]
        },
        {
          "output_type": "display_data",
          "data": {
            "text/html": [
              "<img src=\"https://i.insider.com/651c999c617692f0d03e762c?width=1200&format=jpeg\" height=\"100\"/>"
            ],
            "text/plain": [
              "<IPython.core.display.Image object>"
            ]
          },
          "metadata": {}
        },
        {
          "output_type": "stream",
          "name": "stdout",
          "text": [
            "Summary: Netflix Replaces Top Ad Exec With Longtime Company Insider in Shakeup - Business Insider ...\n",
            "URL: https://www.businessinsider.com/netflix-replaces-top-ad-ex-with-company-insider-surprise-shakeup-2023-10\n",
            "Sentiment Score:0.159879\n",
            "Relevance Score:0.641573\n",
            "\n",
            "-------------------------\n",
            "\n",
            "Article Number 36\n",
            "Title: Netflix  ( NFLX )  Stock Moves -0.94%: What You Should Know\n",
            "Author: Zacks Equity Research\n"
          ]
        },
        {
          "output_type": "display_data",
          "data": {
            "text/html": [
              "<img src=\"https://staticx-tuner.zacks.com/images/default_article_images/default54.jpg\" height=\"100\"/>"
            ],
            "text/plain": [
              "<IPython.core.display.Image object>"
            ]
          },
          "metadata": {}
        },
        {
          "output_type": "stream",
          "name": "stdout",
          "text": [
            "Summary: Netflix (NFLX) closed at $376.77 in the latest trading session, marking a -0.94% move from the prior day.\n",
            "URL: https://www.zacks.com/stock/news/2159586/netflix-nflx-stock-moves--094-what-you-should-know\n",
            "Sentiment Score:0.194125\n",
            "Relevance Score:0.537213\n",
            "\n",
            "-------------------------\n",
            "\n",
            "Article Number 47\n",
            "Title: Netflix Stock Jumps As Company Contemplates Price Increases: The Details - Netflix  ( NASDAQ:NFLX ) \n",
            "Author: Adam Eckert\n"
          ]
        },
        {
          "output_type": "display_data",
          "data": {
            "text/html": [
              "<img src=\"https://cdn.benzinga.com/files/images/story/2023/10/03/tv-5571609_1920-2.jpg?width=1200&height=800&fit=crop\" height=\"100\"/>"
            ],
            "text/plain": [
              "<IPython.core.display.Image object>"
            ]
          },
          "metadata": {}
        },
        {
          "output_type": "stream",
          "name": "stdout",
          "text": [
            "Summary: Netflix Inc NFLX shares are trading higher Tuesday following a report suggesting the company plans to raise prices after the actors strike ends. What To Know: According to a Wall Street Journal report, Netflix will raise the price of its ad-free service a few months after the Hollywood actors ...\n",
            "URL: https://www.benzinga.com/news/23/10/35065382/netflix-stock-jumps-as-company-contemplates-price-increases-the-details\n",
            "Sentiment Score:-0.020904\n",
            "Relevance Score:0.87744\n",
            "\n",
            "-------------------------\n",
            "\n",
            "Article Number 48\n",
            "Title: Netflix plans to increase price of ad-free service once the actors strike ends: WSJ\n",
            "Author: Ciara Linnane\n"
          ]
        },
        {
          "output_type": "display_data",
          "data": {
            "text/html": [
              "<img src=\"https://images.mktw.net/im-861751/social\" height=\"100\"/>"
            ],
            "text/plain": [
              "<IPython.core.display.Image object>"
            ]
          },
          "metadata": {}
        },
        {
          "output_type": "stream",
          "name": "stdout",
          "text": [
            "Summary: T he streaming giant is discussing price hikes in a number of markets, but will likely kick them off in the U.S. and Canada, the paper reported.\n",
            "URL: https://www.marketwatch.com/story/netflix-plans-to-increase-price-of-ad-free-service-once-the-actors-strike-ends-wsj-55aa7050\n",
            "Sentiment Score:-0.208623\n",
            "Relevance Score:0.798255\n",
            "\n",
            "-------------------------\n",
            "\n"
          ]
        }
      ]
    },
    {
      "cell_type": "code",
      "source": [],
      "metadata": {
        "id": "E4HgDXbKB3c2"
      },
      "execution_count": null,
      "outputs": []
    },
    {
      "cell_type": "markdown",
      "source": [
        "## Walkthrough / Scratch Work"
      ],
      "metadata": {
        "id": "jy0_dkxerqQd"
      }
    },
    {
      "cell_type": "markdown",
      "source": [
        "Feel free to use the section below for scratch work, which will not be evaluated.\n",
        "\n",
        "If there is any solution code make sure to include it in the \"Solution\" section above instead!"
      ],
      "metadata": {
        "id": "ljz1uhFKBtFt"
      }
    },
    {
      "cell_type": "markdown",
      "source": [
        "\n",
        "A) Ask the user to input a stock symbol (i.e. \"NFLX\") and store it in a variable called `symbol`. Then print the selected symbol. Assume the user inputs a valid symbol (i.e. no need for validations).\n"
      ],
      "metadata": {
        "id": "jpkyjKg1juYm"
      }
    },
    {
      "cell_type": "code",
      "source": [
        "symbol = input(\"please enter a stock symbol: \")\n",
        "print(symbol)"
      ],
      "metadata": {
        "id": "CZNNfVhdjttO",
        "colab": {
          "base_uri": "https://localhost:8080/"
        },
        "outputId": "bf79ac53-2e3d-4842-f8c4-48ccc1043638"
      },
      "execution_count": null,
      "outputs": [
        {
          "output_type": "stream",
          "name": "stdout",
          "text": [
            "please enter a stock symbol: NFLX\n",
            "NFLX\n"
          ]
        }
      ]
    },
    {
      "cell_type": "markdown",
      "source": [
        "B) After consulting the API docs, find the desired request URL for Market News and Sentiments, and create a string variable called `request_url` to represent this URL. Use string concatenation or a format string to join the `symbol` variable from Part A with the prodived `API_KEY` variable from the setup cell. Assume the user has input a valid API Key (i.e. no need for validations).\n",
        "\n",
        "> NOTE: To include news across all categories, let's not supply any topic related parameters in our requests. The only URL parameters we should need are `function` and `tickers` and `apikey` (ignore all other params). See example provided below."
      ],
      "metadata": {
        "id": "R7GTe028jv1G"
      }
    },
    {
      "cell_type": "code",
      "source": [
        "request_url = \"https://www.alphavantage.co/query?function=NEWS_SENTIMENT&tickers=\" + symbol + \"&apikey=\" +API_KEY\n"
      ],
      "metadata": {
        "id": "johEn5Gls4F0"
      },
      "execution_count": null,
      "outputs": []
    },
    {
      "cell_type": "code",
      "source": [],
      "metadata": {
        "id": "KtHlTBtxkymi"
      },
      "execution_count": null,
      "outputs": []
    },
    {
      "cell_type": "code",
      "source": [],
      "metadata": {
        "id": "tSszXo9Mk60B"
      },
      "execution_count": null,
      "outputs": []
    },
    {
      "cell_type": "markdown",
      "source": [
        "\n",
        "C) Using the `request_url` variable from Part B, make an HTTP request for the market news and sentiments about the given company, and store the  response in a variable called `response`. Then convert the resulting JSON-formatted response data into a Python variable called `data`. Access the \"feed\" property of the data and store this in a variable called `articles`. Then print the number of articles (i.e. 50).\n"
      ],
      "metadata": {
        "id": "mYyjmmlUjxPE"
      }
    },
    {
      "cell_type": "code",
      "source": [
        "import json\n",
        "import requests\n",
        "\n",
        "response = requests.get(request_url)\n",
        "data = json.loads(response.text)\n",
        "articles = data.get('feed', [])\n",
        "print(articles)\n",
        "print(len(articles)) # or print(len(data[\"feed\"]))"
      ],
      "metadata": {
        "id": "PZjmq6S6kRpb",
        "colab": {
          "base_uri": "https://localhost:8080/"
        },
        "outputId": "d5dc2ba2-f103-4c5d-bb55-f3420d8433ff"
      },
      "execution_count": null,
      "outputs": [
        {
          "output_type": "stream",
          "name": "stdout",
          "text": [
            "[{'title': 'Letting go of jurassic technology: Refusing to evolve is not an option', 'url': 'https://www.financialexpress.com/business/digital-transformation-letting-go-of-jurassic-technology-refusing-to-evolve-is-not-an-option-3263376/', 'time_published': '20231005T030107', 'authors': ['Guest'], 'summary': \"You're in the driver's seat of a 1960's classic Ford Mustang. It's timeless craftsmanship. an absolute gem - vintage, powerful, and iconic. But against the latest Tesla Model your Mustang may look like a relic from the past.\", 'banner_image': 'https://www.financialexpress.com/wp-content/uploads/2023/10/Image-credit-Freepik344.jpg', 'source': 'The Financial Express', 'category_within_source': 'n/a', 'source_domain': 'www.financialexpress.com', 'topics': [{'topic': 'Technology', 'relevance_score': '0.5'}, {'topic': 'Manufacturing', 'relevance_score': '0.5'}], 'overall_sentiment_score': 0.228487, 'overall_sentiment_label': 'Somewhat-Bullish', 'ticker_sentiment': [{'ticker': 'NFLX', 'relevance_score': '0.085022', 'ticker_sentiment_score': '0.136404', 'ticker_sentiment_label': 'Neutral'}, {'ticker': 'SPOT', 'relevance_score': '0.085022', 'ticker_sentiment_score': '0.136404', 'ticker_sentiment_label': 'Neutral'}, {'ticker': 'NOK', 'relevance_score': '0.169081', 'ticker_sentiment_score': '0.185136', 'ticker_sentiment_label': 'Somewhat-Bullish'}]}, {'title': 'Netflix And Chill, Buy Our Merch: Streaming Giant Ready To Make Money With New Consumer Products, Experiences From Shows - Netflix  ( NASDAQ:NFLX ) ', 'url': 'https://www.benzinga.com/general/entertainment/23/10/35097694/netflix-and-chill-buy-our-merch-streaming-giant-ready-to-make-money-with-new-consumer-produ', 'time_published': '20231004T225641', 'authors': ['Chris Katje'], 'summary': 'Streaming giant Netflix Inc NFLX has had many hit shows over the years from \"Stranger Things\" to \"Squid Game\" and everything in between. The company is now looking for more ways to monetize its loyal fans and the success of hit shows similar to other media companies.', 'banner_image': 'https://cdn.benzinga.com/files/images/story/2023/10/04/netflix.shutterstock_1629484330.jpg?width=1200&height=800&fit=crop', 'source': 'Benzinga', 'category_within_source': 'General', 'source_domain': 'www.benzinga.com', 'topics': [{'topic': 'Earnings', 'relevance_score': '0.108179'}, {'topic': 'Financial Markets', 'relevance_score': '0.108179'}], 'overall_sentiment_score': 0.175696, 'overall_sentiment_label': 'Somewhat-Bullish', 'ticker_sentiment': [{'ticker': 'NFLX', 'relevance_score': '0.872507', 'ticker_sentiment_score': '0.256265', 'ticker_sentiment_label': 'Somewhat-Bullish'}]}, {'title': \"Movie Review: In 'Fair Play,' a battle of the sexes on Wall Street\", 'url': 'https://apnews.com/article/fair-play-movie-review-streaming-netflix-edc0f6ae640f77b9c52e55a054063961', 'time_published': '20231004T212000', 'authors': ['JAKE COYLE'], 'summary': 'The disquieting root of debut \"Fair Play\" lies in the face of Luke ( Alden Ehrenreich ) as he learns that his fiance Emily ( Phoebe Dynevor ) has been given the promotion at their Wall Street hedge fund he thought was his. \"Congratulations,\" he says with a grin that looks more like a grimace. ...', 'banner_image': 'https://dims.apnews.com/dims4/default/e96d7af/2147483647/strip/true/crop/2924x1948+0+1/resize/599x399!/quality/90/?url=https%3A%2F%2Fassets.apnews.com%2F6a%2Fc9%2Fd28da425f905e24bb202c6a952c6%2F5a93d7b25f144da5b2f01db74482949a', 'source': 'Associated Press', 'category_within_source': 'Business', 'source_domain': 'apnews.com', 'topics': [], 'overall_sentiment_score': 0.108064, 'overall_sentiment_label': 'Neutral', 'ticker_sentiment': [{'ticker': 'NFLX', 'relevance_score': '0.070935', 'ticker_sentiment_score': '-0.035926', 'ticker_sentiment_label': 'Neutral'}]}, {'title': \"The daily gossip: 'iCarly' reboot canceled after massive cliffhanger, Travis Kelce thinks the NFL is overdoing the Taylor Swift coverage, and more\", 'url': 'https://theweek.com/culture-life/the-daily-gossip-icarly-reboot-canceled-after-massive-cliffhanger-travis-kelce-thinks-the-nfl-is-overdoing-the-taylor-swift-coverage-and-more', 'time_published': '20231004T202213', 'authors': ['Brendan Morrow'], 'summary': \"The daily gossip: 'iCarly' reboot canceled after massive cliffhanger, Travis Kelce thinks the NFL is overdoing the Taylor ... The Week ...\", 'banner_image': 'https://cdn.mos.cms.futurecdn.net/KWfxbwQcKA63MohXEiBKFc-415-80.jpg', 'source': 'The Week News', 'category_within_source': 'n/a', 'source_domain': 'theweek.com', 'topics': [], 'overall_sentiment_score': -0.05858, 'overall_sentiment_label': 'Neutral', 'ticker_sentiment': [{'ticker': 'NFLX', 'relevance_score': '0.033282', 'ticker_sentiment_score': '-0.163602', 'ticker_sentiment_label': 'Somewhat-Bearish'}, {'ticker': 'FRNWF', 'relevance_score': '0.033282', 'ticker_sentiment_score': '0.055395', 'ticker_sentiment_label': 'Neutral'}]}, {'title': \"'Golden Bachelor' Debut Revives Franchise As Most-Watched 'Bachelor' In Years\", 'url': 'https://www.forbes.com/sites/maryroeloffs/2023/10/04/golden-bachelor-debut-revives-franchise-as-most-watched-bachelor-in-years/', 'time_published': '20231004T195220', 'authors': ['Mary Whitfill Roeloffs'], 'summary': 'The premiere of The Golden Bachelor was the most-viewed premiere on Hulu for any series in The Bachelor franchise and the most popular on ABC since early 2021.', 'banner_image': 'https://imageio.forbes.com/specials-images/imageserve/651dbeba8d457fb02ac628ec/0x0.jpg?format=jpg&crop=1905,1071,x0,y0,safe&width=1200', 'source': 'Forbes', 'category_within_source': 'Business', 'source_domain': 'www.forbes.com', 'topics': [{'topic': 'Technology', 'relevance_score': '1.0'}], 'overall_sentiment_score': 0.108318, 'overall_sentiment_label': 'Neutral', 'ticker_sentiment': [{'ticker': 'NFLX', 'relevance_score': '0.093108', 'ticker_sentiment_score': '-0.053117', 'ticker_sentiment_label': 'Neutral'}, {'ticker': 'FOX', 'relevance_score': '0.093108', 'ticker_sentiment_score': '-0.016708', 'ticker_sentiment_label': 'Neutral'}]}, {'title': \"Netflix's Price Hike Is A Risky Move During Economic Uncertainty, Analyst Says - Netflix  ( NASDAQ:NFLX ) \", 'url': 'https://www.benzinga.com/news/23/10/35093164/netflixs-price-hike-is-a-risky-move-during-economic-uncertainty-analyst-says', 'time_published': '20231004T192346', 'authors': ['Anusuya Lahiri'], 'summary': 'Benchmark analyst Matthew Harrigan reiterated Netflix Inc NFLX with a Sell and a $325 price target.', 'banner_image': 'https://cdn.benzinga.com/files/images/story/2023/10/04/netflix_tv-photo_by_tumisu_via_pixabay.jpg?width=1200&height=800&fit=crop', 'source': 'Benzinga', 'category_within_source': 'Trading', 'source_domain': 'www.benzinga.com', 'topics': [{'topic': 'Earnings', 'relevance_score': '0.108179'}, {'topic': 'Financial Markets', 'relevance_score': '0.538269'}], 'overall_sentiment_score': 0.004821, 'overall_sentiment_label': 'Neutral', 'ticker_sentiment': [{'ticker': 'NFLX', 'relevance_score': '0.501398', 'ticker_sentiment_score': '0.172242', 'ticker_sentiment_label': 'Somewhat-Bullish'}, {'ticker': 'FOREX:USD', 'relevance_score': '0.089797', 'ticker_sentiment_score': '0.260874', 'ticker_sentiment_label': 'Somewhat-Bullish'}]}, {'title': 'FAT JOE TEAMS UP WITH AVAKIN LIFE MERCHANDISE TO PROMOTE ECO-CONSCIOUSNESS, PLANETPLAY TO INVEST PROCEEDS INTO CLIMATE PROJECTS', 'url': 'https://www.benzinga.com/pressreleases/23/10/n35095967/fat-joe-teams-up-with-avakin-life-merchandise-to-promote-eco-consciousness-planetplay-to-invest-pr', 'time_published': '20231004T191800', 'authors': ['PRNewswire'], 'summary': 'New Interactive Entertainment Venture Featuring In-Game and Physical Merchandise is an Essential Step Toward Environmental Sustainability Fat Joe to Host Special One-Day In-Person Launch Event at UP NYC in the Bronx on Oct. 11', 'banner_image': 'https://www.benzinga.com/next-assets/images/schema-image-default.png', 'source': 'Benzinga', 'category_within_source': 'General', 'source_domain': 'www.benzinga.com', 'topics': [{'topic': 'Real Estate & Construction', 'relevance_score': '0.5'}, {'topic': 'Manufacturing', 'relevance_score': '0.5'}], 'overall_sentiment_score': 0.21997, 'overall_sentiment_label': 'Somewhat-Bullish', 'ticker_sentiment': [{'ticker': 'APG', 'relevance_score': '0.031119', 'ticker_sentiment_score': '0.076537', 'ticker_sentiment_label': 'Neutral'}, {'ticker': 'NFLX', 'relevance_score': '0.031119', 'ticker_sentiment_score': '0.099439', 'ticker_sentiment_label': 'Neutral'}, {'ticker': 'NKE', 'relevance_score': '0.031119', 'ticker_sentiment_score': '0.067401', 'ticker_sentiment_label': 'Neutral'}, {'ticker': 'ILST', 'relevance_score': '0.031119', 'ticker_sentiment_score': '0.067401', 'ticker_sentiment_label': 'Neutral'}]}, {'title': \"Here's Why Netflix Can Afford The Writers' Strike Deal\", 'url': 'https://www.investors.com/news/technology/netflix-stock-why-netflix-can-afford-writers-strike-deal/', 'time_published': '20231004T173600', 'authors': [\"Investor's Business Daily\", 'MEREDITH HEYMAN'], 'summary': 'After nearly five months, the Hollywood writers\\' strike is coming to an end with a tentative agreement with studios reached last week. But can Netflix, which was called \"Enemy No. 1\" during the strike, afford the new deal with the Writers Guild of America? And how will it affect Netflix stock?', 'banner_image': 'https://www.investors.com/wp-content/uploads/2020/07/ETFLEADERS-netflix-072420-adobe.jpg', 'source': 'Investors Business Daily', 'category_within_source': 'n/a', 'source_domain': 'www.investors.com', 'topics': [{'topic': 'Earnings', 'relevance_score': '0.714479'}, {'topic': 'Financial Markets', 'relevance_score': '0.316726'}, {'topic': 'Manufacturing', 'relevance_score': '1.0'}], 'overall_sentiment_score': 0.118997, 'overall_sentiment_label': 'Neutral', 'ticker_sentiment': [{'ticker': 'NFLX', 'relevance_score': '0.629152', 'ticker_sentiment_score': '0.20726', 'ticker_sentiment_label': 'Somewhat-Bullish'}, {'ticker': 'NVDA', 'relevance_score': '0.067919', 'ticker_sentiment_score': '0.037554', 'ticker_sentiment_label': 'Neutral'}]}, {'title': 'Global Hybrid AVOD/SVOD Market Report 2023-2029: Streaming Entertainment is on the Verge of a Significant Transformation', 'url': 'https://www.benzinga.com/pressreleases/23/10/n35093234/global-hybrid-avodsvod-market-report-2023-2029-streaming-entertainment-is-on-the-verge-of-a-signif', 'time_published': '20231004T161500', 'authors': ['PRNewswire'], 'summary': 'DUBLIN, Oct. 4, 2023 /PRNewswire/ -- The \"Hybrid AVOD-SVOD Forecasts\" report has been added to ResearchAndMarkets.com\\'s offering. The landscape of streaming entertainment is on the verge of a significant transformation, as industry giants Netflix, Disney+, HBO, and Paramount+ gear up to usher in ...', 'banner_image': 'https://www.benzinga.com/next-assets/images/schema-image-default.png', 'source': 'Benzinga', 'category_within_source': 'General', 'source_domain': 'www.benzinga.com', 'topics': [], 'overall_sentiment_score': 0.191172, 'overall_sentiment_label': 'Somewhat-Bullish', 'ticker_sentiment': [{'ticker': 'NFLX', 'relevance_score': '0.206685', 'ticker_sentiment_score': '0.204201', 'ticker_sentiment_label': 'Somewhat-Bullish'}, {'ticker': 'WBD', 'relevance_score': '0.206685', 'ticker_sentiment_score': '0.204201', 'ticker_sentiment_label': 'Somewhat-Bullish'}]}, {'title': \"Warner Bros. Discovery's  ( WBD )  Discovery+ Announces Price Hike\", 'url': 'https://www.zacks.com/stock/news/2160267/warner-bros-discoverys-wbd-discovery-announces-price-hike', 'time_published': '20231004T155700', 'authors': ['Zacks Equity Research'], 'summary': 'Warner Bros. Discovery (WBD) is raising the price of its ad-free monthly subscription for Discovery+ in the United States and Canada.', 'banner_image': 'https://staticx-tuner.zacks.com/images/articles/main/51/5120.jpg', 'source': 'Zacks Commentary', 'category_within_source': 'n/a', 'source_domain': 'www.zacks.com', 'topics': [], 'overall_sentiment_score': 0.191867, 'overall_sentiment_label': 'Somewhat-Bullish', 'ticker_sentiment': [{'ticker': 'NFLX', 'relevance_score': '0.328236', 'ticker_sentiment_score': '0.178242', 'ticker_sentiment_label': 'Somewhat-Bullish'}]}, {'title': 'KINO Studios Announces Inaugural Short Film Festival - Submissions Now Open', 'url': 'https://www.benzinga.com/pressreleases/23/10/n35092537/kino-studios-announces-inaugural-short-film-festival-submissions-now-open', 'time_published': '20231004T153500', 'authors': ['PRNewswire'], 'summary': 'The company looking to make the entertainment industry more equitable has just announced its first film festival with a grand prize of $25K', 'banner_image': 'https://www.benzinga.com/next-assets/images/schema-image-default.png', 'source': 'Benzinga', 'category_within_source': 'General', 'source_domain': 'www.benzinga.com', 'topics': [], 'overall_sentiment_score': 0.345187, 'overall_sentiment_label': 'Somewhat-Bullish', 'ticker_sentiment': [{'ticker': 'LNVGF', 'relevance_score': '0.055364', 'ticker_sentiment_score': '0.075855', 'ticker_sentiment_label': 'Neutral'}, {'ticker': 'NFLX', 'relevance_score': '0.271576', 'ticker_sentiment_score': '0.042946', 'ticker_sentiment_label': 'Neutral'}]}, {'title': \"'Tiger King' animal trainer 'Doc' Antle gets suspended sentence for wildlife trafficking in Virginia\", 'url': 'https://apnews.com/article/doc-antle-sentenced-tiger-king-virginia-40d5ecb72da38f45581d99855e7c4c75', 'time_published': '20231004T151500', 'authors': [], 'summary': 'WINCHESTER, Va. ( AP ) - An animal trainer featured in the popular Netflix series \"Tiger King\" has received a suspended two-year sentence after being in Virginia, the state attorney general\\'s office announced.', 'banner_image': 'https://dims.apnews.com/dims4/default/ef8269d/2147483647/strip/true/crop/3005x2000+98+0/resize/320x213!/quality/90/?url=https%3A%2F%2Fassets.apnews.com%2F6c%2Fa9%2F094663c7cd1fa28862653701af20%2F4b897d61035846148c3995631f5f11f2', 'source': 'Associated Press', 'category_within_source': 'Markets', 'source_domain': 'apnews.com', 'topics': [], 'overall_sentiment_score': -0.224813, 'overall_sentiment_label': 'Somewhat-Bearish', 'ticker_sentiment': [{'ticker': 'NFLX', 'relevance_score': '0.350564', 'ticker_sentiment_score': '-0.153136', 'ticker_sentiment_label': 'Somewhat-Bearish'}]}, {'title': 'DICTIONARY.COM OPENS ENTRIES FOR ANNUAL HAUNTING HOOKS WRITING CONTEST FEATURING GUEST JUDGE R.L. STINE', 'url': 'https://www.benzinga.com/pressreleases/23/10/n35092082/dictionary-com-opens-entries-for-annual-haunting-hooks-writing-contest-featuring-guest-judge-r-l-s', 'time_published': '20231004T151500', 'authors': ['PRNewswire'], 'summary': \"Write a captivating opening to a scary story in 50 words or less! Entries open now through Friday, October 13, with R.L. Stine's top pick to be announced on Halloween\", 'banner_image': 'https://www.benzinga.com/next-assets/images/schema-image-default.png', 'source': 'Benzinga', 'category_within_source': 'General', 'source_domain': 'www.benzinga.com', 'topics': [{'topic': 'Technology', 'relevance_score': '1.0'}], 'overall_sentiment_score': 0.126692, 'overall_sentiment_label': 'Neutral', 'ticker_sentiment': [{'ticker': 'NFLX', 'relevance_score': '0.110973', 'ticker_sentiment_score': '0.107991', 'ticker_sentiment_label': 'Neutral'}, {'ticker': 'META', 'relevance_score': '0.055621', 'ticker_sentiment_score': '0.059878', 'ticker_sentiment_label': 'Neutral'}]}, {'title': 'Netflix Executive Chairman Acquires 17,717 Shares After Exercising Company Stock Options - Netflix  ( NASDAQ:NFLX ) ', 'url': 'https://www.benzinga.com/news/23/10/35091684/netflix-executive-chairman-acquires-17-717-shares-after-exercising-company-stock-options', 'time_published': '20231004T150012', 'authors': ['Benzinga Insights'], 'summary': 'Reed Hastings, Executive Chairman at Netflix NFLX, reported a large exercise of company stock options on October 4, according to a new SEC filing. What Happened: A Form 4 filing from the U.S.', 'banner_image': 'https://cdn.benzinga.com/files/images/story/2023/insider_image_2.jpeg?width=1200&height=800&fit=crop', 'source': 'Benzinga', 'category_within_source': 'Trading', 'source_domain': 'www.benzinga.com', 'topics': [{'topic': 'Financial Markets', 'relevance_score': '0.99393'}], 'overall_sentiment_score': 0.191821, 'overall_sentiment_label': 'Somewhat-Bullish', 'ticker_sentiment': [{'ticker': 'NFLX', 'relevance_score': '0.542261', 'ticker_sentiment_score': '0.37267', 'ticker_sentiment_label': 'Bullish'}]}, {'title': 'Get Ready to Pay More for Netflix', 'url': 'https://www.fool.com/investing/2023/10/04/get-ready-to-pay-more-for-netflix/', 'time_published': '20231004T150000', 'authors': ['Rick Munarriz'], 'summary': 'Mind the gap, subscribers and investors.', 'banner_image': 'https://g.foolcdn.com/image/?url=https%3A%2F%2Fg.foolcdn.com%2Feditorial%2Fimages%2F749804%2Fgettyimages-1167992498.jpg&op=resize&w=700', 'source': 'Motley Fool', 'category_within_source': 'n/a', 'source_domain': 'www.fool.com', 'topics': [{'topic': 'Earnings', 'relevance_score': '0.684621'}], 'overall_sentiment_score': 0.142282, 'overall_sentiment_label': 'Neutral', 'ticker_sentiment': [{'ticker': 'NFLX', 'relevance_score': '0.801457', 'ticker_sentiment_score': '0.241672', 'ticker_sentiment_label': 'Somewhat-Bullish'}]}, {'title': \"Netflix's price hike plans may prove untimely as economy and stock market weakens, analyst says\", 'url': 'https://www.marketwatch.com/story/netflixs-price-hike-plans-may-prove-untimely-as-economy-and-stock-market-weakens-analyst-says-6a00a67e', 'time_published': '20231004T140200', 'authors': ['Ciara Linnane'], 'summary': 'A report that Netflix Inc. is planning to raise prices as soon as the current actors strike is over may prove untimely.', 'banner_image': 'https://images.mktw.net/im-857322/social', 'source': 'MarketWatch', 'category_within_source': 'Top Stories', 'source_domain': 'www.marketwatch.com', 'topics': [{'topic': 'Earnings', 'relevance_score': '0.360215'}, {'topic': 'Financial Markets', 'relevance_score': '0.796627'}], 'overall_sentiment_score': 0.139735, 'overall_sentiment_label': 'Neutral', 'ticker_sentiment': [{'ticker': 'NFLX', 'relevance_score': '0.512933', 'ticker_sentiment_score': '0.119145', 'ticker_sentiment_label': 'Neutral'}, {'ticker': 'FOREX:USD', 'relevance_score': '0.092213', 'ticker_sentiment_score': '0.068487', 'ticker_sentiment_label': 'Neutral'}]}, {'title': 'Canadian Theatre Stars Liam Tobin, Danielle Wade & Olivia Sinclair-Brisbane Announced for the World Premiere of ... - Canada NewsWire', 'url': 'https://www.newswire.ca/news-releases/canadian-theatre-stars-liam-tobin-danielle-wade-amp-olivia-sinclair-brisbane-announced-for-the-world-premiere-of-chris-mrs-a-new-holiday-musical-848327488.html', 'time_published': '20231004T140000', 'authors': [], 'summary': 'Canadian Theatre Stars Liam Tobin, Danielle Wade & Olivia Sinclair-Brisbane Announced for the World Premiere of ... Canada ...', 'banner_image': None, 'source': 'Canada Newswire', 'category_within_source': 'n/a', 'source_domain': 'www.newswire.ca', 'topics': [], 'overall_sentiment_score': 0.252549, 'overall_sentiment_label': 'Somewhat-Bullish', 'ticker_sentiment': [{'ticker': 'NFLX', 'relevance_score': '0.031079', 'ticker_sentiment_score': '0.00188', 'ticker_sentiment_label': 'Neutral'}]}, {'title': 'Netflix And Discovery+ Will Hike Streaming Prices As Hollywood Strike Wears On', 'url': 'https://www.forbes.com/sites/maryroeloffs/2023/10/04/netflix-and-discovery-will-hike-streaming-prices-as-hollywood-strike-wears-on/', 'time_published': '20231004T135719', 'authors': ['Mary Whitfill Roeloffs'], 'summary': 'Here are all the streaming services that have raised their prices this year.', 'banner_image': 'https://imageio.forbes.com/specials-images/imageserve/651d6df35a847f032137524f/0x0.jpg?format=jpg&crop=4000,2252,x0,y206,safe&width=1200', 'source': 'Forbes', 'category_within_source': 'Business', 'source_domain': 'www.forbes.com', 'topics': [{'topic': 'Earnings', 'relevance_score': '0.158519'}, {'topic': 'Economy - Monetary', 'relevance_score': '0.158519'}, {'topic': 'Technology', 'relevance_score': '1.0'}], 'overall_sentiment_score': 0.059577, 'overall_sentiment_label': 'Neutral', 'ticker_sentiment': [{'ticker': 'NFLX', 'relevance_score': '0.591449', 'ticker_sentiment_score': '0.038725', 'ticker_sentiment_label': 'Neutral'}, {'ticker': 'WBD', 'relevance_score': '0.131284', 'ticker_sentiment_score': '0.029191', 'ticker_sentiment_label': 'Neutral'}, {'ticker': 'AMCX', 'relevance_score': '0.065866', 'ticker_sentiment_score': '0.028072', 'ticker_sentiment_label': 'Neutral'}]}, {'title': 'Down Nearly 50% From Its High, Is fuboTV Stock a Bargain Buy?', 'url': 'https://www.fool.com/investing/2023/10/04/down-nearly-50-from-its-high-is-fubotv-a-bargain/', 'time_published': '20231004T133700', 'authors': ['David Jagielski'], 'summary': 'The streaming company expects its sales to rise by 29% this year.', 'banner_image': 'https://media.ycharts.com/charts/178df42af9d22b766031f70cb86bdb94.png', 'source': 'Motley Fool', 'category_within_source': 'n/a', 'source_domain': 'www.fool.com', 'topics': [{'topic': 'Economy - Monetary', 'relevance_score': '0.158519'}, {'topic': 'Financial Markets', 'relevance_score': '0.684621'}, {'topic': 'Earnings', 'relevance_score': '0.684621'}, {'topic': 'Technology', 'relevance_score': '1.0'}], 'overall_sentiment_score': 0.139563, 'overall_sentiment_label': 'Neutral', 'ticker_sentiment': [{'ticker': 'NFLX', 'relevance_score': '0.068306', 'ticker_sentiment_score': '0.157392', 'ticker_sentiment_label': 'Somewhat-Bullish'}, {'ticker': 'GOOG', 'relevance_score': '0.068306', 'ticker_sentiment_score': '0.0', 'ticker_sentiment_label': 'Neutral'}]}, {'title': 'Wall Street Analysts See Netflix  ( NFLX )  as a Buy: Should You Invest?', 'url': 'https://www.zacks.com/stock/news/2159970/wall-street-analysts-see-netflix-nflx-as-a-buy-should-you-invest', 'time_published': '20231004T133005', 'authors': ['Zacks Equity Research'], 'summary': \"Based on the average brokerage recommendation (ABR), Netflix (NFLX) should be added to one's portfolio. Wall Street analysts' overly optimistic recommendations cast doubt on the effectiveness of this highly sought-after metric. So, is the stock worth buying?\", 'banner_image': 'https://staticx-tuner.zacks.com/images/yesopchart/brokerage_bar/NFLX_10042023.png', 'source': 'Zacks Commentary', 'category_within_source': 'n/a', 'source_domain': 'www.zacks.com', 'topics': [{'topic': 'Earnings', 'relevance_score': '0.938238'}, {'topic': 'Financial Markets', 'relevance_score': '0.503496'}], 'overall_sentiment_score': 0.258687, 'overall_sentiment_label': 'Somewhat-Bullish', 'ticker_sentiment': [{'ticker': 'NFLX', 'relevance_score': '0.360752', 'ticker_sentiment_score': '0.147532', 'ticker_sentiment_label': 'Neutral'}]}, {'title': \"Jim Cramer's top 10 things to watch in the stock market Wednesday\", 'url': 'https://www.cnbc.com/2023/10/04/jim-cramers-top-10-things-to-watch-in-the-stock-market-wednesday.html', 'time_published': '20231004T131212', 'authors': ['Jim Cramer'], 'summary': 'Stock futures are up on light jobs data, but several headwinds keeping a lid on prices.', 'banner_image': 'https://image.cnbcfm.com/api/v1/image/107306729-16957419172023-09-26t152140z_1602763426_rc2eg3a3yuvw_rtrmadp_0_usa-stocks.jpeg?v=1696425132&w=1920&h=1080', 'source': 'CNBC', 'category_within_source': 'Top News', 'source_domain': 'www.cnbc.com', 'topics': [{'topic': 'Life Sciences', 'relevance_score': '0.2'}, {'topic': 'Energy & Transportation', 'relevance_score': '0.2'}, {'topic': 'Technology', 'relevance_score': '0.2'}, {'topic': 'Finance', 'relevance_score': '0.2'}, {'topic': 'Financial Markets', 'relevance_score': '0.997902'}, {'topic': 'Manufacturing', 'relevance_score': '0.2'}, {'topic': 'Earnings', 'relevance_score': '0.360215'}], 'overall_sentiment_score': 0.019354, 'overall_sentiment_label': 'Neutral', 'ticker_sentiment': [{'ticker': 'BLK', 'relevance_score': '0.122269', 'ticker_sentiment_score': '0.131755', 'ticker_sentiment_label': 'Neutral'}, {'ticker': 'NFLX', 'relevance_score': '0.182506', 'ticker_sentiment_score': '0.163269', 'ticker_sentiment_label': 'Somewhat-Bullish'}, {'ticker': 'AAPL', 'relevance_score': '0.299478', 'ticker_sentiment_score': '-0.223117', 'ticker_sentiment_label': 'Somewhat-Bearish'}, {'ticker': 'HAL', 'relevance_score': '0.122269', 'ticker_sentiment_score': '0.135998', 'ticker_sentiment_label': 'Neutral'}, {'ticker': 'C', 'relevance_score': '0.122269', 'ticker_sentiment_score': '-0.048044', 'ticker_sentiment_label': 'Neutral'}, {'ticker': 'WFC', 'relevance_score': '0.061315', 'ticker_sentiment_score': '0.11', 'ticker_sentiment_label': 'Neutral'}, {'ticker': 'INTC', 'relevance_score': '0.299478', 'ticker_sentiment_score': '0.146776', 'ticker_sentiment_label': 'Neutral'}, {'ticker': 'JPM', 'relevance_score': '0.061315', 'ticker_sentiment_score': '-0.058223', 'ticker_sentiment_label': 'Neutral'}, {'ticker': 'JNJ', 'relevance_score': '0.122269', 'ticker_sentiment_score': '-0.06858', 'ticker_sentiment_label': 'Neutral'}, {'ticker': 'KVUE', 'relevance_score': '0.122269', 'ticker_sentiment_score': '-0.06858', 'ticker_sentiment_label': 'Neutral'}, {'ticker': 'MCO', 'relevance_score': '0.061315', 'ticker_sentiment_score': '-0.13571', 'ticker_sentiment_label': 'Neutral'}, {'ticker': 'SQ', 'relevance_score': '0.122269', 'ticker_sentiment_score': '-0.199354', 'ticker_sentiment_label': 'Somewhat-Bearish'}]}, {'title': 'Hard Candy x Wednesday Drops the Most Woe-ful Halloween Collection', 'url': 'https://www.benzinga.com/pressreleases/23/10/n35088224/hard-candy-x-wednesday-drops-the-most-woe-ful-halloween-collection', 'time_published': '20231004T130300', 'authors': ['PRNewswire'], 'summary': \"Unleash your inner outcast, exclusively at Walmart NEW YORK, Wednesday, Oct. 4, 2023 /PRNewswire/ -- It's kooky, spooky and coming to a makeup shelf near you.\", 'banner_image': 'https://www.benzinga.com/next-assets/images/schema-image-default.png', 'source': 'Benzinga', 'category_within_source': 'General', 'source_domain': 'www.benzinga.com', 'topics': [{'topic': 'Retail & Wholesale', 'relevance_score': '1.0'}], 'overall_sentiment_score': 0.332005, 'overall_sentiment_label': 'Somewhat-Bullish', 'ticker_sentiment': [{'ticker': 'NFLX', 'relevance_score': '0.098054', 'ticker_sentiment_score': '0.004431', 'ticker_sentiment_label': 'Neutral'}, {'ticker': 'WMT', 'relevance_score': '0.098054', 'ticker_sentiment_score': '0.018479', 'ticker_sentiment_label': 'Neutral'}]}, {'title': \"IPG's Huge Announces '10 Huge Moves for 2024' in New Annual Issue\", 'url': 'https://www.globenewswire.com/news-release/2023/10/04/2754620/0/en/IPG-s-Huge-Announces-10-Huge-Moves-for-2024-in-New-Annual-Issue.html', 'time_published': '20231004T130000', 'authors': ['Interpublic Group of Companies', 'Inc. (The)'], 'summary': 'Creative Consultancy Huge Launches Second Edition of Huge Moves™ Magazine Creative Consultancy Huge Launches Second Edition of Huge Moves™ Magazine ...', 'banner_image': 'https://ml.globenewswire.com/Resource/Download/dd775497-2ef8-4afa-bf28-dc6e1c510eb3', 'source': 'GlobeNewswire', 'category_within_source': 'n/a', 'source_domain': 'www.globenewswire.com', 'topics': [{'topic': 'Financial Markets', 'relevance_score': '0.158519'}, {'topic': 'Manufacturing', 'relevance_score': '0.333333'}, {'topic': 'Earnings', 'relevance_score': '0.360215'}, {'topic': 'Technology', 'relevance_score': '0.333333'}, {'topic': 'Finance', 'relevance_score': '0.333333'}], 'overall_sentiment_score': 0.368098, 'overall_sentiment_label': 'Bullish', 'ticker_sentiment': [{'ticker': 'MSFT', 'relevance_score': '0.032871', 'ticker_sentiment_score': '0.12837', 'ticker_sentiment_label': 'Neutral'}, {'ticker': 'NFLX', 'relevance_score': '0.032871', 'ticker_sentiment_score': '0.117517', 'ticker_sentiment_label': 'Neutral'}, {'ticker': 'NYT', 'relevance_score': '0.065685', 'ticker_sentiment_score': '0.126613', 'ticker_sentiment_label': 'Neutral'}, {'ticker': 'WBD', 'relevance_score': '0.065685', 'ticker_sentiment_score': '0.126613', 'ticker_sentiment_label': 'Neutral'}, {'ticker': 'GS', 'relevance_score': '0.032871', 'ticker_sentiment_score': '0.117517', 'ticker_sentiment_label': 'Neutral'}, {'ticker': 'MAORF', 'relevance_score': '0.032871', 'ticker_sentiment_score': '0.117517', 'ticker_sentiment_label': 'Neutral'}, {'ticker': 'FOREX:BGN', 'relevance_score': '0.032871', 'ticker_sentiment_score': '0.117517', 'ticker_sentiment_label': 'Neutral'}]}, {'title': 'Capitol And Capital Crises', 'url': 'https://www.forbes.com/sites/jjkinahan/2023/10/04/capitol-and-capital-crises/', 'time_published': '20231004T125259', 'authors': ['JJ Kinahan'], 'summary': 'Momentum then kicked in as rumors Kevin McCarthy would be removed from his Speaker of the House role gained traction.', 'banner_image': 'https://imageio.forbes.com/specials-images/imageserve/651d5d0cfc8d0f8fc7a0ee87/0x0.jpg?format=jpg&width=1200', 'source': 'Forbes', 'category_within_source': 'Money', 'source_domain': 'www.forbes.com', 'topics': [{'topic': 'Earnings', 'relevance_score': '0.451494'}, {'topic': 'Financial Markets', 'relevance_score': '0.955357'}], 'overall_sentiment_score': 0.048412, 'overall_sentiment_label': 'Neutral', 'ticker_sentiment': [{'ticker': 'NFLX', 'relevance_score': '0.093289', 'ticker_sentiment_score': '-0.152589', 'ticker_sentiment_label': 'Somewhat-Bearish'}, {'ticker': 'FOREX:USD', 'relevance_score': '0.046724', 'ticker_sentiment_score': '0.06142', 'ticker_sentiment_label': 'Neutral'}]}, {'title': \"Here's the Next Stock I'm Going to Buy\", 'url': 'https://www.fool.com/investing/2023/10/04/heres-the-next-stock-im-going-to-buy/', 'time_published': '20231004T123300', 'authors': ['Bradley Guichard'], 'summary': \"This company's dominance is only in the early innings.\", 'banner_image': 'https://g.foolcdn.com/image/?url=https%3A%2F%2Fg.foolcdn.com%2Feditorial%2Fimages%2F749464%2Fstatistic_id1365145_global-artificial-intelligence-market-size-2021-2030-2.png&op=resize&w=700', 'source': 'Motley Fool', 'category_within_source': 'n/a', 'source_domain': 'www.fool.com', 'topics': [{'topic': 'Financial Markets', 'relevance_score': '0.214378'}, {'topic': 'Manufacturing', 'relevance_score': '0.5'}, {'topic': 'Earnings', 'relevance_score': '0.857896'}, {'topic': 'Technology', 'relevance_score': '0.5'}], 'overall_sentiment_score': 0.223326, 'overall_sentiment_label': 'Somewhat-Bullish', 'ticker_sentiment': [{'ticker': 'AMD', 'relevance_score': '0.053749', 'ticker_sentiment_score': '0.040002', 'ticker_sentiment_label': 'Neutral'}, {'ticker': 'MSFT', 'relevance_score': '0.107255', 'ticker_sentiment_score': '0.052308', 'ticker_sentiment_label': 'Neutral'}, {'ticker': 'NFLX', 'relevance_score': '0.107255', 'ticker_sentiment_score': '0.296765', 'ticker_sentiment_label': 'Somewhat-Bullish'}, {'ticker': 'GOOG', 'relevance_score': '0.053749', 'ticker_sentiment_score': '0.118998', 'ticker_sentiment_label': 'Neutral'}, {'ticker': 'NVDA', 'relevance_score': '0.410338', 'ticker_sentiment_score': '0.174709', 'ticker_sentiment_label': 'Somewhat-Bullish'}]}, {'title': \"'Loud quitting' is the newest workplace trend, but it might not result in the type of impact you hope for\", 'url': 'https://www.businessinsider.com/loud-quitting-workplace-trend-gen-z-2023-10', 'time_published': '20231004T120200', 'authors': ['Dan DeFrancesco'], 'summary': \"'Loud quiting' is growing in popularity in the workplace - Business Insider ...\", 'banner_image': None, 'source': 'Business Insider', 'category_within_source': 'GoogleRSS', 'source_domain': 'www.businessinsider.com', 'topics': [{'topic': 'Technology', 'relevance_score': '0.5'}, {'topic': 'Manufacturing', 'relevance_score': '0.5'}], 'overall_sentiment_score': 0.017088, 'overall_sentiment_label': 'Neutral', 'ticker_sentiment': [{'ticker': 'NFLX', 'relevance_score': '0.033515', 'ticker_sentiment_score': '0.013633', 'ticker_sentiment_label': 'Neutral'}, {'ticker': 'NYT', 'relevance_score': '0.033515', 'ticker_sentiment_score': '0.013633', 'ticker_sentiment_label': 'Neutral'}, {'ticker': 'GOOG', 'relevance_score': '0.06697', 'ticker_sentiment_score': '0.014168', 'ticker_sentiment_label': 'Neutral'}, {'ticker': 'META', 'relevance_score': '0.033515', 'ticker_sentiment_score': '0.013633', 'ticker_sentiment_label': 'Neutral'}, {'ticker': 'ABNB', 'relevance_score': '0.033515', 'ticker_sentiment_score': '0.013633', 'ticker_sentiment_label': 'Neutral'}, {'ticker': 'SFTBF', 'relevance_score': '0.033515', 'ticker_sentiment_score': '0.013633', 'ticker_sentiment_label': 'Neutral'}]}, {'title': 'Peloton Goes All-In on Its New Strategy With Lululemon Partnership -- Could It Really Work?', 'url': 'https://www.fool.com/investing/2023/10/04/peloton-goes-all-in-on-its-new-strategy-with-lulul/', 'time_published': '20231004T110200', 'authors': ['Jon Quast'], 'summary': \"Why has the company's subscription profit margin hit a ceiling?\", 'banner_image': 'https://g.foolcdn.com/misc-assets/hp-sa-cumulative-growth-chart.png', 'source': 'Motley Fool', 'category_within_source': 'n/a', 'source_domain': 'www.fool.com', 'topics': [{'topic': 'Financial Markets', 'relevance_score': '0.495866'}, {'topic': 'Manufacturing', 'relevance_score': '1.0'}], 'overall_sentiment_score': 0.12725, 'overall_sentiment_label': 'Neutral', 'ticker_sentiment': [{'ticker': 'NFLX', 'relevance_score': '0.101582', 'ticker_sentiment_score': '0.033264', 'ticker_sentiment_label': 'Neutral'}, {'ticker': 'PTON', 'relevance_score': '0.101582', 'ticker_sentiment_score': '0.063909', 'ticker_sentiment_label': 'Neutral'}]}, {'title': 'Red Bull Racing Highlights Female Engineers In Formula 1', 'url': 'https://www.forbes.com/sites/josephwolkin/2023/10/04/red-bull-racing-highlights-female-engineers-in-formula-1/', 'time_published': '20231004T110000', 'authors': ['Joseph Wolkin'], 'summary': 'Oracle Red Bull Racing wants to inspire more women to become interested in careers in Formula 1. The team, with sponsor Rokt, is debuting a women in engineering series.', 'banner_image': 'https://imageio.forbes.com/specials-images/imageserve/651c322f5c062445a004ed61/0x0.jpg?format=jpg&width=1200', 'source': 'Forbes', 'category_within_source': 'Business', 'source_domain': 'www.forbes.com', 'topics': [], 'overall_sentiment_score': 0.3528, 'overall_sentiment_label': 'Bullish', 'ticker_sentiment': [{'ticker': 'NFLX', 'relevance_score': '0.074926', 'ticker_sentiment_score': '0.22687', 'ticker_sentiment_label': 'Somewhat-Bullish'}]}, {'title': '1 Easily Overlooked Reason Apple Is the Most Attractive FAANG Stock', 'url': 'https://www.fool.com/investing/2023/10/04/1-easily-overlooked-reason-apple-is-the-most-attra/', 'time_published': '20231004T105100', 'authors': ['Daniel Sparks'], 'summary': 'The $2.7 trillion company is surprisingly frugal and has been for decades.', 'banner_image': 'https://g.foolcdn.com/misc-assets/hp-sa-cumulative-growth-chart.png', 'source': 'Motley Fool', 'category_within_source': 'n/a', 'source_domain': 'www.fool.com', 'topics': [{'topic': 'Retail & Wholesale', 'relevance_score': '0.5'}, {'topic': 'Financial Markets', 'relevance_score': '0.538269'}, {'topic': 'Earnings', 'relevance_score': '0.999355'}, {'topic': 'Technology', 'relevance_score': '0.5'}], 'overall_sentiment_score': 0.200114, 'overall_sentiment_label': 'Somewhat-Bullish', 'ticker_sentiment': [{'ticker': 'MSFT', 'relevance_score': '0.159218', 'ticker_sentiment_score': '0.051791', 'ticker_sentiment_label': 'Neutral'}, {'ticker': 'NFLX', 'relevance_score': '0.159218', 'ticker_sentiment_score': '-0.0428', 'ticker_sentiment_label': 'Neutral'}, {'ticker': 'GOOG', 'relevance_score': '0.05339', 'ticker_sentiment_score': '-0.014', 'ticker_sentiment_label': 'Neutral'}, {'ticker': 'META', 'relevance_score': '0.106541', 'ticker_sentiment_score': '-0.015506', 'ticker_sentiment_label': 'Neutral'}, {'ticker': 'AAPL', 'relevance_score': '0.453277', 'ticker_sentiment_score': '0.31381', 'ticker_sentiment_label': 'Somewhat-Bullish'}, {'ticker': 'AMZN', 'relevance_score': '0.05339', 'ticker_sentiment_score': '-0.014', 'ticker_sentiment_label': 'Neutral'}]}, {'title': \"The co-founder of Thinkorswim breaks down a bargain-hunting options strategy he says offers the highest probability of profit - although 2 other experts say the unhedged trade isn't for everyone\", 'url': 'https://markets.businessinsider.com/news/stocks/options-strategy-with-highest-probability-of-profit-tom-sosnoff-thinkorswim-2023-10', 'time_published': '20231004T104001', 'authors': ['Laila Maidan'], 'summary': 'Tom Sosnoff, the co-founder of Thinkorswim and Tastytrade, is a longtime advocate of options trading. He says that, if done right, investors can capture asymmetrical opportunities where the upside exceeds the downside risk.', 'banner_image': 'https://i.insider.com/651ae2e903971f0019320d39?width=1200&format=jpeg', 'source': 'Business Insider', 'category_within_source': 'RSS', 'source_domain': 'markets.businessinsider.com', 'topics': [{'topic': 'Financial Markets', 'relevance_score': '0.999365'}], 'overall_sentiment_score': 0.093326, 'overall_sentiment_label': 'Neutral', 'ticker_sentiment': [{'ticker': 'NFLX', 'relevance_score': '0.04583', 'ticker_sentiment_score': '0.098183', 'ticker_sentiment_label': 'Neutral'}]}, {'title': \"The co-founder of Thinkorswim breaks down a bargain-hunting options strategy he says offers the highest probability of profit - although 2 other experts say the unhedged trade isn't for everyone\", 'url': 'https://www.businessinsider.com/options-strategy-with-highest-probability-of-profit-tom-sosnoff-thinkorswim-2023-10', 'time_published': '20231004T104000', 'authors': ['Laila Maidan'], 'summary': 'Options Strategy That Offers the Highest Probability of Profit: Tom Sosnoff - Business Insider ...', 'banner_image': 'https://i.insider.com/651ae2e903971f0019320d39?width=1200&format=jpeg', 'source': 'Business Insider', 'category_within_source': 'GoogleRSS', 'source_domain': 'www.businessinsider.com', 'topics': [{'topic': 'Financial Markets', 'relevance_score': '0.999365'}], 'overall_sentiment_score': 0.093326, 'overall_sentiment_label': 'Neutral', 'ticker_sentiment': [{'ticker': 'NFLX', 'relevance_score': '0.04583', 'ticker_sentiment_score': '0.098183', 'ticker_sentiment_label': 'Neutral'}]}, {'title': 'A financially independent 32-year-old who grew up in a cash-strapped household shares the simple but life-changing money advice he received from a high school teacher', 'url': 'https://www.businessinsider.com/financially-independent-trader-shares-top-money-investing-advice-index-funds-2023-10', 'time_published': '20231004T102500', 'authors': ['Kathleen Elkins'], 'summary': 'Financially Independent Trader Shares Top Money Investing Advice - Business Insider ...', 'banner_image': None, 'source': 'Business Insider', 'category_within_source': 'GoogleRSS', 'source_domain': 'www.businessinsider.com', 'topics': [{'topic': 'Technology', 'relevance_score': '1.0'}, {'topic': 'Financial Markets', 'relevance_score': '1.0'}], 'overall_sentiment_score': 0.132929, 'overall_sentiment_label': 'Neutral', 'ticker_sentiment': [{'ticker': 'MSFT', 'relevance_score': '0.051999', 'ticker_sentiment_score': '-0.033', 'ticker_sentiment_label': 'Neutral'}, {'ticker': 'NFLX', 'relevance_score': '0.051999', 'ticker_sentiment_score': '0.306825', 'ticker_sentiment_label': 'Somewhat-Bullish'}]}, {'title': 'Premier League transfer news: Paul Pogba, Marcos Alonso, Toby Alderweireld', 'url': 'https://theweek.com/premier-league/95876/premier-league-transfer-news-paul-pogba-marcos-alonso-toby-alderweireld', 'time_published': '20231004T022436', 'authors': ['The Week Staff'], 'summary': 'A free daily digest of the biggest news stories of the day - and the best features from our website Thank you for signing up to TheWeek. You will receive a verification email shortly. There was a problem. Please refresh the page and try again.', 'banner_image': 'https://cdn.mos.cms.futurecdn.net/PZARYtSorTZiTdauU6ZR2h-415-80.jpg', 'source': 'The Week News', 'category_within_source': 'n/a', 'source_domain': 'theweek.com', 'topics': [{'topic': 'Financial Markets', 'relevance_score': '0.108179'}], 'overall_sentiment_score': 0.276565, 'overall_sentiment_label': 'Somewhat-Bullish', 'ticker_sentiment': [{'ticker': 'MANU', 'relevance_score': '0.063763', 'ticker_sentiment_score': '0.09533', 'ticker_sentiment_label': 'Neutral'}, {'ticker': 'NFLX', 'relevance_score': '0.063763', 'ticker_sentiment_score': '0.025147', 'ticker_sentiment_label': 'Neutral'}, {'ticker': 'FRNWF', 'relevance_score': '0.063763', 'ticker_sentiment_score': '0.059024', 'ticker_sentiment_label': 'Neutral'}]}, {'title': 'Netflix replaces top ad exec after one year in surprise shakeup, putting a company insider in charge of the growing business', 'url': 'https://www.businessinsider.com/netflix-replaces-top-ad-ex-with-company-insider-surprise-shakeup-2023-10', 'time_published': '20231003T223500', 'authors': ['Lucia Moses'], 'summary': 'Netflix Replaces Top Ad Exec With Longtime Company Insider in Shakeup - Business Insider ...', 'banner_image': 'https://i.insider.com/651c999c617692f0d03e762c?width=1200&format=jpeg', 'source': 'Business Insider', 'category_within_source': 'GoogleRSS', 'source_domain': 'www.businessinsider.com', 'topics': [{'topic': 'Earnings', 'relevance_score': '0.650727'}, {'topic': 'Technology', 'relevance_score': '1.0'}], 'overall_sentiment_score': 0.109039, 'overall_sentiment_label': 'Neutral', 'ticker_sentiment': [{'ticker': 'MSFT', 'relevance_score': '0.061003', 'ticker_sentiment_score': '0.044', 'ticker_sentiment_label': 'Neutral'}, {'ticker': 'NFLX', 'relevance_score': '0.641573', 'ticker_sentiment_score': '0.159879', 'ticker_sentiment_label': 'Somewhat-Bullish'}]}, {'title': 'Meta Plans an Ad-Free Subscription Service in the EU', 'url': 'https://www.thedailyupside.com/technology/big-tech/meta-plans-an-ad-free-subscription-service-in-the-eu/', 'time_published': '20231003T214552', 'authors': ['Isobel Asher Hamilton'], 'summary': 'Welcome to the era of social media paywalls. We thought the old business model of selling our data to Russian agents and extremist groups was...', 'banner_image': None, 'source': 'Motley Fool', 'category_within_source': 'n/a', 'source_domain': 'www.thedailyupside.com', 'topics': [{'topic': 'Earnings', 'relevance_score': '0.360215'}, {'topic': 'Technology', 'relevance_score': '1.0'}], 'overall_sentiment_score': 0.113055, 'overall_sentiment_label': 'Neutral', 'ticker_sentiment': [{'ticker': 'NFLX', 'relevance_score': '0.154455', 'ticker_sentiment_score': '0.116209', 'ticker_sentiment_label': 'Neutral'}, {'ticker': 'META', 'relevance_score': '0.441059', 'ticker_sentiment_score': '0.136741', 'ticker_sentiment_label': 'Neutral'}]}, {'title': 'Netflix  ( NFLX )  Stock Moves -0.94%: What You Should Know', 'url': 'https://www.zacks.com/stock/news/2159586/netflix-nflx-stock-moves--094-what-you-should-know', 'time_published': '20231003T214519', 'authors': ['Zacks Equity Research'], 'summary': 'Netflix (NFLX) closed at $376.77 in the latest trading session, marking a -0.94% move from the prior day.', 'banner_image': 'https://staticx-tuner.zacks.com/images/default_article_images/default54.jpg', 'source': 'Zacks Commentary', 'category_within_source': 'n/a', 'source_domain': 'www.zacks.com', 'topics': [{'topic': 'Earnings', 'relevance_score': '0.95493'}, {'topic': 'Financial Markets', 'relevance_score': '0.316726'}], 'overall_sentiment_score': 0.097425, 'overall_sentiment_label': 'Neutral', 'ticker_sentiment': [{'ticker': 'NFLX', 'relevance_score': '0.537213', 'ticker_sentiment_score': '0.194125', 'ticker_sentiment_label': 'Somewhat-Bullish'}]}, {'title': \"The daily gossip: Entire 'Mean Girls' film released on TikTok in 23 parts, Netflix is reportedly planning another price increase, and more\", 'url': 'https://theweek.com/culture-life/the-daily-gossip-entire-mean-girls-film-released-on-tiktok-in-23-parts-netflix-is-reportedly-planning-another-price-increase-and-more', 'time_published': '20231003T201535', 'authors': ['Brendan Morrow'], 'summary': \"The daily gossip: Entire 'Mean Girls' film released on TikTok in 23 parts, Netflix is reportedly planning another price ... The Week ...\", 'banner_image': 'https://cdn.mos.cms.futurecdn.net/jacawmevw85GuPzoHSpoqc-415-80.jpg', 'source': 'The Week News', 'category_within_source': 'n/a', 'source_domain': 'theweek.com', 'topics': [], 'overall_sentiment_score': 0.034152, 'overall_sentiment_label': 'Neutral', 'ticker_sentiment': [{'ticker': 'NFLX', 'relevance_score': '0.154703', 'ticker_sentiment_score': '0.039995', 'ticker_sentiment_label': 'Neutral'}, {'ticker': 'FRNWF', 'relevance_score': '0.038906', 'ticker_sentiment_score': '0.056718', 'ticker_sentiment_label': 'Neutral'}]}, {'title': 'Two streaming services raising prices for ad-free plans', 'url': 'https://www.foxbusiness.com/lifestyle/two-streaming-services-raising-prices-ad-free-plans', 'time_published': '20231003T195546', 'authors': ['Aislinn Murphy'], 'summary': \"The ad-free options for two separate streaming services are reportedly seeing their subscription fees go up for users. That happened Tuesday for new subscribers of Warner Bros. Discovery-owned Discovery+'s ad-free plan in the U.S. and Canada.\", 'banner_image': 'https://cf-images.us-east-1.prod.boltdns.net/v1/static/854081161001/ca9b64a9-86b7-4291-ba0f-e0071f50d62f/cac3f612-26fb-4e15-a82e-180522461a69/1280x720/match/image.jpg', 'source': 'Fox Business News', 'category_within_source': 'n/a', 'source_domain': 'www.foxbusiness.com', 'topics': [], 'overall_sentiment_score': 0.035129, 'overall_sentiment_label': 'Neutral', 'ticker_sentiment': [{'ticker': 'NFLX', 'relevance_score': '0.29234', 'ticker_sentiment_score': '0.107796', 'ticker_sentiment_label': 'Neutral'}, {'ticker': 'WBD', 'relevance_score': '0.148731', 'ticker_sentiment_score': '0.0', 'ticker_sentiment_label': 'Neutral'}]}, {'title': 'Verizon continues offering customers exclusive savings on sports and entertainment with newest offer - Verizon Communications  ( NYSE:VZ ) ', 'url': 'https://www.benzinga.com/pressreleases/23/10/g35071940/verizon-continues-offering-customers-exclusive-savings-on-sports-and-entertainment-with-newest-off', 'time_published': '20231003T194252', 'authors': ['Globe Newswire'], 'summary': \"NEW YORK, Oct. 03, 2023 ( GLOBE NEWSWIRE ) -- Verizon is the network NFL fans rely on, and we're continuing to give customers deals so that they don't miss a single play.\", 'banner_image': 'https://www.benzinga.com/next-assets/images/schema-image-default.png', 'source': 'Benzinga', 'category_within_source': 'General', 'source_domain': 'www.benzinga.com', 'topics': [{'topic': 'Technology', 'relevance_score': '1.0'}], 'overall_sentiment_score': 0.353261, 'overall_sentiment_label': 'Bullish', 'ticker_sentiment': [{'ticker': 'NFLX', 'relevance_score': '0.168197', 'ticker_sentiment_score': '0.25924', 'ticker_sentiment_label': 'Somewhat-Bullish'}, {'ticker': 'VZ', 'relevance_score': '0.686953', 'ticker_sentiment_score': '0.484158', 'ticker_sentiment_label': 'Bullish'}, {'ticker': 'GOOG', 'relevance_score': '0.084572', 'ticker_sentiment_score': '0.057299', 'ticker_sentiment_label': 'Neutral'}]}, {'title': 'Verizon continues offering customers exclusive savings on sports and entertainment with newest offer', 'url': 'https://www.globenewswire.com/news-release/2023/10/03/2754130/0/en/Verizon-continues-offering-customers-exclusive-savings-on-sports-and-entertainment-with-newest-offer.html', 'time_published': '20231003T194200', 'authors': ['Verizon Sourcing LLC'], 'summary': 'Get Netflix Premium and NFL+ Premium for just $25 per month on +play. And, customers with myPlan can also save even more on subscriptions they love Get Netflix Premium and NFL+ Premium for just $25 per month on +play. And, customers with myPlan can also save even more on subscriptions they ...', 'banner_image': 'https://ml.globenewswire.com/Resource/Download/e797a73c-ce36-447f-bf12-b80cc2238f0d', 'source': 'GlobeNewswire', 'category_within_source': 'n/a', 'source_domain': 'www.globenewswire.com', 'topics': [{'topic': 'Technology', 'relevance_score': '1.0'}], 'overall_sentiment_score': 0.361713, 'overall_sentiment_label': 'Bullish', 'ticker_sentiment': [{'ticker': 'NFLX', 'relevance_score': '0.17618', 'ticker_sentiment_score': '0.263203', 'ticker_sentiment_label': 'Somewhat-Bullish'}, {'ticker': 'VZ', 'relevance_score': '0.734366', 'ticker_sentiment_score': '0.499277', 'ticker_sentiment_label': 'Bullish'}, {'ticker': 'GOOG', 'relevance_score': '0.088635', 'ticker_sentiment_score': '0.05776', 'ticker_sentiment_label': 'Neutral'}]}, {'title': \"BELOVED BRAND DEBUTS ENTERTAINING NEW DOCUMENTARY 'UNSTUFFED: A BUILD-A-BEAR STORY'\", 'url': 'https://www.benzinga.com/pressreleases/23/10/n35071667/beloved-brand-debuts-entertaining-new-documentary-unstuffed-a-build-a-bear-story', 'time_published': '20231003T192900', 'authors': ['PRNewswire'], 'summary': 'Renowned Documentarian Taylor Morden Masterfully Captures the Unlikely Heartfelt 25-Year Journey That Built an Iconic Global Company With This Anticipated Film Available to Stream Today', 'banner_image': 'https://www.benzinga.com/next-assets/images/schema-image-default.png', 'source': 'Benzinga', 'category_within_source': 'General', 'source_domain': 'www.benzinga.com', 'topics': [{'topic': 'Earnings', 'relevance_score': '0.360215'}, {'topic': 'Retail & Wholesale', 'relevance_score': '1.0'}], 'overall_sentiment_score': 0.341796, 'overall_sentiment_label': 'Somewhat-Bullish', 'ticker_sentiment': [{'ticker': 'NFLX', 'relevance_score': '0.028388', 'ticker_sentiment_score': '0.045078', 'ticker_sentiment_label': 'Neutral'}, {'ticker': 'BBW', 'relevance_score': '0.141227', 'ticker_sentiment_score': '0.217433', 'ticker_sentiment_label': 'Somewhat-Bullish'}]}, {'title': 'Getting Less, Paying More; Discovery+ Raises Price, Netflix May Too', 'url': 'https://www.forbes.com/sites/dbloom/2023/10/03/getting-less-paying-more-discovery-raises-price-netflix-may-too/', 'time_published': '20231003T174525', 'authors': ['David Bloom'], 'summary': 'Reality-show purveyor Discovery+ is raising prices 28%, the latest hikes by a streaming service for its ad-free tier. And Netflix may add more price hikes soon.', 'banner_image': 'https://imageio.forbes.com/specials-images/imageserve/651c4e6a1b9853b8881cf10c/0x0.jpg?format=jpg&width=1200', 'source': 'Forbes', 'category_within_source': 'Business', 'source_domain': 'www.forbes.com', 'topics': [{'topic': 'Earnings', 'relevance_score': '0.108179'}], 'overall_sentiment_score': 0.106982, 'overall_sentiment_label': 'Neutral', 'ticker_sentiment': [{'ticker': 'NFLX', 'relevance_score': '0.176825', 'ticker_sentiment_score': '0.041397', 'ticker_sentiment_label': 'Neutral'}, {'ticker': 'WBD', 'relevance_score': '0.220008', 'ticker_sentiment_score': '0.066815', 'ticker_sentiment_label': 'Neutral'}]}, {'title': 'How to watch free Napoli vs. Real Madrid and Man United vs. Galatasaray live streams from anywhere', 'url': 'https://www.businessinsider.com/guides/streaming/where-to-watch-napoli-vs-real-madrid-manu-vs-galatasaray-champions-league-live-streams-free', 'time_published': '20231003T163000', 'authors': ['Brendan Griffiths'], 'summary': \"Free Champions League live streams are back this week and with quite a bang too. Usually, you'd have to join another sports streaming service to watch the big matches, but we've researched dozens of global TV guides to find out where you can watch some quality European football for free.\", 'banner_image': None, 'source': 'Business Insider', 'category_within_source': 'GoogleRSS', 'source_domain': 'www.businessinsider.com', 'topics': [], 'overall_sentiment_score': 0.348704, 'overall_sentiment_label': 'Somewhat-Bullish', 'ticker_sentiment': [{'ticker': 'MANU', 'relevance_score': '0.02799', 'ticker_sentiment_score': '0.181632', 'ticker_sentiment_label': 'Somewhat-Bullish'}, {'ticker': 'NFLX', 'relevance_score': '0.02799', 'ticker_sentiment_score': '0.059469', 'ticker_sentiment_label': 'Neutral'}, {'ticker': 'PYPL', 'relevance_score': '0.055946', 'ticker_sentiment_score': '0.316009', 'ticker_sentiment_label': 'Somewhat-Bullish'}]}, {'title': 'Trading FAANG Stocks: A Breakout Trading System For Google Stocks - Meta Platforms  ( NASDAQ:META ) ', 'url': 'https://www.benzinga.com/23/10/35067285/trading-faang-stocks-a-breakout-trading-system-for-google-stocks', 'time_published': '20231003T152755', 'authors': ['Andrea Unger'], 'summary': 'In this article, we will show you how to trade the U.S. stock market using a simple but effective trading system based on a break-out approach and able to exploit the main upward movements of this market.', 'banner_image': 'https://cdn.benzinga.com/files/wance-paleri-nnrirq1usyw-unsplash_3_20.jpg?width=1200&height=800&fit=crop', 'source': 'Benzinga', 'category_within_source': 'Trading', 'source_domain': 'www.benzinga.com', 'topics': [{'topic': 'Retail & Wholesale', 'relevance_score': '0.333333'}, {'topic': 'Financial Markets', 'relevance_score': '1.0'}, {'topic': 'Earnings', 'relevance_score': '0.310843'}, {'topic': 'Technology', 'relevance_score': '0.333333'}, {'topic': 'Finance', 'relevance_score': '0.333333'}], 'overall_sentiment_score': 0.199747, 'overall_sentiment_label': 'Somewhat-Bullish', 'ticker_sentiment': [{'ticker': 'MSFT', 'relevance_score': '0.0864', 'ticker_sentiment_score': '0.060587', 'ticker_sentiment_label': 'Neutral'}, {'ticker': 'NFLX', 'relevance_score': '0.129284', 'ticker_sentiment_score': '0.068909', 'ticker_sentiment_label': 'Neutral'}, {'ticker': 'GOOG', 'relevance_score': '0.0864', 'ticker_sentiment_score': '0.035111', 'ticker_sentiment_label': 'Neutral'}, {'ticker': 'META', 'relevance_score': '0.0864', 'ticker_sentiment_score': '0.060587', 'ticker_sentiment_label': 'Neutral'}, {'ticker': 'AAPL', 'relevance_score': '0.0864', 'ticker_sentiment_score': '0.060587', 'ticker_sentiment_label': 'Neutral'}, {'ticker': 'GS', 'relevance_score': '0.043264', 'ticker_sentiment_score': '0.057541', 'ticker_sentiment_label': 'Neutral'}, {'ticker': 'AMZN', 'relevance_score': '0.0864', 'ticker_sentiment_score': '0.060587', 'ticker_sentiment_label': 'Neutral'}]}, {'title': 'Robots, UFOs, and A.I. Converge at the Brooklyn SciFi Film Festival for 2023 with 130 Films Online and in Theaters', 'url': 'https://www.benzinga.com/pressreleases/23/10/r35066931/robots-ufos-and-a-i-converge-at-the-brooklyn-scifi-film-festival-for-2023-with-130-films-online-an', 'time_published': '20231003T151205', 'authors': ['PR.com'], 'summary': 'Brooklyn, NY October 03, 2023 -- ( PR.com ) -- The Brooklyn SciFi Film Festival returns for 2023 with 135 films selected for screening October 9 through the 15th.', 'banner_image': 'https://www.benzinga.com/next-assets/images/schema-image-default.png', 'source': 'Benzinga', 'category_within_source': 'News', 'source_domain': 'www.benzinga.com', 'topics': [{'topic': 'Technology', 'relevance_score': '1.0'}], 'overall_sentiment_score': 0.335248, 'overall_sentiment_label': 'Somewhat-Bullish', 'ticker_sentiment': [{'ticker': 'NFLX', 'relevance_score': '0.096671', 'ticker_sentiment_score': '0.218036', 'ticker_sentiment_label': 'Somewhat-Bullish'}, {'ticker': 'EB', 'relevance_score': '0.096671', 'ticker_sentiment_score': '0.145643', 'ticker_sentiment_label': 'Neutral'}]}, {'title': 'Reshaping The TV And Film Industry: The ITTV International Forum Hawks Creativity, Innovation And New Technologies', 'url': 'https://www.forbes.com/sites/marcberman1/2023/10/03/reshaping-the-tv-and-film-industry-the-ittv-international-forum-hawks-creativity-innovation-and-new-technologies/', 'time_published': '20231003T150716', 'authors': ['Marc Berman'], 'summary': 'By Marc Berman In this digital era, where the advent of streaming has resulted in a massive defection of people consuming broadcast television and film, one frequently...', 'banner_image': 'https://imageio.forbes.com/specials-images/imageserve/651711164758fc7b71cc23bc/0x0.jpg?format=jpg&width=1200', 'source': 'Forbes', 'category_within_source': 'Business', 'source_domain': 'www.forbes.com', 'topics': [{'topic': 'Technology', 'relevance_score': '1.0'}, {'topic': 'Blockchain', 'relevance_score': '0.310843'}], 'overall_sentiment_score': 0.261364, 'overall_sentiment_label': 'Somewhat-Bullish', 'ticker_sentiment': [{'ticker': 'NFLX', 'relevance_score': '0.096801', 'ticker_sentiment_score': '0.143541', 'ticker_sentiment_label': 'Neutral'}, {'ticker': 'ROKU', 'relevance_score': '0.032338', 'ticker_sentiment_score': '-0.001897', 'ticker_sentiment_label': 'Neutral'}, {'ticker': 'GBHL', 'relevance_score': '0.032338', 'ticker_sentiment_score': '-0.001897', 'ticker_sentiment_label': 'Neutral'}]}, {'title': 'Netflix Stock Jumps As Company Contemplates Price Increases: The Details - Netflix  ( NASDAQ:NFLX ) ', 'url': 'https://www.benzinga.com/news/23/10/35065382/netflix-stock-jumps-as-company-contemplates-price-increases-the-details', 'time_published': '20231003T143444', 'authors': ['Adam Eckert'], 'summary': 'Netflix Inc NFLX shares are trading higher Tuesday following a report suggesting the company plans to raise prices after the actors strike ends. What To Know: According to a Wall Street Journal report, Netflix will raise the price of its ad-free service a few months after the Hollywood actors ...', 'banner_image': 'https://cdn.benzinga.com/files/images/story/2023/10/03/tv-5571609_1920-2.jpg?width=1200&height=800&fit=crop', 'source': 'Benzinga', 'category_within_source': 'News', 'source_domain': 'www.benzinga.com', 'topics': [{'topic': 'Financial Markets', 'relevance_score': '0.108179'}], 'overall_sentiment_score': 0.002378, 'overall_sentiment_label': 'Neutral', 'ticker_sentiment': [{'ticker': 'NFLX', 'relevance_score': '0.87744', 'ticker_sentiment_score': '-0.020904', 'ticker_sentiment_label': 'Neutral'}]}, {'title': 'Netflix plans to increase price of ad-free service once the actors strike ends: WSJ', 'url': 'https://www.marketwatch.com/story/netflix-plans-to-increase-price-of-ad-free-service-once-the-actors-strike-ends-wsj-55aa7050', 'time_published': '20231003T142800', 'authors': ['Ciara Linnane'], 'summary': 'T he streaming giant is discussing price hikes in a number of markets, but will likely kick them off in the U.S. and Canada, the paper reported.', 'banner_image': 'https://images.mktw.net/im-861751/social', 'source': 'MarketWatch', 'category_within_source': 'Top Stories', 'source_domain': 'www.marketwatch.com', 'topics': [], 'overall_sentiment_score': -0.123935, 'overall_sentiment_label': 'Neutral', 'ticker_sentiment': [{'ticker': 'NFLX', 'relevance_score': '0.798255', 'ticker_sentiment_score': '-0.208623', 'ticker_sentiment_label': 'Somewhat-Bearish'}]}, {'title': '2 Stocks on My Buy List in October', 'url': 'https://www.fool.com/investing/2023/10/03/2-stocks-on-my-buy-list-in-october/', 'time_published': '20231003T123600', 'authors': ['Jeremy Bowman'], 'summary': 'Streaming stocks have been pummeled, but a recovery could be imminent.', 'banner_image': 'https://g.foolcdn.com/image/?url=https%3A%2F%2Fg.foolcdn.com%2Feditorial%2Fimages%2F749533%2Fstreaming-tv.jpg&op=resize&w=700', 'source': 'Motley Fool', 'category_within_source': 'n/a', 'source_domain': 'www.fool.com', 'topics': [{'topic': 'Earnings', 'relevance_score': '0.451494'}, {'topic': 'Technology', 'relevance_score': '1.0'}, {'topic': 'Financial Markets', 'relevance_score': '0.365926'}], 'overall_sentiment_score': 0.168764, 'overall_sentiment_label': 'Somewhat-Bullish', 'ticker_sentiment': [{'ticker': 'CHTR', 'relevance_score': '0.051663', 'ticker_sentiment_score': '-0.011', 'ticker_sentiment_label': 'Neutral'}, {'ticker': 'NFLX', 'relevance_score': '0.051663', 'ticker_sentiment_score': '0.068575', 'ticker_sentiment_label': 'Neutral'}, {'ticker': 'ROKU', 'relevance_score': '0.254042', 'ticker_sentiment_score': '0.072232', 'ticker_sentiment_label': 'Neutral'}]}, {'title': 'Disney+ Follows Netflix, Clamps Down on Subscription Sharing Amid Strategic Shifts - Walt Disney  ( NYSE:DIS ) ', 'url': 'https://www.benzinga.com/news/23/10/35050582/disney-follows-netflix-clamps-down-on-subscription-sharing-amid-strategic-shifts', 'time_published': '20231003T115540', 'authors': ['Anusuya Lahiri'], 'summary': \"Walt Disney Co's DIS Disney+ is tightening its subscription sharing rules, as revealed in a notification to Canadian subscribers. Effective November 1, the company will prohibit sharing subscriptions outside of one's household unless permitted by the service tier.\", 'banner_image': 'https://cdn.benzinga.com/files/images/story/2023/10/03/disney_plus-photo_by_anthony_quintano_via_flickr1.jpg?width=1200&height=800&fit=crop', 'source': 'Benzinga', 'category_within_source': 'News', 'source_domain': 'www.benzinga.com', 'topics': [{'topic': 'Financial Markets', 'relevance_score': '0.538269'}], 'overall_sentiment_score': 0.120946, 'overall_sentiment_label': 'Neutral', 'ticker_sentiment': [{'ticker': 'NFLX', 'relevance_score': '0.203215', 'ticker_sentiment_score': '0.120447', 'ticker_sentiment_label': 'Neutral'}]}]\n",
            "50\n"
          ]
        }
      ]
    },
    {
      "cell_type": "markdown",
      "source": [
        "\n",
        "\n",
        "\n",
        "\n",
        "\n",
        "D) Loop through the first three articles and print the following information about each:\n",
        "  + **Title**\n",
        "  + **Author** (just the first one is fine)\n",
        "  + **Image** (ideally displayed using [`IPython.display`](https://github.com/prof-rossetti/intro-to-python/blob/main/notes/python/packages/ipython.md#displaying-images))\n",
        "  + **Summary**\n",
        "  + **URL**\n",
        "  + **Ticker-Specific Sentiment Score** (for the selected company only)\n",
        "  + **Ticker-Specific Relevance Score** (for the selected company only)\n",
        "\n"
      ],
      "metadata": {
        "id": "V6wchUMeiEtK"
      }
    },
    {
      "cell_type": "code",
      "source": [
        "from IPython.display import Image, display\n",
        "count = 1\n",
        "for i in articles:\n",
        "    if count<4:\n",
        "      print(\"Article Number \"+ str(count))\n",
        "      print(\"Title: \" + i['title'])\n",
        "      print(\"Author: \" + str(i['authors'][0]))\n",
        "      display(Image(url=i['banner_image'], height=100))\n",
        "      print(\"Summary: \" + i['summary'])\n",
        "      print(\"URL: \" + i['url'])\n",
        "      for j in i['ticker_sentiment']:\n",
        "            if j['ticker'] == symbol:\n",
        "               print(\"Sentiment Score: \" + j['ticker_sentiment_score'])\n",
        "               print(\"Relevance Score: \" + j['relevance_score'])\n",
        "               print(\"\\n\" + \"-------------------------\" + \"\\n\")\n",
        "      count = count+1\n",
        "\n",
        "\n"
      ],
      "metadata": {
        "id": "TpVpgSPJvEJZ",
        "colab": {
          "base_uri": "https://localhost:8080/",
          "height": 870
        },
        "outputId": "12065f04-b8e5-43ad-a13a-e3e74ca431bb"
      },
      "execution_count": null,
      "outputs": [
        {
          "output_type": "stream",
          "name": "stdout",
          "text": [
            "Article Number 1\n",
            "Title: Letting go of jurassic technology: Refusing to evolve is not an option\n",
            "Author: Guest\n"
          ]
        },
        {
          "output_type": "display_data",
          "data": {
            "text/html": [
              "<img src=\"https://www.financialexpress.com/wp-content/uploads/2023/10/Image-credit-Freepik344.jpg\" height=\"100\"/>"
            ],
            "text/plain": [
              "<IPython.core.display.Image object>"
            ]
          },
          "metadata": {}
        },
        {
          "output_type": "stream",
          "name": "stdout",
          "text": [
            "Summary: You're in the driver's seat of a 1960's classic Ford Mustang. It's timeless craftsmanship. an absolute gem - vintage, powerful, and iconic. But against the latest Tesla Model your Mustang may look like a relic from the past.\n",
            "URL: https://www.financialexpress.com/business/digital-transformation-letting-go-of-jurassic-technology-refusing-to-evolve-is-not-an-option-3263376/\n",
            "Sentiment Score: 0.136404\n",
            "Relevance Score: 0.085022\n",
            "\n",
            "-------------------------\n",
            "\n",
            "Article Number 2\n",
            "Title: Netflix And Chill, Buy Our Merch: Streaming Giant Ready To Make Money With New Consumer Products, Experiences From Shows - Netflix  ( NASDAQ:NFLX ) \n",
            "Author: Chris Katje\n"
          ]
        },
        {
          "output_type": "display_data",
          "data": {
            "text/html": [
              "<img src=\"https://cdn.benzinga.com/files/images/story/2023/10/04/netflix.shutterstock_1629484330.jpg?width=1200&height=800&fit=crop\" height=\"100\"/>"
            ],
            "text/plain": [
              "<IPython.core.display.Image object>"
            ]
          },
          "metadata": {}
        },
        {
          "output_type": "stream",
          "name": "stdout",
          "text": [
            "Summary: Streaming giant Netflix Inc NFLX has had many hit shows over the years from \"Stranger Things\" to \"Squid Game\" and everything in between. The company is now looking for more ways to monetize its loyal fans and the success of hit shows similar to other media companies.\n",
            "URL: https://www.benzinga.com/general/entertainment/23/10/35097694/netflix-and-chill-buy-our-merch-streaming-giant-ready-to-make-money-with-new-consumer-produ\n",
            "Sentiment Score: 0.256265\n",
            "Relevance Score: 0.872507\n",
            "\n",
            "-------------------------\n",
            "\n",
            "Article Number 3\n",
            "Title: Movie Review: In 'Fair Play,' a battle of the sexes on Wall Street\n",
            "Author: JAKE COYLE\n"
          ]
        },
        {
          "output_type": "display_data",
          "data": {
            "text/html": [
              "<img src=\"https://dims.apnews.com/dims4/default/e96d7af/2147483647/strip/true/crop/2924x1948+0+1/resize/599x399!/quality/90/?url=https%3A%2F%2Fassets.apnews.com%2F6a%2Fc9%2Fd28da425f905e24bb202c6a952c6%2F5a93d7b25f144da5b2f01db74482949a\" height=\"100\"/>"
            ],
            "text/plain": [
              "<IPython.core.display.Image object>"
            ]
          },
          "metadata": {}
        },
        {
          "output_type": "stream",
          "name": "stdout",
          "text": [
            "Summary: The disquieting root of debut \"Fair Play\" lies in the face of Luke ( Alden Ehrenreich ) as he learns that his fiance Emily ( Phoebe Dynevor ) has been given the promotion at their Wall Street hedge fund he thought was his. \"Congratulations,\" he says with a grin that looks more like a grimace. ...\n",
            "URL: https://apnews.com/article/fair-play-movie-review-streaming-netflix-edc0f6ae640f77b9c52e55a054063961\n",
            "Sentiment Score: -0.035926\n",
            "Relevance Score: 0.070935\n",
            "\n",
            "-------------------------\n",
            "\n"
          ]
        }
      ]
    },
    {
      "cell_type": "markdown",
      "source": [
        "\n",
        "E) Let's only display information for articles that have a high relevance for this company (i.e. those with a ticker-specific relevance score greater than 50%). Display information about all articles that meet this criteria.\n",
        "\n",
        "> NOTE: the API docs mention a parameter related to relevance, however let's ignore this and use the same data that was previously requested.\n",
        "\n"
      ],
      "metadata": {
        "id": "GuCvkfq1j0Ep"
      }
    },
    {
      "cell_type": "code",
      "source": [
        "for i in articles:\n",
        "    for j in i['ticker_sentiment']:\n",
        "        if j['ticker'] == symbol:\n",
        "           if float(j['relevance_score']) > min_relevance:\n",
        "              print(\"Article Number \"+ str(count))\n",
        "              print(\"Title: \" + i['title'])\n",
        "              print(\"Author: \" + str(i['authors'][0]))\n",
        "              display(Image(url=i['banner_image'], height=100))\n",
        "              print(\"Summary: \" + i['summary'])\n",
        "              print(\"URL: \" + i['url'])\n",
        "              print(\"Sentiment Score:\" + j['ticker_sentiment_score'])\n",
        "              print(\"Relevance Score:\" + j['relevance_score'])\n",
        "              print(\"\\n\" + \"-------------------------\" + \"\\n\")"
      ],
      "metadata": {
        "id": "M5nFf7rzofM3",
        "colab": {
          "base_uri": "https://localhost:8080/",
          "height": 1000
        },
        "outputId": "9bfaea0a-1d2c-4ba8-8f24-2eb1928969f3"
      },
      "execution_count": null,
      "outputs": [
        {
          "output_type": "stream",
          "name": "stdout",
          "text": [
            "Article Number 4\n",
            "Title: Netflix And Chill, Buy Our Merch: Streaming Giant Ready To Make Money With New Consumer Products, Experiences From Shows - Netflix  ( NASDAQ:NFLX ) \n",
            "Author: Chris Katje\n"
          ]
        },
        {
          "output_type": "display_data",
          "data": {
            "text/html": [
              "<img src=\"https://cdn.benzinga.com/files/images/story/2023/10/04/netflix.shutterstock_1629484330.jpg?width=1200&height=800&fit=crop\" height=\"100\"/>"
            ],
            "text/plain": [
              "<IPython.core.display.Image object>"
            ]
          },
          "metadata": {}
        },
        {
          "output_type": "stream",
          "name": "stdout",
          "text": [
            "Summary: Streaming giant Netflix Inc NFLX has had many hit shows over the years from \"Stranger Things\" to \"Squid Game\" and everything in between. The company is now looking for more ways to monetize its loyal fans and the success of hit shows similar to other media companies.\n",
            "URL: https://www.benzinga.com/general/entertainment/23/10/35097694/netflix-and-chill-buy-our-merch-streaming-giant-ready-to-make-money-with-new-consumer-produ\n",
            "Sentiment Score:0.256265\n",
            "Relevance Score:0.872507\n",
            "\n",
            "-------------------------\n",
            "\n",
            "Article Number 4\n",
            "Title: Netflix's Price Hike Is A Risky Move During Economic Uncertainty, Analyst Says - Netflix  ( NASDAQ:NFLX ) \n",
            "Author: Anusuya Lahiri\n"
          ]
        },
        {
          "output_type": "display_data",
          "data": {
            "text/html": [
              "<img src=\"https://cdn.benzinga.com/files/images/story/2023/10/04/netflix_tv-photo_by_tumisu_via_pixabay.jpg?width=1200&height=800&fit=crop\" height=\"100\"/>"
            ],
            "text/plain": [
              "<IPython.core.display.Image object>"
            ]
          },
          "metadata": {}
        },
        {
          "output_type": "stream",
          "name": "stdout",
          "text": [
            "Summary: Benchmark analyst Matthew Harrigan reiterated Netflix Inc NFLX with a Sell and a $325 price target.\n",
            "URL: https://www.benzinga.com/news/23/10/35093164/netflixs-price-hike-is-a-risky-move-during-economic-uncertainty-analyst-says\n",
            "Sentiment Score:0.172242\n",
            "Relevance Score:0.501398\n",
            "\n",
            "-------------------------\n",
            "\n",
            "Article Number 4\n",
            "Title: Here's Why Netflix Can Afford The Writers' Strike Deal\n",
            "Author: Investor's Business Daily\n"
          ]
        },
        {
          "output_type": "display_data",
          "data": {
            "text/html": [
              "<img src=\"https://www.investors.com/wp-content/uploads/2020/07/ETFLEADERS-netflix-072420-adobe.jpg\" height=\"100\"/>"
            ],
            "text/plain": [
              "<IPython.core.display.Image object>"
            ]
          },
          "metadata": {}
        },
        {
          "output_type": "stream",
          "name": "stdout",
          "text": [
            "Summary: After nearly five months, the Hollywood writers' strike is coming to an end with a tentative agreement with studios reached last week. But can Netflix, which was called \"Enemy No. 1\" during the strike, afford the new deal with the Writers Guild of America? And how will it affect Netflix stock?\n",
            "URL: https://www.investors.com/news/technology/netflix-stock-why-netflix-can-afford-writers-strike-deal/\n",
            "Sentiment Score:0.20726\n",
            "Relevance Score:0.629152\n",
            "\n",
            "-------------------------\n",
            "\n",
            "Article Number 4\n",
            "Title: Netflix Executive Chairman Acquires 17,717 Shares After Exercising Company Stock Options - Netflix  ( NASDAQ:NFLX ) \n",
            "Author: Benzinga Insights\n"
          ]
        },
        {
          "output_type": "display_data",
          "data": {
            "text/html": [
              "<img src=\"https://cdn.benzinga.com/files/images/story/2023/insider_image_2.jpeg?width=1200&height=800&fit=crop\" height=\"100\"/>"
            ],
            "text/plain": [
              "<IPython.core.display.Image object>"
            ]
          },
          "metadata": {}
        },
        {
          "output_type": "stream",
          "name": "stdout",
          "text": [
            "Summary: Reed Hastings, Executive Chairman at Netflix NFLX, reported a large exercise of company stock options on October 4, according to a new SEC filing. What Happened: A Form 4 filing from the U.S.\n",
            "URL: https://www.benzinga.com/news/23/10/35091684/netflix-executive-chairman-acquires-17-717-shares-after-exercising-company-stock-options\n",
            "Sentiment Score:0.37267\n",
            "Relevance Score:0.542261\n",
            "\n",
            "-------------------------\n",
            "\n",
            "Article Number 4\n",
            "Title: Get Ready to Pay More for Netflix\n",
            "Author: Rick Munarriz\n"
          ]
        },
        {
          "output_type": "display_data",
          "data": {
            "text/html": [
              "<img src=\"https://g.foolcdn.com/image/?url=https%3A%2F%2Fg.foolcdn.com%2Feditorial%2Fimages%2F749804%2Fgettyimages-1167992498.jpg&op=resize&w=700\" height=\"100\"/>"
            ],
            "text/plain": [
              "<IPython.core.display.Image object>"
            ]
          },
          "metadata": {}
        },
        {
          "output_type": "stream",
          "name": "stdout",
          "text": [
            "Summary: Mind the gap, subscribers and investors.\n",
            "URL: https://www.fool.com/investing/2023/10/04/get-ready-to-pay-more-for-netflix/\n",
            "Sentiment Score:0.241672\n",
            "Relevance Score:0.801457\n",
            "\n",
            "-------------------------\n",
            "\n",
            "Article Number 4\n",
            "Title: Netflix's price hike plans may prove untimely as economy and stock market weakens, analyst says\n",
            "Author: Ciara Linnane\n"
          ]
        },
        {
          "output_type": "display_data",
          "data": {
            "text/html": [
              "<img src=\"https://images.mktw.net/im-857322/social\" height=\"100\"/>"
            ],
            "text/plain": [
              "<IPython.core.display.Image object>"
            ]
          },
          "metadata": {}
        },
        {
          "output_type": "stream",
          "name": "stdout",
          "text": [
            "Summary: A report that Netflix Inc. is planning to raise prices as soon as the current actors strike is over may prove untimely.\n",
            "URL: https://www.marketwatch.com/story/netflixs-price-hike-plans-may-prove-untimely-as-economy-and-stock-market-weakens-analyst-says-6a00a67e\n",
            "Sentiment Score:0.119145\n",
            "Relevance Score:0.512933\n",
            "\n",
            "-------------------------\n",
            "\n",
            "Article Number 4\n",
            "Title: Netflix And Discovery+ Will Hike Streaming Prices As Hollywood Strike Wears On\n",
            "Author: Mary Whitfill Roeloffs\n"
          ]
        },
        {
          "output_type": "display_data",
          "data": {
            "text/html": [
              "<img src=\"https://imageio.forbes.com/specials-images/imageserve/651d6df35a847f032137524f/0x0.jpg?format=jpg&crop=4000,2252,x0,y206,safe&width=1200\" height=\"100\"/>"
            ],
            "text/plain": [
              "<IPython.core.display.Image object>"
            ]
          },
          "metadata": {}
        },
        {
          "output_type": "stream",
          "name": "stdout",
          "text": [
            "Summary: Here are all the streaming services that have raised their prices this year.\n",
            "URL: https://www.forbes.com/sites/maryroeloffs/2023/10/04/netflix-and-discovery-will-hike-streaming-prices-as-hollywood-strike-wears-on/\n",
            "Sentiment Score:0.038725\n",
            "Relevance Score:0.591449\n",
            "\n",
            "-------------------------\n",
            "\n",
            "Article Number 4\n",
            "Title: Netflix replaces top ad exec after one year in surprise shakeup, putting a company insider in charge of the growing business\n",
            "Author: Lucia Moses\n"
          ]
        },
        {
          "output_type": "display_data",
          "data": {
            "text/html": [
              "<img src=\"https://i.insider.com/651c999c617692f0d03e762c?width=1200&format=jpeg\" height=\"100\"/>"
            ],
            "text/plain": [
              "<IPython.core.display.Image object>"
            ]
          },
          "metadata": {}
        },
        {
          "output_type": "stream",
          "name": "stdout",
          "text": [
            "Summary: Netflix Replaces Top Ad Exec With Longtime Company Insider in Shakeup - Business Insider ...\n",
            "URL: https://www.businessinsider.com/netflix-replaces-top-ad-ex-with-company-insider-surprise-shakeup-2023-10\n",
            "Sentiment Score:0.159879\n",
            "Relevance Score:0.641573\n",
            "\n",
            "-------------------------\n",
            "\n",
            "Article Number 4\n",
            "Title: Netflix  ( NFLX )  Stock Moves -0.94%: What You Should Know\n",
            "Author: Zacks Equity Research\n"
          ]
        },
        {
          "output_type": "display_data",
          "data": {
            "text/html": [
              "<img src=\"https://staticx-tuner.zacks.com/images/default_article_images/default54.jpg\" height=\"100\"/>"
            ],
            "text/plain": [
              "<IPython.core.display.Image object>"
            ]
          },
          "metadata": {}
        },
        {
          "output_type": "stream",
          "name": "stdout",
          "text": [
            "Summary: Netflix (NFLX) closed at $376.77 in the latest trading session, marking a -0.94% move from the prior day.\n",
            "URL: https://www.zacks.com/stock/news/2159586/netflix-nflx-stock-moves--094-what-you-should-know\n",
            "Sentiment Score:0.194125\n",
            "Relevance Score:0.537213\n",
            "\n",
            "-------------------------\n",
            "\n",
            "Article Number 4\n",
            "Title: Netflix Stock Jumps As Company Contemplates Price Increases: The Details - Netflix  ( NASDAQ:NFLX ) \n",
            "Author: Adam Eckert\n"
          ]
        },
        {
          "output_type": "display_data",
          "data": {
            "text/html": [
              "<img src=\"https://cdn.benzinga.com/files/images/story/2023/10/03/tv-5571609_1920-2.jpg?width=1200&height=800&fit=crop\" height=\"100\"/>"
            ],
            "text/plain": [
              "<IPython.core.display.Image object>"
            ]
          },
          "metadata": {}
        },
        {
          "output_type": "stream",
          "name": "stdout",
          "text": [
            "Summary: Netflix Inc NFLX shares are trading higher Tuesday following a report suggesting the company plans to raise prices after the actors strike ends. What To Know: According to a Wall Street Journal report, Netflix will raise the price of its ad-free service a few months after the Hollywood actors ...\n",
            "URL: https://www.benzinga.com/news/23/10/35065382/netflix-stock-jumps-as-company-contemplates-price-increases-the-details\n",
            "Sentiment Score:-0.020904\n",
            "Relevance Score:0.87744\n",
            "\n",
            "-------------------------\n",
            "\n",
            "Article Number 4\n",
            "Title: Netflix plans to increase price of ad-free service once the actors strike ends: WSJ\n",
            "Author: Ciara Linnane\n"
          ]
        },
        {
          "output_type": "display_data",
          "data": {
            "text/html": [
              "<img src=\"https://images.mktw.net/im-861751/social\" height=\"100\"/>"
            ],
            "text/plain": [
              "<IPython.core.display.Image object>"
            ]
          },
          "metadata": {}
        },
        {
          "output_type": "stream",
          "name": "stdout",
          "text": [
            "Summary: T he streaming giant is discussing price hikes in a number of markets, but will likely kick them off in the U.S. and Canada, the paper reported.\n",
            "URL: https://www.marketwatch.com/story/netflix-plans-to-increase-price-of-ad-free-service-once-the-actors-strike-ends-wsj-55aa7050\n",
            "Sentiment Score:-0.208623\n",
            "Relevance Score:0.798255\n",
            "\n",
            "-------------------------\n",
            "\n"
          ]
        }
      ]
    },
    {
      "cell_type": "code",
      "execution_count": null,
      "metadata": {
        "id": "W2F8prgmh6AY"
      },
      "outputs": [],
      "source": []
    }
  ]
}